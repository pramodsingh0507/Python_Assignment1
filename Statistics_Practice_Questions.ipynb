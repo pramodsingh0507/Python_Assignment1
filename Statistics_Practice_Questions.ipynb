{
  "nbformat": 4,
  "nbformat_minor": 0,
  "metadata": {
    "colab": {
      "provenance": [],
      "authorship_tag": "ABX9TyM2gNENEwbwDiP9nEUQvucP",
      "include_colab_link": true
    },
    "kernelspec": {
      "name": "python3",
      "display_name": "Python 3"
    },
    "language_info": {
      "name": "python"
    }
  },
  "cells": [
    {
      "cell_type": "markdown",
      "metadata": {
        "id": "view-in-github",
        "colab_type": "text"
      },
      "source": [
        "<a href=\"https://colab.research.google.com/github/pramodsingh0507/Python_Assignment1/blob/main/Statistics_Practice_Questions.ipynb\" target=\"_parent\"><img src=\"https://colab.research.google.com/assets/colab-badge.svg\" alt=\"Open In Colab\"/></a>"
      ]
    },
    {
      "cell_type": "code",
      "execution_count": null,
      "metadata": {
        "id": "MiZUFZgOrDHy",
        "colab": {
          "base_uri": "https://localhost:8080/"
        },
        "outputId": "e969de2e-73e8-4eba-d6ff-61aca4832c75"
      },
      "outputs": [
        {
          "output_type": "stream",
          "name": "stdout",
          "text": [
            "[108, 112, 119, 120, 125, 109, 102, 130, 95, 122, 94, 113, 127, 117, 101, 121, 111, 110, 96, 113, 91, 95, 100, 110, 117, 116, 102, 104, 97, 92, 96, 106, 115, 130, 106, 121, 107, 128, 91, 123, 99, 112, 118, 102, 120, 102, 101, 126, 100, 118, 107, 105, 90, 120, 129, 126, 95, 126, 105, 121, 123, 130, 90, 95, 109, 98, 90, 103, 98, 111, 90, 109, 125, 115, 126, 93, 97, 99, 125, 107, 107, 103, 103, 100, 103, 94, 115, 97, 107, 123, 115, 95, 112, 106, 118, 114, 90, 117, 95, 102]\n"
          ]
        }
      ],
      "source": [
        "## Ques-1) Generate a list of 100 integers containing values between 90 to 130 and store it in the variable `int_list`.\n",
        "\n",
        "import random\n",
        "\n",
        "# Generate a list of 100 integers between 90 and 130\n",
        "int_list = [random.randint(90, 130) for _ in range(100)]\n",
        "\n",
        "# Output the generated list\n",
        "print(int_list)\n",
        "\n"
      ]
    },
    {
      "cell_type": "code",
      "source": [
        "\n",
        "# i) Write a Python function to calculate the mean of a given list of numbers. Create a function to find the median of a list of numbers\n",
        "\n",
        "import random\n",
        "import statistics\n",
        "\n",
        "# Generate a list of 100 integers between 90 and 130\n",
        "int_list = [random.randint(90, 130) for _ in range(100)]\n",
        "\n",
        "# Function to calculate the mean of a given list of numbers\n",
        "def calculate_mean(lst):\n",
        "    return sum(lst) / len(lst)\n",
        "\n",
        "# Function to calculate the median of a given list of numbers\n",
        "def calculate_median(lst):\n",
        "    return statistics.median(lst)\n",
        "\n",
        "# Calculate mean and median using the generated int_list\n",
        "mean_value = calculate_mean(int_list)\n",
        "median_value = calculate_median(int_list)\n",
        "\n",
        "# Output the results\n",
        "print(\"Mean:\", mean_value)\n",
        "print(\"Median:\", median_value)\n"
      ],
      "metadata": {
        "colab": {
          "base_uri": "https://localhost:8080/"
        },
        "id": "3P9i_pMVNEiZ",
        "outputId": "41e4337f-4dec-48a9-a259-4f4e704cf01c"
      },
      "execution_count": null,
      "outputs": [
        {
          "output_type": "stream",
          "name": "stdout",
          "text": [
            "Mean: 110.08\n",
            "Median: 108.0\n"
          ]
        }
      ]
    },
    {
      "cell_type": "code",
      "source": [],
      "metadata": {
        "id": "E6oFSea3NySx"
      },
      "execution_count": null,
      "outputs": []
    },
    {
      "cell_type": "code",
      "source": [
        "# (ii) Develop a program to compute the mode of a list of integers.\n",
        "\n",
        "import random\n",
        "import statistics\n",
        "\n",
        "# Generate a list of 100 integers between 90 and 130\n",
        "int_list = [random.randint(90, 130) for _ in range(100)]\n",
        "\n",
        "# Function to compute the mode of a list of integers\n",
        "def calculate_mode(lst):\n",
        "    try:\n",
        "        return statistics.mode(lst)\n",
        "    except statistics.StatisticsError:\n",
        "        return \"No unique mode (multiple modes)\"\n",
        "\n",
        "# Calculate the mode using the generated int_list\n",
        "mode_value = calculate_mode(int_list)\n",
        "\n",
        "# Output the result\n",
        "print(\"Mode:\", mode_value)\n",
        "\n"
      ],
      "metadata": {
        "colab": {
          "base_uri": "https://localhost:8080/"
        },
        "id": "dnr-4wfRN7zU",
        "outputId": "430e1e09-7de0-4985-ccc6-4ccc6c17f1da"
      },
      "execution_count": null,
      "outputs": [
        {
          "output_type": "stream",
          "name": "stdout",
          "text": [
            "Mode: 92\n"
          ]
        }
      ]
    },
    {
      "cell_type": "code",
      "source": [],
      "metadata": {
        "id": "bZqtjwlOOC2S"
      },
      "execution_count": null,
      "outputs": []
    },
    {
      "cell_type": "code",
      "source": [
        "# (iii) Implement a function to calculate the weighted mean of a list of values and their corresponding weights.\n",
        "\n",
        "import random\n",
        "\n",
        "# Generate a list of 100 integers between 90 and 130\n",
        "int_list = [random.randint(90, 130) for _ in range(100)]\n",
        "\n",
        "# Generate random weights for the list\n",
        "weights = [random.uniform(1, 10) for _ in range(100)]  # Random weights between 1 and 10\n",
        "\n",
        "# Function to calculate the weighted mean of a list of values and their corresponding weights\n",
        "def weighted_mean(values, weights):\n",
        "    if len(values) != len(weights):\n",
        "        raise ValueError(\"The number of values must be equal to the number of weights.\")\n",
        "\n",
        "    weighted_sum = sum(v * w for v, w in zip(values, weights))\n",
        "    total_weight = sum(weights)\n",
        "\n",
        "    return weighted_sum / total_weight if total_weight != 0 else 0\n",
        "\n",
        "# Calculate the weighted mean using the generated int_list and weights\n",
        "weighted_mean_value = weighted_mean(int_list, weights)\n",
        "\n",
        "# Output the result\n",
        "print(\"Weighted Mean:\", weighted_mean_value)\n",
        "\n"
      ],
      "metadata": {
        "colab": {
          "base_uri": "https://localhost:8080/"
        },
        "id": "O44t6ZG4OEVZ",
        "outputId": "c2dd0947-f635-4f71-d7fd-95d06da7f6b8"
      },
      "execution_count": null,
      "outputs": [
        {
          "output_type": "stream",
          "name": "stdout",
          "text": [
            "Weighted Mean: 111.83913230276083\n"
          ]
        }
      ]
    },
    {
      "cell_type": "code",
      "source": [],
      "metadata": {
        "id": "WDFQAx32OXlv"
      },
      "execution_count": null,
      "outputs": []
    },
    {
      "cell_type": "code",
      "source": [
        "# (iv) Write a Python function to find the geometric mean of a list of positive numbers.\n",
        "\n",
        "import random\n",
        "import math\n",
        "\n",
        "# Generate a list of 100 positive integers between 90 and 130\n",
        "int_list = [random.randint(90, 130) for _ in range(100)]\n",
        "\n",
        "# Function to calculate the geometric mean of a list of positive numbers\n",
        "def geometric_mean(lst):\n",
        "    if len(lst) == 0:\n",
        "        raise ValueError(\"The list cannot be empty.\")\n",
        "\n",
        "    product = 1\n",
        "    for num in lst:\n",
        "        product *= num\n",
        "\n",
        "    return product ** (1 / len(lst))\n",
        "\n",
        "# Calculate the geometric mean using the generated int_list\n",
        "geo_mean_value = geometric_mean(int_list)\n",
        "\n",
        "# Output the result\n",
        "print(\"Geometric Mean:\", geo_mean_value)\n"
      ],
      "metadata": {
        "colab": {
          "base_uri": "https://localhost:8080/"
        },
        "id": "-Vwk6o-7OYmw",
        "outputId": "335ec8bb-7804-4a66-fc73-55f9bcad3de8"
      },
      "execution_count": null,
      "outputs": [
        {
          "output_type": "stream",
          "name": "stdout",
          "text": [
            "Geometric Mean: 111.01443087728057\n"
          ]
        }
      ]
    },
    {
      "cell_type": "code",
      "source": [],
      "metadata": {
        "id": "a0_OhikrOl6K"
      },
      "execution_count": null,
      "outputs": []
    },
    {
      "cell_type": "code",
      "source": [
        "# (v) Create a program to calculate the harmonic mean of a list of values.\n",
        "\n",
        "import random\n",
        "\n",
        "# Generate a list of 100 integers between 90 and 130\n",
        "int_list = [random.randint(90, 130) for _ in range(100)]\n",
        "\n",
        "# Function to calculate the harmonic mean of a list of values\n",
        "def harmonic_mean(lst):\n",
        "    if len(lst) == 0:\n",
        "        raise ValueError(\"The list cannot be empty.\")\n",
        "\n",
        "    # Sum the reciprocals of the values in the list\n",
        "    reciprocal_sum = sum(1 / x for x in lst)\n",
        "\n",
        "    # Calculate and return the harmonic mean\n",
        "    return len(lst) / reciprocal_sum\n",
        "\n",
        "# Calculate the harmonic mean using the generated int_list\n",
        "harmonic_mean_value = harmonic_mean(int_list)\n",
        "\n",
        "# Output the result\n",
        "print(\"Harmonic Mean:\", harmonic_mean_value)\n",
        "\n"
      ],
      "metadata": {
        "colab": {
          "base_uri": "https://localhost:8080/"
        },
        "id": "SXhx_tHUOsi8",
        "outputId": "fd42431b-499b-436d-ced7-ba43751c25dc"
      },
      "execution_count": null,
      "outputs": [
        {
          "output_type": "stream",
          "name": "stdout",
          "text": [
            "Harmonic Mean: 107.37668894586034\n"
          ]
        }
      ]
    },
    {
      "cell_type": "code",
      "source": [],
      "metadata": {
        "id": "SSW7ArgiPY6g"
      },
      "execution_count": null,
      "outputs": []
    },
    {
      "cell_type": "code",
      "source": [
        "# (vi) Build a function to determine the midrange of a list of numbers (average of the minimum and maximum).\n",
        "import random\n",
        "\n",
        "# Generate a list of 100 integers between 90 and 130\n",
        "int_list = [random.randint(90, 130) for _ in range(100)]\n",
        "\n",
        "# Function to calculate the midrange of a list of numbers\n",
        "def midrange(lst):\n",
        "    if len(lst) == 0:\n",
        "        raise ValueError(\"The list cannot be empty.\")\n",
        "\n",
        "    return (min(lst) + max(lst)) / 2\n",
        "\n",
        "# Calculate the midrange using the generated int_list\n",
        "midrange_value = midrange(int_list)\n",
        "\n",
        "# Output the result\n",
        "print(\"Midrange:\", midrange_value)\n"
      ],
      "metadata": {
        "colab": {
          "base_uri": "https://localhost:8080/"
        },
        "id": "fTnfznTPPcOo",
        "outputId": "ea2b18d6-a05d-4668-dbb4-fdc9ba3dcbc0"
      },
      "execution_count": null,
      "outputs": [
        {
          "output_type": "stream",
          "name": "stdout",
          "text": [
            "Midrange: 110.5\n"
          ]
        }
      ]
    },
    {
      "cell_type": "code",
      "source": [],
      "metadata": {
        "id": "nUE0pLKgPfIL"
      },
      "execution_count": null,
      "outputs": []
    },
    {
      "cell_type": "code",
      "source": [
        "# (vii) Implement a Python program to find the trimmed mean of a list, excluding a certain percentage of outliers.\n",
        "\n",
        "import random\n",
        "import statistics\n",
        "\n",
        "# Generate a list of 100 integers between 90 and 130\n",
        "int_list = [random.randint(90, 130) for _ in range(100)]\n",
        "\n",
        "# Function to calculate the trimmed mean of a list, excluding a certain percentage of outliers\n",
        "def trimmed_mean(lst, trim_percentage):\n",
        "    if len(lst) == 0:\n",
        "        raise ValueError(\"The list cannot be empty.\")\n",
        "\n",
        "    # Sort the list\n",
        "    lst_sorted = sorted(lst)\n",
        "\n",
        "    # Calculate the number of elements to remove from both ends\n",
        "    trim_count = int(len(lst) * trim_percentage / 100)\n",
        "\n",
        "    # Remove the specified percentage of the smallest and largest elements\n",
        "    trimmed_list = lst_sorted[trim_count:-trim_count] if trim_count > 0 else lst_sorted\n",
        "\n",
        "    # Calculate the mean of the remaining values\n",
        "    return statistics.mean(trimmed_list)\n",
        "\n",
        "# Example: Calculate the trimmed mean with 10% of outliers removed\n",
        "trim_percentage = 10  # For example, trimming 10% from both ends\n",
        "trimmed_mean_value = trimmed_mean(int_list, trim_percentage)\n",
        "\n",
        "# Output the result\n",
        "print(f\"Trimmed Mean (with {trim_percentage}% trimming):\", trimmed_mean_value)\n"
      ],
      "metadata": {
        "colab": {
          "base_uri": "https://localhost:8080/"
        },
        "id": "vUlj26QyPjyc",
        "outputId": "d7bc96b5-b74a-4929-f935-8463bfa297c5"
      },
      "execution_count": null,
      "outputs": [
        {
          "output_type": "stream",
          "name": "stdout",
          "text": [
            "Trimmed Mean (with 10% trimming): 109.6125\n"
          ]
        }
      ]
    },
    {
      "cell_type": "code",
      "source": [],
      "metadata": {
        "id": "biD-EU0_Pon9"
      },
      "execution_count": null,
      "outputs": []
    },
    {
      "cell_type": "code",
      "source": [],
      "metadata": {
        "id": "ncZoAzOVPqhm"
      },
      "execution_count": null,
      "outputs": []
    },
    {
      "cell_type": "code",
      "source": [
        "# Ques-2) Generate a list of 500 integers containing values between 200 to 300 and store it in the variable `int_list2`.\n",
        "# After generating the list, find the following:\n",
        "\n",
        "import random\n",
        "\n",
        "# Generate a list of 500 integers between 200 and 300\n",
        "int_list2 = [random.randint(200, 300) for _ in range(500)]\n",
        "\n",
        "# Optionally, print the first 10 values to verify\n",
        "print(int_list2[:10])\n"
      ],
      "metadata": {
        "colab": {
          "base_uri": "https://localhost:8080/"
        },
        "id": "mgvNVk5zPqq2",
        "outputId": "5fd224ac-a1b6-4683-d01a-797413c112d5"
      },
      "execution_count": null,
      "outputs": [
        {
          "output_type": "stream",
          "name": "stdout",
          "text": [
            "[279, 224, 201, 226, 296, 273, 210, 250, 251, 217]\n"
          ]
        }
      ]
    },
    {
      "cell_type": "code",
      "source": [
        "print(int_list2)"
      ],
      "metadata": {
        "colab": {
          "base_uri": "https://localhost:8080/"
        },
        "id": "P_4NRVwVPq07",
        "outputId": "9fa7683a-2e04-414f-fc26-f50f9ae0a611"
      },
      "execution_count": null,
      "outputs": [
        {
          "output_type": "stream",
          "name": "stdout",
          "text": [
            "[279, 224, 201, 226, 296, 273, 210, 250, 251, 217, 218, 224, 223, 284, 249, 286, 228, 238, 259, 213, 259, 299, 204, 268, 222, 201, 221, 288, 241, 200, 206, 233, 208, 263, 219, 204, 290, 287, 254, 221, 243, 234, 260, 292, 213, 256, 268, 254, 259, 227, 277, 249, 283, 284, 260, 293, 210, 248, 240, 218, 246, 250, 236, 235, 270, 249, 248, 214, 226, 293, 248, 202, 223, 273, 242, 240, 226, 218, 222, 242, 209, 222, 268, 279, 224, 268, 275, 274, 242, 270, 201, 221, 244, 266, 224, 262, 215, 250, 221, 235, 260, 212, 219, 275, 228, 232, 213, 297, 212, 299, 234, 205, 216, 218, 200, 274, 282, 278, 260, 206, 276, 237, 294, 206, 255, 267, 265, 236, 242, 255, 254, 247, 262, 224, 211, 233, 292, 233, 201, 295, 300, 291, 200, 258, 235, 264, 279, 236, 278, 292, 265, 253, 299, 293, 248, 223, 236, 256, 294, 219, 275, 202, 297, 295, 243, 247, 284, 271, 207, 216, 265, 203, 202, 298, 299, 239, 231, 252, 287, 230, 278, 237, 299, 272, 209, 296, 263, 234, 234, 290, 261, 289, 283, 285, 215, 207, 295, 290, 261, 217, 269, 226, 224, 203, 227, 222, 209, 259, 280, 271, 222, 222, 240, 213, 296, 224, 218, 241, 227, 280, 281, 274, 201, 202, 262, 254, 264, 236, 260, 270, 227, 242, 294, 282, 229, 227, 257, 251, 274, 274, 275, 264, 266, 211, 300, 279, 276, 235, 224, 297, 240, 257, 262, 233, 224, 291, 232, 278, 242, 293, 231, 245, 278, 269, 226, 222, 300, 218, 226, 263, 247, 293, 248, 202, 217, 233, 293, 242, 217, 283, 240, 219, 274, 250, 233, 277, 294, 220, 212, 257, 259, 240, 280, 282, 258, 231, 265, 272, 261, 234, 200, 244, 257, 224, 216, 204, 243, 203, 261, 268, 253, 246, 243, 279, 211, 280, 255, 254, 222, 229, 295, 274, 273, 222, 246, 258, 249, 291, 250, 228, 226, 278, 271, 232, 247, 241, 243, 224, 284, 243, 255, 278, 246, 215, 205, 295, 249, 237, 244, 239, 254, 274, 262, 293, 252, 280, 237, 274, 211, 234, 274, 258, 255, 238, 223, 243, 290, 249, 232, 254, 293, 241, 229, 255, 274, 276, 282, 200, 262, 247, 226, 210, 288, 252, 257, 216, 293, 212, 248, 298, 244, 265, 269, 296, 258, 259, 236, 203, 255, 229, 255, 299, 271, 294, 272, 231, 283, 285, 271, 205, 227, 243, 295, 255, 248, 235, 273, 290, 243, 201, 226, 223, 296, 234, 268, 253, 241, 233, 253, 256, 255, 267, 219, 270, 292, 210, 285, 208, 250, 259, 249, 233, 259, 228, 288, 222, 234, 218, 277, 222, 281, 236, 262, 202, 272, 297, 287, 214, 286, 254, 220, 280, 281, 202, 236, 229, 273, 205, 286, 230, 259, 286, 201, 220, 235, 243, 287, 266, 261, 283, 231, 226, 281, 263, 285, 232, 215, 281, 225, 242, 240, 280, 232, 280, 295, 210, 277, 202, 280, 231]\n"
          ]
        }
      ]
    },
    {
      "cell_type": "code",
      "source": [],
      "metadata": {
        "id": "Nr0qhjZKRR2a"
      },
      "execution_count": null,
      "outputs": []
    },
    {
      "cell_type": "code",
      "source": [
        "# (i) Compare the given list of visualisation for the given data:\n",
        "# 1. Frequency & Gaussian distribution\n",
        "# 2. Frequency smoothened KDE plot\n",
        "# 3. Gaussian distribution & smoothened KDE plot\n",
        "\n",
        "import numpy as np\n",
        "import matplotlib.pyplot as plt\n",
        "import seaborn as sns\n",
        "from scipy.stats import norm\n",
        "\n",
        "# Assuming int_list2 is already defined as a list of 500 integers between 200 and 300\n",
        "int_list2 = np.random.randint(200, 301, size=500)\n",
        "\n",
        "# 1. Frequency & Gaussian Distribution\n",
        "plt.figure(figsize=(12, 6))\n",
        "sns.histplot(int_list2, bins=30, kde=False, stat='density', color='blue', label='Frequency')\n",
        "xmin, xmax = plt.xlim()\n",
        "x = np.linspace(xmin, xmax, 100)\n",
        "p = norm.pdf(x, np.mean(int_list2), np.std(int_list2))\n",
        "plt.plot(x, p, 'k', linewidth=2, label='Gaussian Distribution')\n",
        "plt.title('Frequency Distribution & Gaussian Distribution')\n",
        "plt.legend()\n",
        "plt.show()\n",
        "\n",
        "\n"
      ],
      "metadata": {
        "colab": {
          "base_uri": "https://localhost:8080/",
          "height": 545
        },
        "id": "15yCGeteReCJ",
        "outputId": "5a24be61-1b1f-465b-d291-3f7114a04fe7"
      },
      "execution_count": null,
      "outputs": [
        {
          "output_type": "display_data",
          "data": {
            "text/plain": [
              "<Figure size 1200x600 with 1 Axes>"
            ],
            "image/png": "[encoded data removed]"
          },
          "metadata": {}
        }
      ]
    },
    {
      "cell_type": "code",
      "source": [
        "# 2. Frequency Smoothened KDE Plot\n",
        "plt.figure(figsize=(12, 6))\n",
        "sns.kdeplot(int_list2, shade=True, color=\"green\")\n",
        "plt.title('Smoothened KDE Plot')\n",
        "plt.show()"
      ],
      "metadata": {
        "colab": {
          "base_uri": "https://localhost:8080/",
          "height": 649
        },
        "id": "IfRJaWhASIuK",
        "outputId": "facdcd8c-52a1-4bf5-a06f-d60c7ea74695"
      },
      "execution_count": null,
      "outputs": [
        {
          "output_type": "stream",
          "name": "stderr",
          "text": [
            "<ipython-input-12-95229e1c2a3f>:3: FutureWarning: \n",
            "\n",
            "`shade` is now deprecated in favor of `fill`; setting `fill=True`.\n",
            "This will become an error in seaborn v0.14.0; please update your code.\n",
            "\n",
            "  sns.kdeplot(int_list2, shade=True, color=\"green\")\n"
          ]
        },
        {
          "output_type": "display_data",
          "data": {
            "text/plain": [
              "<Figure size 1200x600 with 1 Axes>"
            ],
            "image/png": "[encoded data removed]"
          },
          "metadata": {}
        }
      ]
    },
    {
      "cell_type": "code",
      "source": [
        "# 3. Gaussian Distribution & Smoothened KDE Plot\n",
        "plt.figure(figsize=(12, 6))\n",
        "sns.kdeplot(int_list2, shade=True, color=\"green\", label='Smoothened KDE')\n",
        "plt.plot(x, p, 'k', linewidth=2, label='Gaussian Distribution')\n",
        "plt.title('Gaussian Distribution & Smoothened KDE Plot')\n",
        "plt.legend()\n",
        "plt.show()"
      ],
      "metadata": {
        "colab": {
          "base_uri": "https://localhost:8080/",
          "height": 649
        },
        "id": "pqrEyitXSRM2",
        "outputId": "a6ff9a1c-bd25-40ed-b66f-bef079fbb2c9"
      },
      "execution_count": null,
      "outputs": [
        {
          "output_type": "stream",
          "name": "stderr",
          "text": [
            "<ipython-input-13-8e451db4b0b6>:3: FutureWarning: \n",
            "\n",
            "`shade` is now deprecated in favor of `fill`; setting `fill=True`.\n",
            "This will become an error in seaborn v0.14.0; please update your code.\n",
            "\n",
            "  sns.kdeplot(int_list2, shade=True, color=\"green\", label='Smoothened KDE')\n"
          ]
        },
        {
          "output_type": "display_data",
          "data": {
            "text/plain": [
              "<Figure size 1200x600 with 1 Axes>"
            ],
            "image/png": "[encoded data removed]"
          },
          "metadata": {}
        }
      ]
    },
    {
      "cell_type": "code",
      "source": [],
      "metadata": {
        "id": "8TaQQ_3TSUSH"
      },
      "execution_count": null,
      "outputs": []
    },
    {
      "cell_type": "code",
      "source": [],
      "metadata": {
        "id": "AlFGvQsOTLUj"
      },
      "execution_count": null,
      "outputs": []
    },
    {
      "cell_type": "code",
      "source": [
        "# (ii) Write a Python function to calculate the range of a given list of numbers.\n",
        "import random\n",
        "\n",
        "# Generate a list of 500 integers between 200 and 300\n",
        "int_list2 = [random.randint(200, 300) for _ in range(500)]\n",
        "\n",
        "# Function to calculate the range of a list of numbers\n",
        "def calculate_range(numbers):\n",
        "    # Ensure the list is not empty\n",
        "    if not numbers:\n",
        "        return \"The list is empty, range cannot be calculated.\"\n",
        "\n",
        "    # Calculate the range (max - min)\n",
        "    return max(numbers) - min(numbers)\n",
        "\n",
        "# Calculate the range of int_list2\n",
        "range_of_int_list2 = calculate_range(int_list2)\n",
        "\n",
        "# Print the result\n",
        "print(f\"The range of int_list2 is: {range_of_int_list2}\")\n"
      ],
      "metadata": {
        "colab": {
          "base_uri": "https://localhost:8080/"
        },
        "id": "r6Oe037rS_bh",
        "outputId": "bb6a622f-252d-4d4e-f0be-95b613657359"
      },
      "execution_count": null,
      "outputs": [
        {
          "output_type": "stream",
          "name": "stdout",
          "text": [
            "The range of int_list2 is: 100\n"
          ]
        }
      ]
    },
    {
      "cell_type": "code",
      "source": [],
      "metadata": {
        "id": "K6OT-9NMSfBZ"
      },
      "execution_count": null,
      "outputs": []
    },
    {
      "cell_type": "code",
      "source": [
        "# (iii) Create a program to find the variance and standard deviation of a list of numbers\n",
        "\n",
        "import random\n",
        "import math\n",
        "\n",
        "# Generate a list of 500 integers between 200 and 300\n",
        "int_list2 = [random.randint(200, 300) for _ in range(500)]\n",
        "\n",
        "# Function to calculate variance\n",
        "def calculate_variance(numbers):\n",
        "    if len(numbers) < 2:\n",
        "        return \"Variance requires at least two numbers\"\n",
        "\n",
        "    # Calculate the mean of the list\n",
        "    mean = sum(numbers) / len(numbers)\n",
        "\n",
        "    # Calculate the variance\n",
        "    variance = sum((x - mean) ** 2 for x in numbers) / len(numbers)\n",
        "\n",
        "    return variance\n",
        "\n",
        "# Function to calculate standard deviation\n",
        "def calculate_standard_deviation(numbers):\n",
        "    # Standard deviation is the square root of variance\n",
        "    variance = calculate_variance(numbers)\n",
        "\n",
        "    if isinstance(variance, str):\n",
        "        return variance  # Return error message if variance is invalid\n",
        "\n",
        "    # Calculate the standard deviation\n",
        "    return math.sqrt(variance)\n",
        "\n",
        "# Calculate the variance and standard deviation of int_list2\n",
        "variance = calculate_variance(int_list2)\n",
        "standard_deviation = calculate_standard_deviation(int_list2)\n",
        "\n",
        "# Output the results\n",
        "print(f\"Variance: {variance}\")\n",
        "print(f\"Standard Deviation: {standard_deviation}\")\n"
      ],
      "metadata": {
        "colab": {
          "base_uri": "https://localhost:8080/"
        },
        "id": "HXwyREYKSfE8",
        "outputId": "07a0b011-a89a-4d6c-b15b-99b0fd4b89a9"
      },
      "execution_count": null,
      "outputs": [
        {
          "output_type": "stream",
          "name": "stdout",
          "text": [
            "Variance: 763.4525239999992\n",
            "Standard Deviation: 27.63064465407927\n"
          ]
        }
      ]
    },
    {
      "cell_type": "code",
      "source": [],
      "metadata": {
        "id": "MgNBJgGjTa00"
      },
      "execution_count": null,
      "outputs": []
    },
    {
      "cell_type": "code",
      "source": [
        "# (iv) Implement a function to compute the interquartile range (IQR) of a list of values.\n",
        "\n",
        "import random\n",
        "import numpy as np\n",
        "\n",
        "# Generate a list of 500 integers between 200 and 300\n",
        "int_list2 = [random.randint(200, 300) for _ in range(500)]\n",
        "\n",
        "# Function to calculate the Interquartile Range (IQR)\n",
        "def calculate_iqr(numbers):\n",
        "    # Ensure the list has enough elements\n",
        "    if len(numbers) < 2:\n",
        "        return \"The list is too small to calculate the IQR.\"\n",
        "\n",
        "    # Sort the list to calculate the quartiles\n",
        "    numbers_sorted = sorted(numbers)\n",
        "\n",
        "    # Compute Q1 and Q3 using numpy's percentile function\n",
        "    Q1 = np.percentile(numbers_sorted, 25)  # 25th percentile (1st quartile)\n",
        "    Q3 = np.percentile(numbers_sorted, 75)  # 75th percentile (3rd quartile)\n",
        "\n",
        "    # Calculate the IQR\n",
        "    iqr = Q3 - Q1\n",
        "    return iqr\n",
        "\n",
        "# Calculate the IQR of int_list2\n",
        "iqr_of_int_list2 = calculate_iqr(int_list2)\n",
        "\n",
        "# Print the result\n",
        "print(f\"The Interquartile Range (IQR) of int_list2 is: {iqr_of_int_list2}\")\n"
      ],
      "metadata": {
        "colab": {
          "base_uri": "https://localhost:8080/"
        },
        "id": "DZFrkUYHTgHt",
        "outputId": "2233a678-71c1-468d-836a-ace9b2792c89"
      },
      "execution_count": null,
      "outputs": [
        {
          "output_type": "stream",
          "name": "stdout",
          "text": [
            "The Interquartile Range (IQR) of int_list2 is: 50.0\n"
          ]
        }
      ]
    },
    {
      "cell_type": "code",
      "source": [],
      "metadata": {
        "id": "RRCfw7xmTtRR"
      },
      "execution_count": null,
      "outputs": []
    },
    {
      "cell_type": "code",
      "source": [
        "# (v) Build a program to calculate the coefficient of variation for a dataset.\n",
        "\n",
        "import random\n",
        "import math\n",
        "\n",
        "# Generate a list of 500 integers between 200 and 300\n",
        "int_list2 = [random.randint(200, 300) for _ in range(500)]\n",
        "\n",
        "# Function to calculate the mean of the list\n",
        "def calculate_mean(numbers):\n",
        "    return sum(numbers) / len(numbers)\n",
        "\n",
        "# Function to calculate the standard deviation of the list\n",
        "def calculate_standard_deviation(numbers):\n",
        "    mean = calculate_mean(numbers)\n",
        "    variance = sum((x - mean) ** 2 for x in numbers) / len(numbers)\n",
        "    return math.sqrt(variance)\n",
        "\n",
        "# Function to calculate the Coefficient of Variation (CV)\n",
        "def calculate_coefficient_of_variation(numbers):\n",
        "    mean = calculate_mean(numbers)\n",
        "    if mean == 0:\n",
        "        return \"Mean is zero, CV cannot be calculated.\"\n",
        "\n",
        "    std_dev = calculate_standard_deviation(numbers)\n",
        "    cv = (std_dev / mean) * 100\n",
        "    return cv\n",
        "\n",
        "# Calculate the Coefficient of Variation of int_list2\n",
        "cv_of_int_list2 = calculate_coefficient_of_variation(int_list2)\n",
        "\n",
        "# Print the result\n",
        "print(f\"The Coefficient of Variation (CV) of int_list2 is: {cv_of_int_list2:.2f}%\")\n"
      ],
      "metadata": {
        "colab": {
          "base_uri": "https://localhost:8080/"
        },
        "id": "hEmZKKFATq_D",
        "outputId": "4d268bc7-0001-42e6-d01d-2adbdfa5a19b"
      },
      "execution_count": null,
      "outputs": [
        {
          "output_type": "stream",
          "name": "stdout",
          "text": [
            "The Coefficient of Variation (CV) of int_list2 is: 11.39%\n"
          ]
        }
      ]
    },
    {
      "cell_type": "code",
      "source": [],
      "metadata": {
        "id": "qhKZ_HgkT3mM"
      },
      "execution_count": null,
      "outputs": []
    },
    {
      "cell_type": "code",
      "source": [
        "# (vi) Write a Python function to find the mean absolute deviation (MAD) of a list of numbers.\n",
        "\n",
        "import random\n",
        "\n",
        "# Generate a list of 500 integers between 200 and 300\n",
        "int_list2 = [random.randint(200, 300) for _ in range(500)]\n",
        "\n",
        "# Function to calculate the mean of the list\n",
        "def calculate_mean(numbers):\n",
        "    return sum(numbers) / len(numbers)\n",
        "\n",
        "# Function to calculate the Mean Absolute Deviation (MAD)\n",
        "def calculate_mad(numbers):\n",
        "    mean = calculate_mean(numbers)\n",
        "    mad = sum(abs(x - mean) for x in numbers) / len(numbers)\n",
        "    return mad\n",
        "\n",
        "# Calculate the Mean Absolute Deviation (MAD) of int_list2\n",
        "mad_of_int_list2 = calculate_mad(int_list2)\n",
        "\n",
        "# Print the result\n",
        "print(f\"The Mean Absolute Deviation (MAD) of int_list2 is: {mad_of_int_list2:.2f}\")\n"
      ],
      "metadata": {
        "colab": {
          "base_uri": "https://localhost:8080/"
        },
        "id": "Bao9KBhiUBr1",
        "outputId": "2702a6ca-a32e-437c-f30e-d007b53ed043"
      },
      "execution_count": null,
      "outputs": [
        {
          "output_type": "stream",
          "name": "stdout",
          "text": [
            "The Mean Absolute Deviation (MAD) of int_list2 is: 25.41\n"
          ]
        }
      ]
    },
    {
      "cell_type": "code",
      "source": [],
      "metadata": {
        "id": "gfv6oGGSUGnN"
      },
      "execution_count": null,
      "outputs": []
    },
    {
      "cell_type": "code",
      "source": [
        "# (vii) Create a program to calculate the quartile deviation of a list of values.\n",
        "\n",
        "import random\n",
        "import numpy as np\n",
        "\n",
        "# Generate a list of 500 integers between 200 and 300\n",
        "int_list2 = [random.randint(200, 300) for _ in range(500)]\n",
        "\n",
        "# Function to calculate the Quartile Deviation (QD)\n",
        "def calculate_quartile_deviation(numbers):\n",
        "    # Sort the list to calculate the quartiles\n",
        "    numbers_sorted = sorted(numbers)\n",
        "\n",
        "    # Compute Q1 (25th percentile) and Q3 (75th percentile)\n",
        "    Q1 = np.percentile(numbers_sorted, 25)\n",
        "    Q3 = np.percentile(numbers_sorted, 75)\n",
        "\n",
        "    # Calculate the Quartile Deviation\n",
        "    quartile_deviation = (Q3 - Q1) / 2\n",
        "    return quartile_deviation\n",
        "\n",
        "# Calculate the Quartile Deviation of int_list2\n",
        "qd_of_int_list2 = calculate_quartile_deviation(int_list2)\n",
        "\n",
        "# Print the result\n",
        "print(f\"The Quartile Deviation (QD) of int_list2 is: {qd_of_int_list2:.2f}\")\n"
      ],
      "metadata": {
        "colab": {
          "base_uri": "https://localhost:8080/"
        },
        "id": "Vp-voru6UMG6",
        "outputId": "6a354dd4-f9e0-4016-f641-0eaf21b2b895"
      },
      "execution_count": null,
      "outputs": [
        {
          "output_type": "stream",
          "name": "stdout",
          "text": [
            "The Quartile Deviation (QD) of int_list2 is: 24.00\n"
          ]
        }
      ]
    },
    {
      "cell_type": "code",
      "source": [],
      "metadata": {
        "id": "D27H7jSxUQtB"
      },
      "execution_count": null,
      "outputs": []
    },
    {
      "cell_type": "code",
      "source": [
        "# (viii) Implement a function to find the range-based coefficient of dispersion for a dataset.\n",
        "\n",
        "import random\n",
        "\n",
        "# Generate a list of 500 integers between 200 and 300\n",
        "int_list2 = [random.randint(200, 300) for _ in range(500)]\n",
        "\n",
        "# Function to calculate the mean of the list\n",
        "def calculate_mean(numbers):\n",
        "    return sum(numbers) / len(numbers)\n",
        "\n",
        "# Function to calculate the Range-Based Coefficient of Dispersion (CD)\n",
        "def calculate_cd(numbers):\n",
        "    # Calculate the range (Max - Min)\n",
        "    range_value = max(numbers) - min(numbers)\n",
        "\n",
        "    # Calculate the mean\n",
        "    mean = calculate_mean(numbers)\n",
        "\n",
        "    # Avoid division by zero\n",
        "    if mean == 0:\n",
        "        return \"Mean is zero, CD cannot be calculated.\"\n",
        "\n",
        "    # Calculate the Coefficient of Dispersion (CD)\n",
        "    cd = range_value / mean\n",
        "    return cd\n",
        "\n",
        "# Calculate the Range-Based Coefficient of Dispersion (CD) of int_list2\n",
        "cd_of_int_list2 = calculate_cd(int_list2)\n",
        "\n",
        "# Print the result\n",
        "print(f\"The Range-Based Coefficient of Dispersion (CD) of int_list2 is: {cd_of_int_list2:.4f}\")\n"
      ],
      "metadata": {
        "colab": {
          "base_uri": "https://localhost:8080/"
        },
        "id": "gl2GNbRZUXLI",
        "outputId": "638ae80b-90bb-49c9-a042-6d605ad386e3"
      },
      "execution_count": null,
      "outputs": [
        {
          "output_type": "stream",
          "name": "stdout",
          "text": [
            "The Range-Based Coefficient of Dispersion (CD) of int_list2 is: 0.4018\n"
          ]
        }
      ]
    },
    {
      "cell_type": "code",
      "source": [],
      "metadata": {
        "id": "uKiujejrUaoA"
      },
      "execution_count": null,
      "outputs": []
    },
    {
      "cell_type": "code",
      "source": [],
      "metadata": {
        "id": "abdDtlE0UfTn"
      },
      "execution_count": null,
      "outputs": []
    },
    {
      "cell_type": "code",
      "source": [
        "# Ques-3) ) Write a Python class representing a discrete random variable with methods to calculate its expected value and variance.\n",
        "\n",
        "\n",
        "class DiscreteRandomVariable:\n",
        "    def __init__(self, outcomes, probabilities):\n",
        "        \"\"\"\n",
        "        Initializes a discrete random variable with possible outcomes and their corresponding probabilities.\n",
        "\n",
        "        :param outcomes: List of possible outcomes (x_i)\n",
        "        :param probabilities: List of probabilities corresponding to each outcome (p_i)\n",
        "        \"\"\"\n",
        "        if len(outcomes) != len(probabilities):\n",
        "            raise ValueError(\"Outcomes and probabilities must have the same length.\")\n",
        "\n",
        "        if not all(0 <= p <= 1 for p in probabilities) or sum(probabilities) != 1:\n",
        "            raise ValueError(\"Probabilities must be between 0 and 1 and must sum to 1.\")\n",
        "\n",
        "        self.outcomes = outcomes\n",
        "        self.probabilities = probabilities\n",
        "\n",
        "    def expected_value(self):\n",
        "        \"\"\"\n",
        "        Calculate and return the expected value (mean) of the discrete random variable.\n",
        "\n",
        "        :return: Expected value (E[X])\n",
        "        \"\"\"\n",
        "        return sum(x * p for x, p in zip(self.outcomes, self.probabilities))\n",
        "\n",
        "    def variance(self):\n",
        "        \"\"\"\n",
        "        Calculate and return the variance of the discrete random variable.\n",
        "\n",
        "        :return: Variance (Var[X])\n",
        "        \"\"\"\n",
        "        mean = self.expected_value()\n",
        "        return sum(p * (x - mean) ** 2 for x, p in zip(self.outcomes, self.probabilities))\n",
        "\n",
        "\n",
        "# Example usage:\n",
        "\n",
        "# Define a discrete random variable with outcomes and their probabilities\n",
        "outcomes = [1, 2, 3, 4]\n",
        "probabilities = [0.1, 0.2, 0.3, 0.4]  # Probabilities should sum to 1\n",
        "\n",
        "# Create an instance of the DiscreteRandomVariable class\n",
        "random_variable = DiscreteRandomVariable(outcomes, probabilities)\n",
        "\n",
        "# Calculate expected value and variance\n",
        "expected_val = random_variable.expected_value()\n",
        "variance_val = random_variable.variance()\n",
        "\n",
        "# Output the results\n",
        "print(f\"Expected Value: {expected_val}\")\n",
        "print(f\"Variance: {variance_val}\")\n"
      ],
      "metadata": {
        "colab": {
          "base_uri": "https://localhost:8080/"
        },
        "id": "IurHK_5iUfbN",
        "outputId": "09fd0d62-f39b-4fd2-a972-da2c3541ff59"
      },
      "execution_count": null,
      "outputs": [
        {
          "output_type": "stream",
          "name": "stdout",
          "text": [
            "Expected Value: 3.0\n",
            "Variance: 1.0\n"
          ]
        }
      ]
    },
    {
      "cell_type": "code",
      "source": [],
      "metadata": {
        "id": "qVH2Wr_vVL5H"
      },
      "execution_count": null,
      "outputs": []
    },
    {
      "cell_type": "code",
      "source": [],
      "metadata": {
        "id": "Kx_a9X9aVNl0"
      },
      "execution_count": null,
      "outputs": []
    },
    {
      "cell_type": "code",
      "source": [
        "# Ques 4 Implement a program to simulate the rolling of a fair six-sided die and calculate the expected value and variance of the outcomes.\n",
        "\n",
        "import random\n",
        "\n",
        "# Function to simulate rolling a fair six-sided die\n",
        "def roll_die(num_rolls):\n",
        "    outcomes = [random.randint(1, 6) for _ in range(num_rolls)]\n",
        "    return outcomes\n",
        "\n",
        "# Function to calculate the expected value (mean) of the outcomes\n",
        "def calculate_expected_value(outcomes):\n",
        "    return sum(outcomes) / len(outcomes)\n",
        "\n",
        "# Function to calculate the variance of the outcomes\n",
        "def calculate_variance(outcomes, expected_value):\n",
        "    return sum((x - expected_value) ** 2 for x in outcomes) / len(outcomes)\n",
        "\n",
        "# Main code to simulate the die rolls\n",
        "num_rolls = 1000  # Number of rolls\n",
        "outcomes = roll_die(num_rolls)\n",
        "\n",
        "# Calculate the expected value and variance\n",
        "expected_value = calculate_expected_value(outcomes)\n",
        "variance = calculate_variance(outcomes, expected_value)\n",
        "\n",
        "# Output the results\n",
        "print(f\"Expected Value: {expected_value}\")\n",
        "print(f\"Variance: {variance}\")\n"
      ],
      "metadata": {
        "colab": {
          "base_uri": "https://localhost:8080/"
        },
        "id": "qbg_znsiVVKw",
        "outputId": "b2acda0b-b389-400e-bb11-e132dc3d938c"
      },
      "execution_count": null,
      "outputs": [
        {
          "output_type": "stream",
          "name": "stdout",
          "text": [
            "Expected Value: 3.51\n",
            "Variance: 2.9938999999999827\n"
          ]
        }
      ]
    },
    {
      "cell_type": "code",
      "source": [],
      "metadata": {
        "id": "Pr64k1XJVijA"
      },
      "execution_count": null,
      "outputs": []
    },
    {
      "cell_type": "code",
      "source": [],
      "metadata": {
        "id": "KXprDuINVjQS"
      },
      "execution_count": null,
      "outputs": []
    },
    {
      "cell_type": "code",
      "source": [
        "# Ques 5 Create a Python function to generate random samples from a given probability distribution\n",
        "#  (e.g., binomial, Poisson) and calculate their mean and variance.\n",
        "\n",
        "import numpy as np\n",
        "\n",
        "# Function to generate random samples from a binomial distribution and calculate mean and variance\n",
        "def generate_binomial_samples(n, p, size):\n",
        "    # Generate random samples from a binomial distribution\n",
        "    samples = np.random.binomial(n, p, size)\n",
        "\n",
        "    # Calculate mean and variance\n",
        "    mean = np.mean(samples)\n",
        "    variance = np.var(samples)\n",
        "\n",
        "    return samples, mean, variance\n",
        "\n",
        "# Function to generate random samples from a Poisson distribution and calculate mean and variance\n",
        "def generate_poisson_samples(lam, size):\n",
        "    # Generate random samples from a Poisson distribution\n",
        "    samples = np.random.poisson(lam, size)\n",
        "\n",
        "    # Calculate mean and variance\n",
        "    mean = np.mean(samples)\n",
        "    variance = np.var(samples)\n",
        "\n",
        "    return samples, mean, variance\n",
        "\n",
        "# Example Usage\n",
        "# Binomial Distribution: n = 10 trials, p = 0.5 probability of success, size = 1000 samples\n",
        "binomial_samples, binomial_mean, binomial_variance = generate_binomial_samples(10, 0.5, 1000)\n",
        "print(f\"Binomial Distribution - Mean: {binomial_mean}, Variance: {binomial_variance}\")\n",
        "\n",
        "# Poisson Distribution: lam = 5 rate of occurrence, size = 1000 samples\n",
        "poisson_samples, poisson_mean, poisson_variance = generate_poisson_samples(5, 1000)\n",
        "print(f\"Poisson Distribution - Mean: {poisson_mean}, Variance: {poisson_variance}\")\n"
      ],
      "metadata": {
        "colab": {
          "base_uri": "https://localhost:8080/"
        },
        "id": "zBrZz-0WVjc2",
        "outputId": "09b0dcbb-3571-4e8c-99a0-97776e6d341d"
      },
      "execution_count": null,
      "outputs": [
        {
          "output_type": "stream",
          "name": "stdout",
          "text": [
            "Binomial Distribution - Mean: 5.072, Variance: 2.6808159999999996\n",
            "Poisson Distribution - Mean: 5.021, Variance: 5.040558999999999\n"
          ]
        }
      ]
    },
    {
      "cell_type": "code",
      "source": [],
      "metadata": {
        "id": "DU_oy0TQV6UZ"
      },
      "execution_count": null,
      "outputs": []
    },
    {
      "cell_type": "code",
      "source": [],
      "metadata": {
        "id": "cK5pcD55afV6"
      },
      "execution_count": null,
      "outputs": []
    },
    {
      "cell_type": "code",
      "source": [
        "# Ques-6) Write a Python script to generate random numbers from a Gaussian (normal) distribution and compute the mean,\n",
        "#  variance, and standard deviation of the samples.\n",
        "\n",
        "import numpy as np\n",
        "\n",
        "# Function to generate random numbers from a Gaussian distribution and calculate statistics\n",
        "def generate_gaussian_samples(mu, sigma, size):\n",
        "    # Generate random numbers from a Gaussian distribution (normal distribution)\n",
        "    samples = np.random.normal(mu, sigma, size)\n",
        "\n",
        "    # Calculate the mean, variance, and standard deviation of the samples\n",
        "    mean = np.mean(samples)\n",
        "    variance = np.var(samples)\n",
        "    std_deviation = np.std(samples)\n",
        "\n",
        "    return samples, mean, variance, std_deviation\n",
        "\n",
        "# Example Usage\n",
        "mu = 0        # Mean of the distribution\n",
        "sigma = 1     # Standard deviation of the distribution\n",
        "size = 1000   # Number of samples\n",
        "\n",
        "# Generate Gaussian samples and calculate statistics\n",
        "samples, mean, variance, std_deviation = generate_gaussian_samples(mu, sigma, size)\n",
        "\n",
        "# Output the results\n",
        "print(f\"Generated {size} samples from a Gaussian distribution:\")\n",
        "print(f\"Mean: {mean}\")\n",
        "print(f\"Variance: {variance}\")\n",
        "print(f\"Standard Deviation: {std_deviation}\")\n"
      ],
      "metadata": {
        "colab": {
          "base_uri": "https://localhost:8080/"
        },
        "id": "1hJGWsN6afpk",
        "outputId": "822ebd34-8963-4a77-cdf0-b46707a403a6"
      },
      "execution_count": null,
      "outputs": [
        {
          "output_type": "stream",
          "name": "stdout",
          "text": [
            "Generated 1000 samples from a Gaussian distribution:\n",
            "Mean: 0.04742571500445021\n",
            "Variance: 0.9722566841478578\n",
            "Standard Deviation: 0.9860307724142577\n"
          ]
        }
      ]
    },
    {
      "cell_type": "code",
      "source": [],
      "metadata": {
        "id": "eIt3ocQua3It"
      },
      "execution_count": null,
      "outputs": []
    },
    {
      "cell_type": "code",
      "source": [],
      "metadata": {
        "id": "UeKUF-l0bg1C"
      },
      "execution_count": null,
      "outputs": []
    },
    {
      "cell_type": "code",
      "source": [
        "# Ques-7) )Use seaborn library to load tips dataset. Find the following from the dataset for the columns total_bill and tip`:\n",
        "# (i) Write a Python function that calculates their skewness.\n",
        "\n",
        "\n",
        "import seaborn as sns\n",
        "import scipy.stats as stats\n",
        "\n",
        "# Load the tips dataset from seaborn\n",
        "tips = sns.load_dataset('tips')\n",
        "\n",
        "# Function to calculate skewness for a given column\n",
        "def calculate_skewness(column):\n",
        "    skewness = stats.skew(column)\n",
        "    return skewness\n",
        "\n",
        "# Calculate skewness for 'total_bill' and 'tip'\n",
        "total_bill_skewness = calculate_skewness(tips['total_bill'])\n",
        "tip_skewness = calculate_skewness(tips['tip'])\n",
        "\n",
        "# Output the results\n",
        "print(f\"Skewness of 'total_bill': {total_bill_skewness}\")\n",
        "print(f\"Skewness of 'tip': {tip_skewness}\")\n"
      ],
      "metadata": {
        "colab": {
          "base_uri": "https://localhost:8080/"
        },
        "id": "9obgMc37bg7w",
        "outputId": "2fb2d2ed-9e2f-4064-fa07-e642f404c08d"
      },
      "execution_count": null,
      "outputs": [
        {
          "output_type": "stream",
          "name": "stdout",
          "text": [
            "Skewness of 'total_bill': 1.1262346334818638\n",
            "Skewness of 'tip': 1.4564266884221506\n"
          ]
        }
      ]
    },
    {
      "cell_type": "code",
      "source": [],
      "metadata": {
        "id": "ZOSybnkvcPwt"
      },
      "execution_count": null,
      "outputs": []
    },
    {
      "cell_type": "code",
      "source": [
        "# (ii) Create a program that determines whether the columns exhibit positive skewness, negative skewness, or are approximately symmetric.\n",
        "\n",
        "import seaborn as sns\n",
        "import scipy.stats as stats\n",
        "\n",
        "# Load the tips dataset from seaborn\n",
        "tips = sns.load_dataset('tips')\n",
        "\n",
        "# Function to calculate skewness and determine its type\n",
        "def determine_skewness_type(column):\n",
        "    skewness = stats.skew(column)\n",
        "\n",
        "    if skewness > 0:\n",
        "        skewness_type = 'Positive Skewness (Right Skewed)'\n",
        "    elif skewness < 0:\n",
        "        skewness_type = 'Negative Skewness (Left Skewed)'\n",
        "    else:\n",
        "        skewness_type = 'Approximately Symmetric'\n",
        "\n",
        "    return skewness, skewness_type\n",
        "\n",
        "# Calculate and determine skewness type for 'total_bill' and 'tip'\n",
        "total_bill_skewness, total_bill_skewness_type = determine_skewness_type(tips['total_bill'])\n",
        "tip_skewness, tip_skewness_type = determine_skewness_type(tips['tip'])\n",
        "\n",
        "# Output the results\n",
        "print(f\"Skewness of 'total_bill': {total_bill_skewness}, Type: {total_bill_skewness_type}\")\n",
        "print(f\"Skewness of 'tip': {tip_skewness}, Type: {tip_skewness_type}\")\n"
      ],
      "metadata": {
        "colab": {
          "base_uri": "https://localhost:8080/"
        },
        "id": "y-tJk83Tbius",
        "outputId": "7a660377-5f95-4994-b440-a9ab423e2363"
      },
      "execution_count": null,
      "outputs": [
        {
          "output_type": "stream",
          "name": "stdout",
          "text": [
            "Skewness of 'total_bill': 1.1262346334818638, Type: Positive Skewness (Right Skewed)\n",
            "Skewness of 'tip': 1.4564266884221506, Type: Positive Skewness (Right Skewed)\n"
          ]
        }
      ]
    },
    {
      "cell_type": "code",
      "source": [],
      "metadata": {
        "id": "ipTZwm5_cNbm"
      },
      "execution_count": null,
      "outputs": []
    },
    {
      "cell_type": "code",
      "source": [
        "# (iii) Write a function that calculates the covariance between two columns.\n",
        "\n",
        "import seaborn as sns\n",
        "import numpy as np\n",
        "\n",
        "# Load the tips dataset from seaborn\n",
        "tips = sns.load_dataset('tips')\n",
        "\n",
        "# Function to calculate covariance between two columns\n",
        "def calculate_covariance(column1, column2):\n",
        "    covariance_matrix = np.cov(column1, column2)\n",
        "    # Covariance is the off-diagonal element of the covariance matrix\n",
        "    covariance = covariance_matrix[0, 1]\n",
        "    return covariance\n",
        "\n",
        "# Calculate covariance between 'total_bill' and 'tip'\n",
        "covariance_total_bill_tip = calculate_covariance(tips['total_bill'], tips['tip'])\n",
        "\n",
        "# Output the result\n",
        "print(f\"Covariance between 'total_bill' and 'tip': {covariance_total_bill_tip}\")\n",
        "\n"
      ],
      "metadata": {
        "colab": {
          "base_uri": "https://localhost:8080/"
        },
        "id": "ApLQUSnBb-uC",
        "outputId": "f36b96fb-e062-4076-e234-cb1545400ec2"
      },
      "execution_count": null,
      "outputs": [
        {
          "output_type": "stream",
          "name": "stdout",
          "text": [
            "Covariance between 'total_bill' and 'tip': 8.323501629224854\n"
          ]
        }
      ]
    },
    {
      "cell_type": "code",
      "source": [],
      "metadata": {
        "id": "rMofyCpQcLB9"
      },
      "execution_count": null,
      "outputs": []
    },
    {
      "cell_type": "code",
      "source": [
        "# (iv) Implement a Python program that calculates the Pearson correlation coefficient between two columns.\n",
        "import seaborn as sns\n",
        "import numpy as np\n",
        "\n",
        "# Load the tips dataset from seaborn\n",
        "tips = sns.load_dataset('tips')\n",
        "\n",
        "# Function to calculate Pearson correlation coefficient between two columns\n",
        "def calculate_pearson_correlation(column1, column2):\n",
        "    # Using numpy's corrcoef to compute Pearson correlation coefficient\n",
        "    correlation_matrix = np.corrcoef(column1, column2)\n",
        "    # Pearson correlation coefficient is the off-diagonal element\n",
        "    correlation = correlation_matrix[0, 1]\n",
        "    return correlation\n",
        "\n",
        "# Calculate Pearson correlation coefficient between 'total_bill' and 'tip'\n",
        "pearson_correlation_total_bill_tip = calculate_pearson_correlation(tips['total_bill'], tips['tip'])\n",
        "\n",
        "# Output the result\n",
        "print(f\"Pearson Correlation Coefficient between 'total_bill' and 'tip': {pearson_correlation_total_bill_tip}\")\n"
      ],
      "metadata": {
        "colab": {
          "base_uri": "https://localhost:8080/"
        },
        "id": "lDJ5-IxAcMRG",
        "outputId": "989812c3-149a-40fd-b36c-1fce991c4f89"
      },
      "execution_count": null,
      "outputs": [
        {
          "output_type": "stream",
          "name": "stdout",
          "text": [
            "Pearson Correlation Coefficient between 'total_bill' and 'tip': 0.6757341092113641\n"
          ]
        }
      ]
    },
    {
      "cell_type": "code",
      "source": [],
      "metadata": {
        "id": "RPCzAnKlcaz8"
      },
      "execution_count": null,
      "outputs": []
    },
    {
      "cell_type": "code",
      "source": [
        "# (v) Write a script to visualise the correlation between two specific columns in a Pandas DataFrame using scatter plots.\n",
        "\n",
        "import seaborn as sns\n",
        "import matplotlib.pyplot as plt\n",
        "\n",
        "# Load the tips dataset from seaborn\n",
        "tips = sns.load_dataset('tips')\n",
        "\n",
        "# Function to plot the scatter plot and visualize the correlation\n",
        "def plot_scatter(column1, column2):\n",
        "    # Create a scatter plot using seaborn\n",
        "    sns.scatterplot(x=column1, y=column2, data=tips)\n",
        "\n",
        "    # Add title and labels to the plot\n",
        "    plt.title(f\"Scatter Plot of {column1.name} vs {column2.name}\")\n",
        "    plt.xlabel(column1.name)\n",
        "    plt.ylabel(column2.name)\n",
        "\n",
        "    # Display the plot\n",
        "    plt.show()\n",
        "\n",
        "# Visualize the correlation between 'total_bill' and 'tip'\n",
        "plot_scatter(tips['total_bill'], tips['tip'])\n"
      ],
      "metadata": {
        "colab": {
          "base_uri": "https://localhost:8080/",
          "height": 472
        },
        "id": "hlMVviZCceYB",
        "outputId": "1a123fd4-b853-40c4-ea14-86da9d3658af"
      },
      "execution_count": null,
      "outputs": [
        {
          "output_type": "display_data",
          "data": {
            "text/plain": [
              "<Figure size 640x480 with 1 Axes>"
            ],
            "image/png": "[encoded data removed]"
          },
          "metadata": {}
        }
      ]
    },
    {
      "cell_type": "code",
      "source": [],
      "metadata": {
        "id": "nXaBayKsclzD"
      },
      "execution_count": null,
      "outputs": []
    },
    {
      "cell_type": "code",
      "source": [],
      "metadata": {
        "id": "UqQZyCoYcu4Y"
      },
      "execution_count": null,
      "outputs": []
    },
    {
      "cell_type": "code",
      "source": [],
      "metadata": {
        "id": "iYOufoK4czC7"
      },
      "execution_count": null,
      "outputs": []
    },
    {
      "cell_type": "code",
      "source": [
        "# 8) Write a Python function to calculate the probability density function (PDF) of a continuous random variable for a given normal distribution.\n",
        "\n",
        "import numpy as np\n",
        "import matplotlib.pyplot as plt\n",
        "from scipy.stats import norm\n",
        "\n",
        "# Function to calculate the PDF of a normal distribution\n",
        "def calculate_pdf(x, mu, sigma):\n",
        "    \"\"\"\n",
        "    Calculate the Probability Density Function (PDF) of a normal distribution.\n",
        "\n",
        "    Parameters:\n",
        "    - x: Value at which to evaluate the PDF.\n",
        "    - mu: Mean of the normal distribution.\n",
        "    - sigma: Standard deviation of the normal distribution.\n",
        "\n",
        "    Returns:\n",
        "    - PDF value at x.\n",
        "    \"\"\"\n",
        "    # PDF formula for normal distribution\n",
        "    pdf_value = (1 / (sigma * np.sqrt(2 * np.pi))) * np.exp(-0.5 * ((x - mu) / sigma) ** 2)\n",
        "    return pdf_value\n",
        "\n",
        "# Example usage\n",
        "mu = 0  # Mean\n",
        "sigma = 1  # Standard deviation\n",
        "x_values = np.linspace(-5, 5, 1000)  # Generate x values from -5 to 5\n",
        "\n",
        "# Calculate PDF for the given values\n",
        "pdf_values = calculate_pdf(x_values, mu, sigma)\n",
        "\n",
        "# Plot the PDF\n",
        "plt.plot(x_values, pdf_values, label='PDF of Normal Distribution')\n",
        "plt.title(f'Normal Distribution PDF (mu={mu}, sigma={sigma})')\n",
        "plt.xlabel('x')\n",
        "plt.ylabel('PDF')\n",
        "plt.grid(True)\n",
        "plt.legend()\n",
        "plt.show()\n",
        "\n",
        "# Alternatively, you can use scipy.stats.norm.pdf() to compute the PDF\n",
        "scipy_pdf_values = norm.pdf(x_values, loc=mu, scale=sigma)\n"
      ],
      "metadata": {
        "colab": {
          "base_uri": "https://localhost:8080/",
          "height": 472
        },
        "id": "237Q9j0Bcu_l",
        "outputId": "72ff77cc-c936-4cb6-e9f1-dcee8534494c"
      },
      "execution_count": null,
      "outputs": [
        {
          "output_type": "display_data",
          "data": {
            "text/plain": [
              "<Figure size 640x480 with 1 Axes>"
            ],
            "image/png": "[encoded data removed]"
          },
          "metadata": {}
        }
      ]
    },
    {
      "cell_type": "code",
      "source": [],
      "metadata": {
        "id": "l_4jVZi_cvC9"
      },
      "execution_count": null,
      "outputs": []
    },
    {
      "cell_type": "code",
      "source": [],
      "metadata": {
        "id": "YVtzx383dQ6t"
      },
      "execution_count": null,
      "outputs": []
    },
    {
      "cell_type": "code",
      "source": [],
      "metadata": {
        "id": "TW6XCfo-dRBB"
      },
      "execution_count": null,
      "outputs": []
    },
    {
      "cell_type": "code",
      "source": [
        "# Ques-9) Create a program to calculate the cumulative distribution function (CDF) of exponential distribution.\n",
        "\n",
        "import numpy as np\n",
        "import matplotlib.pyplot as plt\n",
        "\n",
        "# Function to calculate the CDF of an exponential distribution\n",
        "def calculate_cdf(x, lam):\n",
        "    \"\"\"\n",
        "    Calculate the Cumulative Distribution Function (CDF) of an exponential distribution.\n",
        "\n",
        "    Parameters:\n",
        "    - x: Value at which to evaluate the CDF.\n",
        "    - lam: Rate parameter (lambda) of the exponential distribution.\n",
        "\n",
        "    Returns:\n",
        "    - CDF value at x.\n",
        "    \"\"\"\n",
        "    # Exponential CDF formula\n",
        "    cdf_value = 1 - np.exp(-x / lam)\n",
        "    return cdf_value\n",
        "\n",
        "# Example usage\n",
        "lam = 1  # Rate parameter (lambda), mean = 1/lambda\n",
        "x_values = np.linspace(0, 10, 1000)  # Generate x values from 0 to 10\n",
        "\n",
        "# Calculate CDF for the given values\n",
        "cdf_values = calculate_cdf(x_values, lam)\n",
        "\n",
        "# Plot the CDF\n",
        "plt.plot(x_values, cdf_values, label=f'CDF of Exponential Distribution (lambda={lam})')\n",
        "plt.title(f'Cumulative Distribution Function of Exponential Distribution (lambda={lam})')\n",
        "plt.xlabel('x')\n",
        "plt.ylabel('CDF')\n",
        "plt.grid(True)\n",
        "plt.legend()\n",
        "plt.show()\n",
        "\n"
      ],
      "metadata": {
        "colab": {
          "base_uri": "https://localhost:8080/",
          "height": 472
        },
        "id": "W-vp1SO6dRIe",
        "outputId": "45f093a1-dd43-4807-dfd9-5918243df518"
      },
      "execution_count": null,
      "outputs": [
        {
          "output_type": "display_data",
          "data": {
            "text/plain": [
              "<Figure size 640x480 with 1 Axes>"
            ],
            "image/png": "[encoded data removed]"
          },
          "metadata": {}
        }
      ]
    },
    {
      "cell_type": "code",
      "source": [
        "# Code using scipy\n",
        "from scipy.stats import expon\n",
        "\n",
        "# Example usage with scipy to calculate the CDF\n",
        "cdf_values_scipy = expon.cdf(x_values, scale=1/lam)  # scale is 1/lambda\n",
        "\n",
        "# Plot the CDF using scipy values\n",
        "plt.plot(x_values, cdf_values_scipy, label=f'CDF of Exponential Distribution (lambda={lam})')\n",
        "plt.title(f'Cumulative Distribution Function of Exponential Distribution (lambda={lam})')\n",
        "plt.xlabel('x')\n",
        "plt.ylabel('CDF')\n",
        "plt.grid(True)\n",
        "plt.legend()\n",
        "plt.show()\n",
        "\n"
      ],
      "metadata": {
        "colab": {
          "base_uri": "https://localhost:8080/",
          "height": 472
        },
        "id": "7_Crj91QdXHK",
        "outputId": "dc0ae5e7-6bc9-4b1a-c0b4-b3edf37c4651"
      },
      "execution_count": null,
      "outputs": [
        {
          "output_type": "display_data",
          "data": {
            "text/plain": [
              "<Figure size 640x480 with 1 Axes>"
            ],
            "image/png": "[encoded data removed]"
          },
          "metadata": {}
        }
      ]
    },
    {
      "cell_type": "code",
      "source": [],
      "metadata": {
        "id": "yVIj0TG7de2Q"
      },
      "execution_count": null,
      "outputs": []
    },
    {
      "cell_type": "code",
      "source": [],
      "metadata": {
        "id": "dRvjVsazds8a"
      },
      "execution_count": null,
      "outputs": []
    },
    {
      "cell_type": "code",
      "source": [],
      "metadata": {
        "id": "ZKVecVvlds_t"
      },
      "execution_count": null,
      "outputs": []
    },
    {
      "cell_type": "code",
      "source": [
        "# Ques 10) Write a Python function to calculate the probability mass function (PMF) of Poisson distribution.\n",
        "\n",
        "import numpy as np\n",
        "import matplotlib.pyplot as plt\n",
        "from math import exp, factorial\n",
        "\n",
        "# Function to calculate the PMF of a Poisson distribution\n",
        "def calculate_pmf(k, lam):\n",
        "    \"\"\"\n",
        "    Calculate the Probability Mass Function (PMF) of a Poisson distribution.\n",
        "\n",
        "    Parameters:\n",
        "    - k: The number of occurrences (discrete value).\n",
        "    - lam: Rate parameter (lambda), the expected number of occurrences.\n",
        "\n",
        "    Returns:\n",
        "    - PMF value at k.\n",
        "    \"\"\"\n",
        "    # Poisson PMF formula: (lambda^k * e^(-lambda)) / k!\n",
        "    pmf_value = (lam**k * exp(-lam)) / factorial(k)\n",
        "    return pmf_value\n",
        "\n",
        "# Example usage\n",
        "lam = 3  # Rate parameter (lambda), expected number of occurrences\n",
        "k_values = np.arange(0, 11)  # Generate k values from 0 to 10\n",
        "\n",
        "# Calculate PMF for each k value\n",
        "pmf_values = [calculate_pmf(k, lam) for k in k_values]\n",
        "\n",
        "# Plot the PMF\n",
        "plt.bar(k_values, pmf_values, color='skyblue', edgecolor='black')\n",
        "plt.title(f'Poisson Distribution PMF (lambda={lam})')\n",
        "plt.xlabel('Number of Occurrences (k)')\n",
        "plt.ylabel('Probability P(X=k)')\n",
        "plt.grid(True)\n",
        "plt.show()\n"
      ],
      "metadata": {
        "colab": {
          "base_uri": "https://localhost:8080/",
          "height": 472
        },
        "id": "LvOGmdz5dtDR",
        "outputId": "5cca20c6-74d7-4204-e7e7-cefa4e1e1853"
      },
      "execution_count": null,
      "outputs": [
        {
          "output_type": "display_data",
          "data": {
            "text/plain": [
              "<Figure size 640x480 with 1 Axes>"
            ],
            "image/png": "[encoded data removed]"
          },
          "metadata": {}
        }
      ]
    },
    {
      "cell_type": "code",
      "source": [],
      "metadata": {
        "id": "v--R4vBzd4CV"
      },
      "execution_count": null,
      "outputs": []
    },
    {
      "cell_type": "code",
      "source": [],
      "metadata": {
        "id": "U0O_FfX3epVc"
      },
      "execution_count": null,
      "outputs": []
    },
    {
      "cell_type": "code",
      "source": [],
      "metadata": {
        "id": "US814EwmepeQ"
      },
      "execution_count": null,
      "outputs": []
    },
    {
      "cell_type": "code",
      "source": [
        "# Ques 11)A company wants to test if a new website layout leads to a higher conversion rate (percentage of visitors who make a purchase).\n",
        "# They collect data from the old and new layouts to compare.\n",
        "\n",
        "import numpy as np\n",
        "from scipy.stats import norm\n",
        "\n",
        "# Given data\n",
        "old_layout = np.array([1] * 50 + [0] * 950)\n",
        "new_layout = np.array([1] * 70 + [0] * 930)\n",
        "\n",
        "# Calculate sample proportions and sizes\n",
        "p_old = np.mean(old_layout)\n",
        "p_new = np.mean(new_layout)\n",
        "n_old = len(old_layout)\n",
        "n_new = len(new_layout)\n",
        "\n",
        "# Calculate pooled proportion and standard error\n",
        "p_pooled = (sum(old_layout) + sum(new_layout)) / (n_old + n_new)\n",
        "SE = np.sqrt(p_pooled * (1 - p_pooled) * (1/n_new + 1/n_old))\n",
        "\n",
        "# Calculate the z-score\n",
        "z_score = (p_new - p_old) / SE\n",
        "\n",
        "# Calculate the p-value\n",
        "p_value = 1 - norm.cdf(z_score)\n",
        "\n",
        "# Set significance level (alpha)\n",
        "alpha = 0.05\n",
        "\n",
        "# Compare p-value with alpha\n",
        "if p_value < alpha:\n",
        "    print(\"Reject the null hypothesis. The new layout is significantly more successful.\")\n",
        "else:\n",
        "    print(\"Fail to reject the null hypothesis. There is no significant difference between the layouts.\")"
      ],
      "metadata": {
        "colab": {
          "base_uri": "https://localhost:8080/"
        },
        "id": "JW1-RAZ0eqMG",
        "outputId": "dc12ff0f-8a1a-4e9c-ea77-25b4f7d01811"
      },
      "execution_count": null,
      "outputs": [
        {
          "output_type": "stream",
          "name": "stdout",
          "text": [
            "Reject the null hypothesis. The new layout is significantly more successful.\n"
          ]
        }
      ]
    },
    {
      "cell_type": "code",
      "source": [],
      "metadata": {
        "id": "27UznetBhfg9"
      },
      "execution_count": null,
      "outputs": []
    },
    {
      "cell_type": "code",
      "source": [
        "# Without scipy\n",
        "import numpy as np\n",
        "import math\n",
        "\n",
        "def normal_cdf(x):\n",
        "    \"\"\"Calculates the cumulative distribution function of the standard normal distribution.\"\"\"\n",
        "    return (1.0 + math.erf(x / math.sqrt(2.0))) / 2.0\n",
        "\n",
        "# Given data\n",
        "old_layout = np.array([1] * 50 + [0] * 950)\n",
        "new_layout = np.array([1] * 70 + [0] * 930)\n",
        "\n",
        "# Calculate sample proportions and sizes\n",
        "p_old = np.mean(old_layout)\n",
        "p_new = np.mean(new_layout)\n",
        "n_old = len(old_layout)\n",
        "n_new = len(new_layout)\n",
        "\n",
        "# Calculate pooled proportion and standard error\n",
        "p_pooled = (sum(old_layout) + sum(new_layout)) / (n_old + n_new)\n",
        "SE = np.sqrt(p_pooled * (1 - p_pooled) * (1/n_new + 1/n_old))\n",
        "\n",
        "# Calculate the z-score\n",
        "z_score = (p_new - p_old) / SE\n",
        "\n",
        "# Calculate the p-value manually\n",
        "p_value = 1 - normal_cdf(z_score)\n",
        "\n",
        "\n",
        "print(f\"Z-statistic: {z:.4f}\")\n",
        "print(f\"P-value: {p_value:.4f}\")\n",
        "\n",
        "# Set significance level (alpha)\n",
        "alpha = 0.05\n",
        "\n",
        "# Compare p-value with alpha\n",
        "if p_value < alpha:\n",
        "    print(\"Reject the null hypothesis. The new layout is significantly more successful.\")\n",
        "else:\n",
        "    print(\"Fail to reject the null hypothesis. There is no significant difference between the layouts.\")"
      ],
      "metadata": {
        "colab": {
          "base_uri": "https://localhost:8080/"
        },
        "id": "i08dda7SidbZ",
        "outputId": "bfca684f-d7e6-4e1e-df17-ca1713cb941e"
      },
      "execution_count": null,
      "outputs": [
        {
          "output_type": "stream",
          "name": "stdout",
          "text": [
            "Z-statistic: -1.8831\n",
            "P-value: 0.0298\n",
            "Reject the null hypothesis. The new layout is significantly more successful.\n"
          ]
        }
      ]
    },
    {
      "cell_type": "code",
      "source": [],
      "metadata": {
        "id": "oq7eSxIXjQ6f"
      },
      "execution_count": null,
      "outputs": []
    },
    {
      "cell_type": "code",
      "source": [],
      "metadata": {
        "id": "-RZm2H4_j5S7"
      },
      "execution_count": null,
      "outputs": []
    },
    {
      "cell_type": "code",
      "source": [
        "# Ques-12) A tutoring service claims that its program improves students' exam scores.\n",
        "# A sample of students who participated in the program was taken, and their scores before and after the program were recorded.\n",
        "\n",
        "\n",
        "import numpy as np\n",
        "import math\n",
        "\n",
        "# Given data\n",
        "before_program = np.array([75, 80, 85, 70, 90, 78, 92, 88, 82, 87])\n",
        "after_program = np.array([80, 85, 90, 80, 92, 80, 95, 90, 85, 88])\n",
        "\n",
        "# Step 1: Calculate the differences (after_program - before_program)\n",
        "differences = after_program - before_program\n",
        "\n",
        "# Step 2: Calculate the mean of the differences\n",
        "mean_diff = np.mean(differences)\n",
        "\n",
        "# Step 3: Calculate the standard deviation of the differences\n",
        "std_dev_diff = np.std(differences, ddof=1)  # Use ddof=1 for sample standard deviation\n",
        "\n",
        "# Step 4: Calculate the number of samples (n)\n",
        "n = len(differences)\n",
        "\n",
        "# Step 5: Calculate the standard error of the mean difference\n",
        "se = std_dev_diff / math.sqrt(n)\n",
        "\n",
        "# Step 6: Calculate the z-statistic\n",
        "z = mean_diff / se\n",
        "\n",
        "# Step 7: Calculate the p-value for a one-tailed z-test (since we're testing for improvement)\n",
        "# Manually calculate the CDF of the normal distribution using erf function\n",
        "def normal_cdf(z):\n",
        "    return 0.5 * (1 + math.erf(z / math.sqrt(2)))\n",
        "\n",
        "# Calculate the p-value\n",
        "p_value = 1 - normal_cdf(z)\n",
        "\n",
        "# Print the results\n",
        "print(f\"Mean difference: {mean_diff:.4f}\")\n",
        "print(f\"Standard deviation of differences: {std_dev_diff:.4f}\")\n",
        "print(f\"Z-statistic: {z:.4f}\")\n",
        "print(f\"P-value: {p_value:.4f}\")\n",
        "\n",
        "# Conclusion based on p-value\n",
        "if p_value < 0.05:\n",
        "    print(\"Reject the null hypothesis: The program significantly improves students' scores.\")\n",
        "else:\n",
        "    print(\"Fail to reject the null hypothesis: The program does not significantly improve students' scores.\")\n"
      ],
      "metadata": {
        "colab": {
          "base_uri": "https://localhost:8080/"
        },
        "id": "KxIRBXVVj5Wd",
        "outputId": "150790ce-be6d-4ba6-f14e-bb02571bdac4"
      },
      "execution_count": null,
      "outputs": [
        {
          "output_type": "stream",
          "name": "stdout",
          "text": [
            "Mean difference: 3.8000\n",
            "Standard deviation of differences: 2.6162\n",
            "Z-statistic: 4.5932\n",
            "P-value: 0.0000\n",
            "Reject the null hypothesis: The program significantly improves students' scores.\n"
          ]
        }
      ]
    },
    {
      "cell_type": "code",
      "source": [],
      "metadata": {
        "id": "m-fbekL1mOP6"
      },
      "execution_count": null,
      "outputs": []
    },
    {
      "cell_type": "code",
      "source": [],
      "metadata": {
        "id": "k2bwBceHmQVD"
      },
      "execution_count": null,
      "outputs": []
    },
    {
      "cell_type": "code",
      "source": [],
      "metadata": {
        "id": "5l-U2g61pHUE"
      },
      "execution_count": null,
      "outputs": []
    },
    {
      "cell_type": "code",
      "source": [
        "# Ques 13  A pharmaceutical company wants to determine if a new drug is effective in reducing blood pressure.\n",
        "# They conduct a study and record blood pressure measurements before and after administering the drug.\n",
        "#  Use the below code to generate samples of respective arrays of blood pressure:\n",
        "\n",
        "\n",
        "import numpy as np\n",
        "from scipy import stats\n",
        "\n",
        "# Given blood pressure measurements before and after the drug\n",
        "before_drug = np.array([145, 150, 140, 135, 155, 160, 152, 148, 130, 138])\n",
        "after_drug = np.array([130, 140, 132, 128, 145, 148, 138, 136, 125, 130])\n",
        "\n",
        "# Step 1: Calculate the differences (before - after)\n",
        "differences = before_drug - after_drug\n",
        "\n",
        "# Step 2: Calculate the mean and standard deviation of the differences\n",
        "mean_diff = np.mean(differences)\n",
        "std_diff = np.std(differences, ddof=1)  # Sample standard deviation\n",
        "n = len(differences)\n",
        "\n",
        "# Step 3: Calculate the z-score\n",
        "z_score = mean_diff / (std_diff / np.sqrt(n))\n",
        "\n",
        "# Step 4: Determine the critical z-value for one-tailed test at alpha = 0.05\n",
        "alpha = 0.05\n",
        "z_critical = stats.norm.ppf(1 - alpha)  # One-tailed test\n",
        "\n",
        "# Step 5: Calculate the p-value for the z-test\n",
        "p_value = stats.norm.cdf(z_score)  # CDF for one-tailed test\n",
        "\n",
        "# Step 6: Decision based on z-score\n",
        "if z_score < -z_critical:\n",
        "    result = \"Reject the null hypothesis: The drug is effective in reducing blood pressure.\"\n",
        "else:\n",
        "    result = \"Fail to reject the null hypothesis: The drug is not effective in reducing blood pressure.\"\n",
        "\n",
        "# Output results using formatted strings\n",
        "print(f\"Sample Mean of Differences: {mean_diff:.4f}\")\n",
        "print(f\"Sample Standard Deviation of Differences: {std_diff:.4f}\")\n",
        "print(f\"Z-statistic: {z_score:.4f}\")\n",
        "print(f\"Critical Z-value: {z_critical:.4f}\")\n",
        "print(f\"P-value: {p_value:.4f}\")\n",
        "print(result)\n",
        "\n",
        "\n"
      ],
      "metadata": {
        "colab": {
          "base_uri": "https://localhost:8080/"
        },
        "id": "SoLSxfCOpHXi",
        "outputId": "2c1cbb74-8d75-4841-b489-a43a27ace6c2"
      },
      "execution_count": null,
      "outputs": [
        {
          "output_type": "stream",
          "name": "stdout",
          "text": [
            "Sample Mean of Differences: 10.1000\n",
            "Sample Standard Deviation of Differences: 3.1780\n",
            "Z-statistic: 10.0499\n",
            "Critical Z-value: 1.6449\n",
            "P-value: 1.0000\n",
            "Fail to reject the null hypothesis: The drug is not effective in reducing blood pressure.\n"
          ]
        }
      ]
    },
    {
      "cell_type": "code",
      "source": [],
      "metadata": {
        "id": "dV71PcbSpQ2r"
      },
      "execution_count": null,
      "outputs": []
    },
    {
      "cell_type": "code",
      "source": [],
      "metadata": {
        "id": "G74Fi2Jdp04L"
      },
      "execution_count": null,
      "outputs": []
    },
    {
      "cell_type": "code",
      "source": [
        "# Ques 14) A customer service department claims that their average response time is less than 5 minutes. A sample of recent customer interactions was taken, and the response times were recorded.\n",
        "# Implement the below code to generate the array of response time:\n",
        "\n",
        "import numpy as np\n",
        "from scipy import stats\n",
        "\n",
        "# Given response times\n",
        "response_times = np.array([4.3, 3.8, 5.1, 4.9, 4.7, 4.2, 5.2, 4.5, 4.6, 4.4])\n",
        "\n",
        "# Step 1: Calculate the sample mean and standard deviation\n",
        "sample_mean = np.mean(response_times)\n",
        "sample_std = np.std(response_times, ddof=1)  # Sample standard deviation\n",
        "n = len(response_times)\n",
        "\n",
        "# Step 2: Calculate the z-score\n",
        "mu_0 = 5  # Hypothesized population mean (5 minutes)\n",
        "z_score = (sample_mean - mu_0) / (sample_std / np.sqrt(n))\n",
        "\n",
        "# Step 3: Determine the critical z-value for left-tailed test at alpha = 0.05\n",
        "alpha = 0.05\n",
        "z_critical = stats.norm.ppf(alpha)  # Left-tailed test, so we use ppf(alpha)\n",
        "\n",
        "# Step 4: Calculate the p-value for the z-test\n",
        "p_value = stats.norm.cdf(z_score)  # CDF for left-tailed test\n",
        "\n",
        "# Step 5: Decision based on z-score\n",
        "if z_score < z_critical:\n",
        "    result = \"Reject the null hypothesis: The average response time is less than 5 minutes.\"\n",
        "else:\n",
        "    result = \"Fail to reject the null hypothesis: The average response time is not less than 5 minutes.\"\n",
        "\n",
        "# Output results using formatted strings\n",
        "print(f\"Sample Mean: {sample_mean:.4f}\")\n",
        "print(f\"Sample Standard Deviation: {sample_std:.4f}\")\n",
        "print(f\"Z-statistic: {z_score:.4f}\")\n",
        "print(f\"Critical Z-value: {z_critical:.4f}\")\n",
        "print(f\"P-value: {p_value:.4f}\")\n",
        "print(result)\n",
        "\n",
        "\n"
      ],
      "metadata": {
        "colab": {
          "base_uri": "https://localhost:8080/"
        },
        "id": "SnR-QzJAp07o",
        "outputId": "6d60bfd2-f5fd-4355-e21a-4394ce89cf45"
      },
      "execution_count": null,
      "outputs": [
        {
          "output_type": "stream",
          "name": "stdout",
          "text": [
            "Sample Mean: 4.5700\n",
            "Sample Standard Deviation: 0.4270\n",
            "Z-statistic: -3.1845\n",
            "Critical Z-value: -1.6449\n",
            "P-value: 0.0007\n",
            "Reject the null hypothesis: The average response time is less than 5 minutes.\n"
          ]
        }
      ]
    },
    {
      "cell_type": "code",
      "source": [],
      "metadata": {
        "id": "ls3QyVldqq7V"
      },
      "execution_count": null,
      "outputs": []
    },
    {
      "cell_type": "code",
      "source": [],
      "metadata": {
        "id": "tGt-erMJriZ0"
      },
      "execution_count": null,
      "outputs": []
    },
    {
      "cell_type": "code",
      "source": [
        "# Ques 15) A company is testing two different website layouts to see which one leads to higher click-through rates.\n",
        "# Write a Python function to perform an A/B test analysis, including calculating the t-statistic, degrees of freedom, and p-value. Use the following data:\n",
        "\n",
        "\n",
        "import numpy as np\n",
        "from scipy import stats\n",
        "\n",
        "# Data: Click-through rates for Layout A and Layout B\n",
        "layout_a_clicks = np.array([28, 32, 33, 29, 31, 34, 30, 35, 36, 37])\n",
        "layout_b_clicks = np.array([40, 41, 38, 42, 39, 44, 43, 41, 45, 47])\n",
        "\n",
        "# Step 1: Calculate the sample means and sample standard deviations\n",
        "mean_a = np.mean(layout_a_clicks)\n",
        "mean_b = np.mean(layout_b_clicks)\n",
        "std_a = np.std(layout_a_clicks, ddof=1)  # Sample standard deviation for Layout A\n",
        "std_b = np.std(layout_b_clicks, ddof=1)  # Sample standard deviation for Layout B\n",
        "n_a = len(layout_a_clicks)\n",
        "n_b = len(layout_b_clicks)\n",
        "\n",
        "# Step 2: Calculate the t-statistic\n",
        "t_statistic = (mean_a - mean_b) / np.sqrt((std_a**2 / n_a) + (std_b**2 / n_b))\n",
        "\n",
        "# Step 3: Calculate the degrees of freedom (Welch's approximation)\n",
        "df = ((std_a**2 / n_a + std_b**2 / n_b)**2) / \\\n",
        "     ((std_a**2 / n_a)**2 / (n_a - 1) + (std_b**2 / n_b)**2 / (n_b - 1))\n",
        "\n",
        "# Step 4: Calculate the p-value for the two-tailed t-test\n",
        "p_value = 2 * (1 - stats.t.cdf(abs(t_statistic), df))  # Two-tailed test\n",
        "\n",
        "# Step 5: Decision based on p-value\n",
        "alpha = 0.05  # Significance level\n",
        "if p_value < alpha:\n",
        "    result = \"Reject the null hypothesis: There is a significant difference between the two layouts.\"\n",
        "else:\n",
        "    result = \"Fail to reject the null hypothesis: There is no significant difference between the two layouts.\"\n",
        "\n",
        "# Output results\n",
        "print(f\"Sample Mean (Layout A): {mean_a:.4f}\")\n",
        "print(f\"Sample Mean (Layout B): {mean_b:.4f}\")\n",
        "print(f\"Standard Deviation (Layout A): {std_a:.4f}\")\n",
        "print(f\"Standard Deviation (Layout B): {std_b:.4f}\")\n",
        "print(f\"T-statistic: {t_statistic:.4f}\")\n",
        "print(f\"Degrees of Freedom: {df:.4f}\")\n",
        "print(f\"P-value: {p_value:.4f}\")\n",
        "print(result)\n"
      ],
      "metadata": {
        "colab": {
          "base_uri": "https://localhost:8080/"
        },
        "id": "B3Q1fpzericY",
        "outputId": "8b232ae6-3874-4a7b-e26f-876be1560980"
      },
      "execution_count": null,
      "outputs": [
        {
          "output_type": "stream",
          "name": "stdout",
          "text": [
            "Sample Mean (Layout A): 32.5000\n",
            "Sample Mean (Layout B): 42.0000\n",
            "Standard Deviation (Layout A): 3.0277\n",
            "Standard Deviation (Layout B): 2.7889\n",
            "T-statistic: -7.2981\n",
            "Degrees of Freedom: 17.8799\n",
            "P-value: 0.0000\n",
            "Reject the null hypothesis: There is a significant difference between the two layouts.\n"
          ]
        }
      ]
    },
    {
      "cell_type": "code",
      "source": [],
      "metadata": {
        "id": "Lx7d7DOOrif-"
      },
      "execution_count": null,
      "outputs": []
    },
    {
      "cell_type": "code",
      "source": [],
      "metadata": {
        "id": "JcUM-7DId3mA"
      },
      "execution_count": null,
      "outputs": []
    },
    {
      "cell_type": "code",
      "source": [
        "#Ques 16) A pharmaceutical company wants to determine if a new drug is more effective than an existing drug in reducing cholesterol levels.\n",
        "#Create a program to analyze the clinical trial data and calculate the t statistic and p-value for the treatment effect.\n",
        "\n",
        "\n",
        "import numpy as np\n",
        "from scipy import stats\n",
        "\n",
        "# Data for cholesterol levels of existing and new drug\n",
        "existing_drug_levels = [180, 182, 175, 185, 178, 176, 172, 184, 179, 183]\n",
        "new_drug_levels = [170, 172, 165, 168, 175, 173, 170, 178, 172, 176]\n",
        "\n",
        "# Calculate means\n",
        "mean_existing = np.mean(existing_drug_levels)\n",
        "mean_new = np.mean(new_drug_levels)\n",
        "\n",
        "# Calculate standard deviations\n",
        "std_existing = np.std(existing_drug_levels, ddof=1)  # Sample standard deviation\n",
        "std_new = np.std(new_drug_levels, ddof=1)\n",
        "\n",
        "# Calculate sample sizes\n",
        "n_existing = len(existing_drug_levels)\n",
        "n_new = len(new_drug_levels)\n",
        "\n",
        "# Perform two-sample t-test\n",
        "t_stat, p_value = stats.ttest_ind(existing_drug_levels, new_drug_levels)\n",
        "\n",
        "# Print results\n",
        "print(f\"Mean of Existing Drug Group: {mean_existing:.2f}\")\n",
        "print(f\"Mean of New Drug Group: {mean_new:.2f}\")\n",
        "print(f\"Standard Deviation of Existing Drug Group: {std_existing:.2f}\")\n",
        "print(f\"Standard Deviation of New Drug Group: {std_new:.2f}\")\n",
        "print(f\"T-statistic: {t_stat:.4f}\")\n",
        "print(f\"P-value: {p_value:.4f}\")\n",
        "\n"
      ],
      "metadata": {
        "colab": {
          "base_uri": "https://localhost:8080/"
        },
        "id": "bCtOh9Z2d3pb",
        "outputId": "5c12504d-d4c6-412d-e72c-fac05fece52a"
      },
      "execution_count": 1,
      "outputs": [
        {
          "output_type": "stream",
          "name": "stdout",
          "text": [
            "Mean of Existing Drug Group: 179.40\n",
            "Mean of New Drug Group: 171.90\n",
            "Standard Deviation of Existing Drug Group: 4.22\n",
            "Standard Deviation of New Drug Group: 3.87\n",
            "T-statistic: 4.1405\n",
            "P-value: 0.0006\n"
          ]
        }
      ]
    },
    {
      "cell_type": "code",
      "source": [],
      "metadata": {
        "id": "_4AL6wHZd4pj"
      },
      "execution_count": null,
      "outputs": []
    },
    {
      "cell_type": "code",
      "source": [],
      "metadata": {
        "id": "L4Xu4t_ZeV37"
      },
      "execution_count": null,
      "outputs": []
    },
    {
      "cell_type": "code",
      "source": [
        "\n",
        "#Ques-17) A school district introduces an educational intervention program to improve math scores.\n",
        "# Write a Python function to analyze pre- and post-intervention test scores, calculating the t-statistic and p-value to determine if the intervention had a significant impact.\n",
        "\n",
        "\n",
        "import numpy as np\n",
        "from scipy import stats\n",
        "\n",
        "def analyze_intervention(pre_scores, post_scores):\n",
        "    # Calculate the differences between post and pre scores\n",
        "    differences = np.array(post_scores) - np.array(pre_scores)\n",
        "\n",
        "    # Calculate the mean and standard deviation of the differences\n",
        "    mean_diff = np.mean(differences)\n",
        "    std_diff = np.std(differences, ddof=1)  # Sample standard deviation\n",
        "    n = len(differences)\n",
        "\n",
        "    # Perform the paired t-test\n",
        "    t_stat, p_value = stats.ttest_1samp(differences, 0)\n",
        "\n",
        "    # Print results\n",
        "    print(f\"Mean of Differences: {mean_diff:.2f}\")\n",
        "    print(f\"Standard Deviation of Differences: {std_diff:.2f}\")\n",
        "    print(f\"T-statistic: {t_stat:.4f}\")\n",
        "    print(f\"P-value: {p_value:.4f}\")\n",
        "\n",
        "    # Interpretation of results\n",
        "    if p_value < 0.05:\n",
        "        print(\"The intervention had a statistically significant impact on the math scores.\")\n",
        "    else:\n",
        "        print(\"The intervention did not have a statistically significant impact on the math scores.\")\n",
        "\n",
        "# Data: Pre- and Post-Intervention Test Scores\n",
        "pre_intervention_scores = [80, 85, 90, 75, 88, 82, 92, 78, 85, 87]\n",
        "post_intervention_scores = [90, 92, 88, 92, 95, 91, 96, 93, 89, 93]\n",
        "\n",
        "# Analyze the intervention\n",
        "analyze_intervention(pre_intervention_scores, post_intervention_scores)\n"
      ],
      "metadata": {
        "colab": {
          "base_uri": "https://localhost:8080/"
        },
        "id": "PE4LPMGteV7N",
        "outputId": "34386cdb-f47a-4dde-817a-aa48197d969e"
      },
      "execution_count": 4,
      "outputs": [
        {
          "output_type": "stream",
          "name": "stdout",
          "text": [
            "Mean of Differences: 7.70\n",
            "Standard Deviation of Differences: 5.50\n",
            "T-statistic: 4.4284\n",
            "P-value: 0.0017\n",
            "The intervention had a statistically significant impact on the math scores.\n"
          ]
        }
      ]
    },
    {
      "cell_type": "code",
      "source": [],
      "metadata": {
        "id": "RHFCmUleevjR"
      },
      "execution_count": null,
      "outputs": []
    },
    {
      "cell_type": "code",
      "source": [],
      "metadata": {
        "id": "K0E8BK8qfrX8"
      },
      "execution_count": null,
      "outputs": []
    },
    {
      "cell_type": "code",
      "source": [
        "# Ques 18) An HR department wants to investigate if there's a gender-based salary gap within the company.\n",
        "# Develop a program to analyze salary data, calculate the t-statistic,\n",
        "# and determine if there's a statistically significant difference between the average salaries of male and female employees.\n",
        "\n",
        "import numpy as np\n",
        "from scipy import stats\n",
        "\n",
        "# Generate synthetic salary data for male and female employees\n",
        "np.random.seed(0)  # For reproducibility\n",
        "\n",
        "# Male salaries: Normally distributed with mean = 50000, standard deviation = 10000, size = 20\n",
        "male_salaries = np.random.normal(loc=50000, scale=10000, size=20)\n",
        "\n",
        "# Female salaries: Normally distributed with mean = 55000, standard deviation = 9000, size = 20\n",
        "female_salaries = np.random.normal(loc=55000, scale=9000, size=20)\n",
        "\n",
        "# Perform two-sample t-test\n",
        "t_stat, p_value = stats.ttest_ind(male_salaries, female_salaries)\n",
        "\n",
        "# Print results\n",
        "print(f\"Male Salaries: Mean = {np.mean(male_salaries):.2f}, Std Dev = {np.std(male_salaries, ddof=1):.2f}\")\n",
        "print(f\"Female Salaries: Mean = {np.mean(female_salaries):.2f}, Std Dev = {np.std(female_salaries, ddof=1):.2f}\")\n",
        "print(f\"T-statistic: {t_stat:.4f}\")\n",
        "print(f\"P-value: {p_value:.4f}\")\n",
        "\n",
        "# Interpretation of results\n",
        "if p_value < 0.05:\n",
        "    print(\"There is a statistically significant difference in the average salaries between male and female employees.\")\n",
        "else:\n",
        "    print(\"There is no statistically significant difference in the average salaries between male and female employees.\")\n"
      ],
      "metadata": {
        "colab": {
          "base_uri": "https://localhost:8080/"
        },
        "id": "ooBsGB9Efrey",
        "outputId": "81622a5c-85ee-4b37-a183-88fb895b6ac9"
      },
      "execution_count": 5,
      "outputs": [
        {
          "output_type": "stream",
          "name": "stdout",
          "text": [
            "Male Salaries: Mean = 55693.35, Std Dev = 8722.69\n",
            "Female Salaries: Mean = 55501.75, Std Dev = 10968.10\n",
            "T-statistic: 0.0611\n",
            "P-value: 0.9516\n",
            "There is no statistically significant difference in the average salaries between male and female employees.\n"
          ]
        }
      ]
    },
    {
      "cell_type": "code",
      "source": [
        "import numpy as np\n",
        "from scipy import stats\n",
        "\n",
        "# Generate synthetic salary data for male and female employees\n",
        "np.random.seed(0)  # For reproducibility\n",
        "\n",
        "male_salaries = np.random.normal(loc=50000, scale=10000, size=20)\n",
        "female_salaries = np.random.normal(loc=55000, scale=9000, size=20)\n",
        "\n",
        "# Perform a two-sample t-test\n",
        "t_stat, p_value = stats.ttest_ind(male_salaries, female_salaries)\n",
        "\n",
        "# Set the significance level (alpha)\n",
        "alpha = 0.05\n",
        "\n",
        "# Print the results\n",
        "print(\"t-statistic:\", t_stat)\n",
        "print(\"p-value:\", p_value)\n",
        "\n",
        "if p_value < alpha:\n",
        "    print(\"There is a statistically significant difference between the average salaries of male and female employees.\")\n",
        "else:\n",
        "    print(\"There is no statistically significant difference between the average salaries of male and female employees.\")"
      ],
      "metadata": {
        "colab": {
          "base_uri": "https://localhost:8080/"
        },
        "id": "14MItkKqfv0v",
        "outputId": "18da8a13-8185-4f37-9681-465d84affca0"
      },
      "execution_count": 6,
      "outputs": [
        {
          "output_type": "stream",
          "name": "stdout",
          "text": [
            "t-statistic: 0.06114208969631383\n",
            "p-value: 0.9515665020676465\n",
            "There is no statistically significant difference between the average salaries of male and female employees.\n"
          ]
        }
      ]
    },
    {
      "cell_type": "code",
      "source": [],
      "metadata": {
        "id": "klURp5oUgNQP"
      },
      "execution_count": null,
      "outputs": []
    },
    {
      "cell_type": "code",
      "source": [],
      "metadata": {
        "id": "TStwriwggqgn"
      },
      "execution_count": null,
      "outputs": []
    },
    {
      "cell_type": "code",
      "source": [
        "# Ques 19) A manufacturer produces two different versions of a product and wants to compare their quality scores.\n",
        "# Create a Python function to analyze quality assessment data, calculate the t-statistic, and decide whether there's a significant difference in quality between the two versions.\n",
        "\n",
        "\n",
        "\n",
        "import numpy as np\n",
        "from scipy import stats\n",
        "\n",
        "# Data for quality scores of two versions\n",
        "version1_scores = [85, 88, 82, 89, 87, 84, 90, 88, 85, 86, 91, 83, 87, 84, 89, 86, 84, 88, 85, 86, 89, 90, 87, 88, 85]\n",
        "version2_scores = [80, 78, 83, 81, 79, 82, 76, 80, 78, 81, 77, 82, 80, 79, 82, 79, 80, 81, 79, 82, 79, 78, 80, 81, 82]\n",
        "\n",
        "def analyze_quality_scores(version1_scores, version2_scores):\n",
        "    # Perform two-sample t-test\n",
        "    t_stat, p_value = stats.ttest_ind(version1_scores, version2_scores)\n",
        "\n",
        "    # Calculate the means and standard deviations of the two versions\n",
        "    mean_v1 = np.mean(version1_scores)\n",
        "    mean_v2 = np.mean(version2_scores)\n",
        "\n",
        "    std_v1 = np.std(version1_scores, ddof=1)\n",
        "    std_v2 = np.std(version2_scores, ddof=1)\n",
        "\n",
        "    # Print results\n",
        "    print(f\"Version 1: Mean = {mean_v1:.2f}, Std Dev = {std_v1:.2f}\")\n",
        "    print(f\"Version 2: Mean = {mean_v2:.2f}, Std Dev = {std_v2:.2f}\")\n",
        "    print(f\"T-statistic: {t_stat:.4f}\")\n",
        "    print(f\"P-value: {p_value:.4f}\")\n",
        "\n",
        "    # Interpretation of results\n",
        "    if p_value < 0.05:\n",
        "        print(\"There is a statistically significant difference in quality between the two versions.\")\n",
        "    else:\n",
        "        print(\"There is no statistically significant difference in quality between the two versions.\")\n",
        "\n",
        "# Analyze the quality scores\n",
        "analyze_quality_scores(version1_scores, version2_scores)\n"
      ],
      "metadata": {
        "colab": {
          "base_uri": "https://localhost:8080/"
        },
        "id": "fKbk6tYygqjX",
        "outputId": "71f8d8f4-6fb9-4b29-960f-19d2f7dde558"
      },
      "execution_count": 7,
      "outputs": [
        {
          "output_type": "stream",
          "name": "stdout",
          "text": [
            "Version 1: Mean = 86.64, Std Dev = 2.36\n",
            "Version 2: Mean = 79.96, Std Dev = 1.77\n",
            "T-statistic: 11.3258\n",
            "P-value: 0.0000\n",
            "There is a statistically significant difference in quality between the two versions.\n"
          ]
        }
      ]
    },
    {
      "cell_type": "code",
      "source": [],
      "metadata": {
        "id": "R5Z8FWt5gqmy"
      },
      "execution_count": null,
      "outputs": []
    },
    {
      "cell_type": "code",
      "source": [],
      "metadata": {
        "id": "pJiSyFzvhU56"
      },
      "execution_count": null,
      "outputs": []
    },
    {
      "cell_type": "code",
      "source": [
        "# 20 Ques 20)A restaurant chain collects customer satisfaction scores for two different branches. Write a program to analyze the scores,\n",
        "# calculate the t-statistic, and determine if there's a statistically significant difference in customer satisfaction between the branches.\n",
        "\n",
        "import numpy as np\n",
        "from scipy import stats\n",
        "\n",
        "# Data: Customer satisfaction scores for two branches\n",
        "branch_a_scores = [4, 5, 3, 4, 5, 4, 5, 3, 4, 4, 5, 4, 4, 3, 4, 5, 5, 4, 3, 4, 5, 4, 3, 5, 4, 4, 5, 3, 4, 5, 4]\n",
        "branch_b_scores = [3, 4, 2, 3, 4, 3, 4, 2, 3, 3, 4, 3, 3, 2, 3, 4, 4, 3, 2, 3, 4, 3, 2, 4, 3, 3, 4, 2, 3, 4, 3]\n",
        "\n",
        "def analyze_satisfaction_scores(branch_a_scores, branch_b_scores):\n",
        "    # Perform two-sample t-test\n",
        "    t_stat, p_value = stats.ttest_ind(branch_a_scores, branch_b_scores)\n",
        "\n",
        "    # Calculate the means and standard deviations of the two branches\n",
        "    mean_a = np.mean(branch_a_scores)\n",
        "    mean_b = np.mean(branch_b_scores)\n",
        "\n",
        "    std_a = np.std(branch_a_scores, ddof=1)\n",
        "    std_b = np.std(branch_b_scores, ddof=1)\n",
        "\n",
        "    # Print results\n",
        "    print(f\"Branch A: Mean = {mean_a:.2f}, Std Dev = {std_a:.2f}\")\n",
        "    print(f\"Branch B: Mean = {mean_b:.2f}, Std Dev = {std_b:.2f}\")\n",
        "    print(f\"T-statistic: {t_stat:.4f}\")\n",
        "    print(f\"P-value: {p_value:.4f}\")\n",
        "\n",
        "    # Interpretation of results\n",
        "    if p_value < 0.05:\n",
        "        print(\"There is a statistically significant difference in customer satisfaction between the two branches.\")\n",
        "    else:\n",
        "        print(\"There is no statistically significant difference in customer satisfaction between the two branches.\")\n",
        "\n",
        "# Analyze the customer satisfaction scores\n",
        "analyze_satisfaction_scores(branch_a_scores, branch_b_scores)\n"
      ],
      "metadata": {
        "colab": {
          "base_uri": "https://localhost:8080/"
        },
        "id": "rxIk8WBwhU9S",
        "outputId": "d3f869af-a4f3-4978-993b-180d236897aa"
      },
      "execution_count": 8,
      "outputs": [
        {
          "output_type": "stream",
          "name": "stdout",
          "text": [
            "Branch A: Mean = 4.13, Std Dev = 0.72\n",
            "Branch B: Mean = 3.13, Std Dev = 0.72\n",
            "T-statistic: 5.4801\n",
            "P-value: 0.0000\n",
            "There is a statistically significant difference in customer satisfaction between the two branches.\n"
          ]
        }
      ]
    },
    {
      "cell_type": "code",
      "source": [],
      "metadata": {
        "id": "qeSMWBnahlRJ"
      },
      "execution_count": null,
      "outputs": []
    },
    {
      "cell_type": "code",
      "source": [],
      "metadata": {
        "id": "KaYdyphBhmwH"
      },
      "execution_count": null,
      "outputs": []
    },
    {
      "cell_type": "code",
      "source": [
        "# Ques 21\n",
        "\n",
        "import numpy as np\n",
        "from scipy import stats\n",
        "import pandas as pd\n",
        "\n",
        "# Generate synthetic data using the provided code\n",
        "np.random.seed(0)  # For reproducibility\n",
        "\n",
        "# Generate random age groups and voter preferences\n",
        "age_groups = np.random.choice(['18-30', '31-50', '51+'], size=30)\n",
        "voter_preferences = np.random.choice(['Candidate A', 'Candidate B'], size=30)\n",
        "\n",
        "# Create a contingency table (cross-tabulation)\n",
        "contingency_table = pd.crosstab(age_groups, voter_preferences)\n",
        "\n",
        "# Perform Chi-Square test\n",
        "chi2_stat, p_value, dof, expected = stats.chi2_contingency(contingency_table)\n",
        "\n",
        "# Print the contingency table\n",
        "print(\"Contingency Table:\")\n",
        "print(contingency_table)\n",
        "\n",
        "# Print the Chi-Square test results\n",
        "print(\"\\nChi-Square Test Results:\")\n",
        "print(f\"Chi-Square Statistic: {chi2_stat:.4f}\")\n",
        "print(f\"P-value: {p_value:.4f}\")\n",
        "print(f\"Degrees of Freedom: {dof}\")\n",
        "print(f\"Expected Frequencies: \\n{expected}\")\n",
        "\n",
        "# Interpretation of results\n",
        "if p_value < 0.05:\n",
        "    print(\"\\nThere is a statistically significant association between age groups and voter preferences.\")\n",
        "else:\n",
        "    print(\"\\nThere is no statistically significant association between age groups and voter preferences.\")\n"
      ],
      "metadata": {
        "colab": {
          "base_uri": "https://localhost:8080/"
        },
        "id": "ZyalFL4fhmzm",
        "outputId": "d31262c5-492f-4617-d645-063461a2c7e9"
      },
      "execution_count": 9,
      "outputs": [
        {
          "output_type": "stream",
          "name": "stdout",
          "text": [
            "Contingency Table:\n",
            "col_0  Candidate A  Candidate B\n",
            "row_0                          \n",
            "18-30            4            8\n",
            "31-50            6            5\n",
            "51+              4            3\n",
            "\n",
            "Chi-Square Test Results:\n",
            "Chi-Square Statistic: 1.4402\n",
            "P-value: 0.4867\n",
            "Degrees of Freedom: 2\n",
            "Expected Frequencies: \n",
            "[[5.6        6.4       ]\n",
            " [5.13333333 5.86666667]\n",
            " [3.26666667 3.73333333]]\n",
            "\n",
            "There is no statistically significant association between age groups and voter preferences.\n"
          ]
        }
      ]
    },
    {
      "cell_type": "code",
      "source": [],
      "metadata": {
        "id": "HbNth2uNiI7Y"
      },
      "execution_count": null,
      "outputs": []
    },
    {
      "cell_type": "code",
      "source": [],
      "metadata": {
        "id": "A1jWoocqiOJd"
      },
      "execution_count": null,
      "outputs": []
    },
    {
      "cell_type": "code",
      "source": [
        "# Ques 22\n",
        "\n",
        "import numpy as np\n",
        "from scipy import stats\n",
        "\n",
        "# Sample data: Product satisfaction levels (rows) vs. Customer regions (columns)\n",
        "# Rows: Satisfied, Neutral, Dissatisfied\n",
        "# Columns: East, West, North, South\n",
        "data = np.array([[50, 30, 40, 20],  # Satisfied\n",
        "                 [30, 40, 30, 50],  # Neutral\n",
        "                 [20, 30, 40, 30]])  # Dissatisfied\n",
        "\n",
        "# Perform Chi-Square test\n",
        "chi2_stat, p_value, dof, expected = stats.chi2_contingency(data)\n",
        "\n",
        "# Print the contingency table\n",
        "print(\"Contingency Table:\")\n",
        "print(data)\n",
        "\n",
        "# Print the Chi-Square test results\n",
        "print(\"\\nChi-Square Test Results:\")\n",
        "print(f\"Chi-Square Statistic: {chi2_stat:.4f}\")\n",
        "print(f\"P-value: {p_value:.4f}\")\n",
        "print(f\"Degrees of Freedom: {dof}\")\n",
        "print(f\"Expected Frequencies: \\n{expected}\")\n",
        "\n",
        "# Interpretation of results\n",
        "if p_value < 0.05:\n",
        "    print(\"\\nThere is a statistically significant relationship between product satisfaction levels and customer regions.\")\n",
        "else:\n",
        "    print(\"\\nThere is no statistically significant relationship between product satisfaction levels and customer regions.\")\n"
      ],
      "metadata": {
        "colab": {
          "base_uri": "https://localhost:8080/"
        },
        "id": "DC0TQkDNiOM3",
        "outputId": "6c504820-4a62-4508-e527-c50c8795e3de"
      },
      "execution_count": 10,
      "outputs": [
        {
          "output_type": "stream",
          "name": "stdout",
          "text": [
            "Contingency Table:\n",
            "[[50 30 40 20]\n",
            " [30 40 30 50]\n",
            " [20 30 40 30]]\n",
            "\n",
            "Chi-Square Test Results:\n",
            "Chi-Square Statistic: 27.7771\n",
            "P-value: 0.0001\n",
            "Degrees of Freedom: 6\n",
            "Expected Frequencies: \n",
            "[[34.14634146 34.14634146 37.56097561 34.14634146]\n",
            " [36.58536585 36.58536585 40.24390244 36.58536585]\n",
            " [29.26829268 29.26829268 32.19512195 29.26829268]]\n",
            "\n",
            "There is a statistically significant relationship between product satisfaction levels and customer regions.\n"
          ]
        }
      ]
    },
    {
      "cell_type": "code",
      "source": [],
      "metadata": {
        "id": "g6pqKCNgiqk7"
      },
      "execution_count": 11,
      "outputs": []
    },
    {
      "cell_type": "code",
      "source": [],
      "metadata": {
        "id": "BrPnjAr4i0iN"
      },
      "execution_count": null,
      "outputs": []
    },
    {
      "cell_type": "code",
      "source": [
        "# Ques 23\n",
        "\n",
        "import numpy as np\n",
        "from scipy import stats\n",
        "\n",
        "# Sample data: Job performance levels before (rows) and after (columns) training\n",
        "# Rows: Effective, Neutral, Ineffective (before training)\n",
        "# Columns: Effective, Neutral, Ineffective (after training)\n",
        "data = np.array([[50, 30, 20],  # Before training (Effective, Neutral, Ineffective)\n",
        "                 [30, 40, 30],  # Before training (Effective, Neutral, Ineffective)\n",
        "                 [20, 30, 40]])  # Before training (Effective, Neutral, Ineffective)\n",
        "\n",
        "# Perform Chi-Square test\n",
        "chi2_stat, p_value, dof, expected = stats.chi2_contingency(data)\n",
        "\n",
        "# Print the contingency table\n",
        "print(\"Contingency Table:\")\n",
        "print(data)\n",
        "\n",
        "# Print the Chi-Square test results\n",
        "print(\"\\nChi-Square Test Results:\")\n",
        "print(f\"Chi-Square Statistic: {chi2_stat:.4f}\")\n",
        "print(f\"P-value: {p_value:.4f}\")\n",
        "print(f\"Degrees of Freedom: {dof}\")\n",
        "print(f\"Expected Frequencies: \\n{expected}\")\n",
        "\n",
        "# Interpretation of results\n",
        "if p_value < 0.05:\n",
        "    print(\"\\nThere is a statistically significant difference between job performance levels before and after the training.\")\n",
        "else:\n",
        "    print(\"\\nThere is no statistically significant difference between job performance levels before and after the training.\")\n"
      ],
      "metadata": {
        "colab": {
          "base_uri": "https://localhost:8080/"
        },
        "id": "hbo0xL5Li7gq",
        "outputId": "429205cd-071f-421a-883d-e64c9123ea99"
      },
      "execution_count": 12,
      "outputs": [
        {
          "output_type": "stream",
          "name": "stdout",
          "text": [
            "Contingency Table:\n",
            "[[50 30 20]\n",
            " [30 40 30]\n",
            " [20 30 40]]\n",
            "\n",
            "Chi-Square Test Results:\n",
            "Chi-Square Statistic: 22.1617\n",
            "P-value: 0.0002\n",
            "Degrees of Freedom: 4\n",
            "Expected Frequencies: \n",
            "[[34.48275862 34.48275862 31.03448276]\n",
            " [34.48275862 34.48275862 31.03448276]\n",
            " [31.03448276 31.03448276 27.93103448]]\n",
            "\n",
            "There is a statistically significant difference between job performance levels before and after the training.\n"
          ]
        }
      ]
    },
    {
      "cell_type": "code",
      "source": [],
      "metadata": {
        "id": "8f45-eAyjtUb"
      },
      "execution_count": null,
      "outputs": []
    },
    {
      "cell_type": "code",
      "source": [],
      "metadata": {
        "id": "Du4MDeGjkOjh"
      },
      "execution_count": null,
      "outputs": []
    },
    {
      "cell_type": "code",
      "source": [
        "# 24\n",
        "import numpy as np\n",
        "from scipy import stats\n",
        "\n",
        "# Sample data: Customer satisfaction scores for each product version\n",
        "standard_scores = [80, 85, 90, 78, 88, 82, 92, 78, 85, 87]\n",
        "premium_scores = [90, 92, 88, 92, 95, 91, 96, 93, 89, 93]\n",
        "deluxe_scores = [95, 98, 92, 97, 96, 94, 98, 97, 92, 99]\n",
        "\n",
        "# Perform one-way ANOVA\n",
        "f_stat, p_value = stats.f_oneway(standard_scores, premium_scores, deluxe_scores)\n",
        "\n",
        "# Print the ANOVA test results\n",
        "print(f\"F-statistic: {f_stat:.4f}\")\n",
        "print(f\"P-value: {p_value:.4f}\")\n",
        "\n",
        "# Interpretation of results\n",
        "if p_value < 0.05:\n",
        "    print(\"\\nThere is a statistically significant difference in customer satisfaction scores among the three product versions.\")\n",
        "else:\n",
        "    print(\"\\nThere is no statistically significant difference in customer satisfaction scores among the three product versions.\")\n"
      ],
      "metadata": {
        "colab": {
          "base_uri": "https://localhost:8080/"
        },
        "id": "vUH3yj5akOm5",
        "outputId": "e1348c99-854f-4fac-f781-140ee8962661"
      },
      "execution_count": 13,
      "outputs": [
        {
          "output_type": "stream",
          "name": "stdout",
          "text": [
            "F-statistic: 27.0356\n",
            "P-value: 0.0000\n",
            "\n",
            "There is a statistically significant difference in customer satisfaction scores among the three product versions.\n"
          ]
        }
      ]
    },
    {
      "cell_type": "code",
      "source": [],
      "metadata": {
        "id": "AXWfDqxjkP0U"
      },
      "execution_count": null,
      "outputs": []
    }
  ]
}