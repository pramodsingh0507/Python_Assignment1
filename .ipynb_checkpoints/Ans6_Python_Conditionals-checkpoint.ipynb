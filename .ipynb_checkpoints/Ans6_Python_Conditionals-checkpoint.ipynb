{
 "cells": [
  {
   "cell_type": "code",
   "execution_count": 1,
   "id": "6b21e736-be23-4b80-8da6-411336a97554",
   "metadata": {},
   "outputs": [
    {
     "name": "stdin",
     "output_type": "stream",
     "text": [
      "enter The Number 65\n"
     ]
    },
    {
     "name": "stdout",
     "output_type": "stream",
     "text": [
      "positive number\n"
     ]
    }
   ],
   "source": [
    "#Ques -6\n",
    "# Examples of If- else statement\n",
    "\n",
    "\n",
    "a= int(input(\"enter The Number\"))\n",
    "if a>0:\n",
    "    print(\"positive number\")\n",
    "else:\n",
    "    print(\"negative number\")"
   ]
  },
  {
   "cell_type": "code",
   "execution_count": 2,
   "id": "2ef4195f-fbff-45ba-adea-87c9ec5702c1",
   "metadata": {},
   "outputs": [
    {
     "name": "stdin",
     "output_type": "stream",
     "text": [
      "enter The Number -98\n"
     ]
    },
    {
     "name": "stdout",
     "output_type": "stream",
     "text": [
      "negative number\n"
     ]
    }
   ],
   "source": [
    "a= int(input(\"enter The Number\"))\n",
    "if a>0:\n",
    "    print(\"positive number\")\n",
    "else:\n",
    "    print(\"negative number\")"
   ]
  },
  {
   "cell_type": "code",
   "execution_count": 3,
   "id": "e41622f2-9aab-4e28-a367-8e381171d61d",
   "metadata": {},
   "outputs": [
    {
     "name": "stdout",
     "output_type": "stream",
     "text": [
      "Pass\n"
     ]
    }
   ],
   "source": [
    "\n",
    "# Examples Of If Staement\n",
    "\n",
    "marks=45\n",
    "if marks>34:\n",
    "    print(\"Pass\")"
   ]
  },
  {
   "cell_type": "code",
   "execution_count": 4,
   "id": "5f5d12c9-3c13-4385-95b3-39db53a5e791",
   "metadata": {},
   "outputs": [
    {
     "name": "stdout",
     "output_type": "stream",
     "text": [
      "Positive No\n"
     ]
    }
   ],
   "source": [
    "\n",
    "# Examples Of If-Elif- Else Statement\n",
    "\n",
    "num=24\n",
    "if num >0 :\n",
    "    print(\"Positive No\")\n",
    "elif num==0:\n",
    "    print(\" No is zero\")\n",
    "else:\n",
    "    print(\"Negative No\")"
   ]
  },
  {
   "cell_type": "code",
   "execution_count": 6,
   "id": "2546dff6-2011-48f1-9a0c-44083cefbd44",
   "metadata": {},
   "outputs": [
    {
     "name": "stdin",
     "output_type": "stream",
     "text": [
      "Enter the Marks of Students 76\n"
     ]
    },
    {
     "name": "stdout",
     "output_type": "stream",
     "text": [
      "For a mark of 76, the grade is C\n"
     ]
    }
   ],
   "source": [
    "marks = int(input(\"Enter the Marks of Students\"))\n",
    "\n",
    "if marks >= 90:\n",
    "    grade = 'A'\n",
    "elif marks >= 80:\n",
    "    grade = 'B'\n",
    "elif marks >= 70:\n",
    "    grade = 'C'\n",
    "elif marks >= 60:\n",
    "    grade = 'D'\n",
    "else:\n",
    "    grade = 'F'\n",
    "print(f\"For a mark of {marks}, the grade is {grade}\")"
   ]
  },
  {
   "cell_type": "code",
   "execution_count": null,
   "id": "ded5ad63-dea6-42cf-91ab-b5479befa1b9",
   "metadata": {},
   "outputs": [],
   "source": []
  },
  {
   "cell_type": "code",
   "execution_count": 8,
   "id": "0b91a4c7-9895-4de7-b551-5d97ec22f0a2",
   "metadata": {},
   "outputs": [
    {
     "name": "stdin",
     "output_type": "stream",
     "text": [
      "Enter the Number 87\n"
     ]
    },
    {
     "name": "stdout",
     "output_type": "stream",
     "text": [
      "a is positive and odd\n"
     ]
    }
   ],
   "source": [
    "# Examples of Nested If- Else -Statement\n",
    "\n",
    "a= int(input(\"Enter the Number\"))\n",
    "if a > 0:\n",
    "    if a % 2 == 0:\n",
    "        print(\"a is positive and even\")\n",
    "    else:\n",
    "        print(\"a is positive and odd\")\n",
    "else:\n",
    "    print(\"a is not positive\")"
   ]
  },
  {
   "cell_type": "code",
   "execution_count": null,
   "id": "f9450a7b-7730-47ac-a85a-f4c1db611a35",
   "metadata": {},
   "outputs": [],
   "source": []
  },
  {
   "cell_type": "code",
   "execution_count": 9,
   "id": "40053e87-b738-4090-b88b-d7fadc82d518",
   "metadata": {},
   "outputs": [
    {
     "name": "stdin",
     "output_type": "stream",
     "text": [
      "Enter the Number -98\n"
     ]
    },
    {
     "name": "stdout",
     "output_type": "stream",
     "text": [
      "a is not positive\n"
     ]
    }
   ],
   "source": [
    "a= int(input(\"Enter the Number\"))\n",
    "if a > 0:\n",
    "    if a % 2 == 0:\n",
    "        print(\"a is positive and even\")\n",
    "    else:\n",
    "        print(\"a is positive and odd\")\n",
    "else:\n",
    "    print(\"a is not positive\")"
   ]
  },
  {
   "cell_type": "code",
   "execution_count": null,
   "id": "8698d342-a3a9-4d1d-a1b5-c819fb1d0e81",
   "metadata": {},
   "outputs": [],
   "source": []
  }
 ],
 "metadata": {
  "kernelspec": {
   "display_name": "Python 3 (ipykernel)",
   "language": "python",
   "name": "python3"
  },
  "language_info": {
   "codemirror_mode": {
    "name": "ipython",
    "version": 3
   },
   "file_extension": ".py",
   "mimetype": "text/x-python",
   "name": "python",
   "nbconvert_exporter": "python",
   "pygments_lexer": "ipython3",
   "version": "3.10.8"
  }
 },
 "nbformat": 4,
 "nbformat_minor": 5
}
