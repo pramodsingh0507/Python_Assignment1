{
 "cells": [
  {
   "cell_type": "code",
   "execution_count": 1,
   "id": "bb2e65b1-ee55-4d96-ac09-2fa5ef782b6e",
   "metadata": {},
   "outputs": [],
   "source": [
    "## Type Casting -The conversion of one data type into the other data type is known as type casting in python or type conversion in python."
   ]
  },
  {
   "cell_type": "code",
   "execution_count": 2,
   "id": "089dfaf0-f086-4be9-857d-0179ed2b0112",
   "metadata": {},
   "outputs": [],
   "source": [
    "# Implicit type conversion\n"
   ]
  },
  {
   "cell_type": "code",
   "execution_count": 3,
   "id": "fef4a70b-4904-4833-9ef1-6d8472dd815f",
   "metadata": {},
   "outputs": [
    {
     "data": {
      "text/plain": [
       "17.6"
      ]
     },
     "execution_count": 3,
     "metadata": {},
     "output_type": "execute_result"
    }
   ],
   "source": [
    "a=9\n",
    "b=8.6\n",
    "a+b"
   ]
  },
  {
   "cell_type": "code",
   "execution_count": 4,
   "id": "26a9d314-0a7f-4e64-acdc-b19ecf2a5aeb",
   "metadata": {},
   "outputs": [
    {
     "data": {
      "text/plain": [
       "8"
      ]
     },
     "execution_count": 4,
     "metadata": {},
     "output_type": "execute_result"
    }
   ],
   "source": [
    "a= True # true can be consiodered as 1 in integer\n",
    "b=7\n",
    "a+b\n"
   ]
  },
  {
   "cell_type": "code",
   "execution_count": 5,
   "id": "76035646-3fb4-4aea-9f4c-3534a39dfd1f",
   "metadata": {},
   "outputs": [],
   "source": [
    "# Explicit Type Casting\n",
    "\n"
   ]
  },
  {
   "cell_type": "code",
   "execution_count": 6,
   "id": "2f0b704f-0531-4e87-aac0-057cbec7fa93",
   "metadata": {},
   "outputs": [
    {
     "name": "stdout",
     "output_type": "stream",
     "text": [
      "12.0\n"
     ]
    }
   ],
   "source": [
    "# Integer to Float and Float to Integer\n",
    "\n",
    "a=12\n",
    "b= float(a)\n",
    "print(b)"
   ]
  },
  {
   "cell_type": "code",
   "execution_count": 7,
   "id": "cd3b9e0a-5aa3-4484-b4ef-e2bdc41ec2b6",
   "metadata": {},
   "outputs": [
    {
     "name": "stdout",
     "output_type": "stream",
     "text": [
      "67\n"
     ]
    }
   ],
   "source": [
    "c=67.87\n",
    "d= int(c)\n",
    "print(d)\n"
   ]
  },
  {
   "cell_type": "code",
   "execution_count": 8,
   "id": "836d1804-ec6c-498f-9de3-1c64c0b28597",
   "metadata": {},
   "outputs": [],
   "source": [
    "# List to Tuples and Tuples to List\n",
    "\n"
   ]
  },
  {
   "cell_type": "code",
   "execution_count": 9,
   "id": "be1d40f5-afd1-40a7-b660-bbb126dee58e",
   "metadata": {},
   "outputs": [
    {
     "name": "stdout",
     "output_type": "stream",
     "text": [
      "(1, 2, 3, 4, 5)\n"
     ]
    }
   ],
   "source": [
    "list1=[1,2,3,4,5]\n",
    "tuple1= tuple(list1)\n",
    "print(tuple1)\n",
    "\n"
   ]
  },
  {
   "cell_type": "code",
   "execution_count": 10,
   "id": "c7b681dc-430d-4ddc-82fc-62a0481df012",
   "metadata": {},
   "outputs": [
    {
     "name": "stdout",
     "output_type": "stream",
     "text": [
      "[1, 2, 34, 45, 67]\n"
     ]
    }
   ],
   "source": [
    "tuple1=(1,2,34,45,67)\n",
    "list1=list(tuple1)\n",
    "print(list1)\n"
   ]
  },
  {
   "cell_type": "code",
   "execution_count": null,
   "id": "a4387f98-fb28-4115-8cdd-50d185ca1637",
   "metadata": {},
   "outputs": [],
   "source": []
  }
 ],
 "metadata": {
  "kernelspec": {
   "display_name": "Python 3 (ipykernel)",
   "language": "python",
   "name": "python3"
  },
  "language_info": {
   "codemirror_mode": {
    "name": "ipython",
    "version": 3
   },
   "file_extension": ".py",
   "mimetype": "text/x-python",
   "name": "python",
   "nbconvert_exporter": "python",
   "pygments_lexer": "ipython3",
   "version": "3.10.8"
  }
 },
 "nbformat": 4,
 "nbformat_minor": 5
}
