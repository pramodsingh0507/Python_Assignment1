{
  "nbformat": 4,
  "nbformat_minor": 0,
  "metadata": {
    "colab": {
      "provenance": [],
      "authorship_tag": "ABX9TyPzvn3Wghgz2l4o0J0Sij31",
      "include_colab_link": true
    },
    "kernelspec": {
      "name": "python3",
      "display_name": "Python 3"
    },
    "language_info": {
      "name": "python"
    }
  },
  "cells": [
    {
      "cell_type": "markdown",
      "metadata": {
        "id": "view-in-github",
        "colab_type": "text"
      },
      "source": [
        "<a href=\"https://colab.research.google.com/github/pramodsingh0507/Python_Assignment1/blob/main/Advance_data_structures.ipynb\" target=\"_parent\"><img src=\"https://colab.research.google.com/assets/colab-badge.svg\" alt=\"Open In Colab\"/></a>"
      ]
    },
    {
      "cell_type": "code",
      "execution_count": null,
      "metadata": {
        "colab": {
          "base_uri": "https://localhost:8080/"
        },
        "id": "HFPNZGwandAU",
        "outputId": "fa9a8825-c32c-4b7b-c42e-1846a2439007"
      },
      "outputs": [
        {
          "output_type": "stream",
          "name": "stdout",
          "text": [
            "!dlroW ,olleH\n"
          ]
        }
      ],
      "source": [
        "# Ques 1  Write a code to reverse a string.\n",
        "\n",
        "# Original string\n",
        "original_string = \"Hello, World!\"\n",
        "\n",
        "# Using a list to store characters\n",
        "char_list = []\n",
        "\n",
        "# Loop through the string in reverse order\n",
        "for i in range(len(original_string) - 1, -1, -1):\n",
        "    char_list.append(original_string[i])\n",
        "\n",
        "# Join the list to form the reversed string\n",
        "reversed_string = ''.join(char_list)\n",
        "\n",
        "# Print the reversed string\n",
        "print(reversed_string)\n"
      ]
    },
    {
      "cell_type": "code",
      "source": [
        "# Original string\n",
        "original_string = \"Hello, World!\"\n",
        "\n",
        "# Reversing the string using slicing\n",
        "reversed_string = original_string[::-1]\n",
        "\n",
        "# Print the reversed string\n",
        "print(reversed_string)\n"
      ],
      "metadata": {
        "colab": {
          "base_uri": "https://localhost:8080/"
        },
        "id": "WO2d79vjonip",
        "outputId": "c4d9081e-8eda-4172-b078-5ef58e3e0318"
      },
      "execution_count": null,
      "outputs": [
        {
          "output_type": "stream",
          "name": "stdout",
          "text": [
            "!dlroW ,olleH\n"
          ]
        }
      ]
    },
    {
      "cell_type": "code",
      "source": [],
      "metadata": {
        "id": "H3YL1rjPo2_u"
      },
      "execution_count": null,
      "outputs": []
    },
    {
      "cell_type": "code",
      "source": [],
      "metadata": {
        "id": "ojc_2qNPpqFw"
      },
      "execution_count": null,
      "outputs": []
    },
    {
      "cell_type": "code",
      "source": [
        "# Ques 2 Write a code to count the number of vowels in a string.\n",
        "# Original string\n",
        "input_string = \"Hello, World!\"\n",
        "\n",
        "# List to store vowels\n",
        "vowels_list = ['a', 'e', 'i', 'o', 'u', 'A', 'E', 'I', 'O', 'U']\n",
        "\n",
        "# Initialize a vowel count\n",
        "vowel_count = 0\n",
        "\n",
        "# Loop through each character in the input string\n",
        "for char in input_string:\n",
        "    # Check if the character is in the vowels list\n",
        "    if char in vowels_list:\n",
        "        vowel_count += 1\n",
        "\n",
        "# Print the number of vowels\n",
        "print(\"Number of vowels:\", vowel_count)\n"
      ],
      "metadata": {
        "colab": {
          "base_uri": "https://localhost:8080/"
        },
        "id": "PNr-TYCDpqo0",
        "outputId": "6ea5ad72-6e96-40ac-d542-9675b323f928"
      },
      "execution_count": null,
      "outputs": [
        {
          "output_type": "stream",
          "name": "stdout",
          "text": [
            "Number of vowels: 3\n"
          ]
        }
      ]
    },
    {
      "cell_type": "code",
      "source": [
        "# Original string\n",
        "input_string = \"Hello, World!\"\n",
        "\n",
        "# Initialize a vowel count\n",
        "vowel_count = 0\n",
        "\n",
        "# Define a string of vowels\n",
        "vowels = \"aeiouAEIOU\"\n",
        "\n",
        "# Loop through each character in the input string\n",
        "for char in input_string:\n",
        "    # Check if the character is a vowel\n",
        "    if char in vowels:\n",
        "        vowel_count += 1\n",
        "\n",
        "# Print the number of vowels\n",
        "print(\"Number of vowels:\", vowel_count)\n"
      ],
      "metadata": {
        "colab": {
          "base_uri": "https://localhost:8080/"
        },
        "id": "R2K9MLB7prE1",
        "outputId": "319a3a9b-901c-40e8-9284-cec8102d8838"
      },
      "execution_count": null,
      "outputs": [
        {
          "output_type": "stream",
          "name": "stdout",
          "text": [
            "Number of vowels: 3\n"
          ]
        }
      ]
    },
    {
      "cell_type": "code",
      "source": [],
      "metadata": {
        "id": "2CcXTaQ5p0s7"
      },
      "execution_count": null,
      "outputs": []
    },
    {
      "cell_type": "code",
      "source": [],
      "metadata": {
        "id": "xaqtnvPYqT4V"
      },
      "execution_count": null,
      "outputs": []
    },
    {
      "cell_type": "code",
      "source": [
        "# Ques 3) Write a code to check if a given string is palindrome or not.\n",
        "\n",
        "# Original string\n",
        "input_string = \"madam\"\n",
        "\n",
        "# Check if the string is equal to its reverse\n",
        "is_palindrome = input_string == input_string[::-1]\n",
        "\n",
        "# Print the result\n",
        "if is_palindrome:\n",
        "    print(f'\"{input_string}\" is a palindrome.')\n",
        "else:\n",
        "    print(f'\"{input_string}\" is not a palindrome.')\n"
      ],
      "metadata": {
        "colab": {
          "base_uri": "https://localhost:8080/"
        },
        "id": "Qyn7G9J2qUE0",
        "outputId": "c5aa369c-da86-4a09-c8e9-b80c666133a3"
      },
      "execution_count": null,
      "outputs": [
        {
          "output_type": "stream",
          "name": "stdout",
          "text": [
            "\"madam\" is a palindrome.\n"
          ]
        }
      ]
    },
    {
      "cell_type": "code",
      "source": [
        "# Using List\n",
        "\n",
        "# Original string\n",
        "input_string = \"madam\"\n",
        "\n",
        "# List to store characters in reverse order\n",
        "char_list = []\n",
        "\n",
        "# Loop through the string in reverse order\n",
        "for i in range(len(input_string) - 1, -1, -1):\n",
        "    char_list.append(input_string[i])\n",
        "\n",
        "# Join the list to form the reversed string\n",
        "reversed_string = ''.join(char_list)\n",
        "\n",
        "# Check if the original string is equal to the reversed string\n",
        "if input_string == reversed_string:\n",
        "    print(f'\"{input_string}\" is a palindrome.')\n",
        "else:\n",
        "    print(f'\"{input_string}\" is not a palindrome.')\n"
      ],
      "metadata": {
        "colab": {
          "base_uri": "https://localhost:8080/"
        },
        "id": "P-zbd7dkqouY",
        "outputId": "cc57b9a9-7bf8-4c99-843f-f4f65cf81cef"
      },
      "execution_count": null,
      "outputs": [
        {
          "output_type": "stream",
          "name": "stdout",
          "text": [
            "\"madam\" is a palindrome.\n"
          ]
        }
      ]
    },
    {
      "cell_type": "code",
      "source": [],
      "metadata": {
        "id": "n6lqICXGrLMD"
      },
      "execution_count": null,
      "outputs": []
    },
    {
      "cell_type": "code",
      "source": [],
      "metadata": {
        "id": "yCjy6UlerOuJ"
      },
      "execution_count": null,
      "outputs": []
    },
    {
      "cell_type": "code",
      "source": [
        "# Ques 4  Write a code to check if two given anagrams of each other.\n",
        "\n",
        "# Original strings\n",
        "string1 = \"listen\"\n",
        "string2 = \"silent\"\n",
        "\n",
        "# Check if sorted versions of both strings are equal\n",
        "is_anagram = sorted(string1) == sorted(string2)\n",
        "\n",
        "# Print the result\n",
        "if is_anagram:\n",
        "    print(f'\"{string1}\" and \"{string2}\" are anagrams.')\n",
        "else:\n",
        "    print(f'\"{string1}\" and \"{string2}\" are not anagrams.')\n"
      ],
      "metadata": {
        "colab": {
          "base_uri": "https://localhost:8080/"
        },
        "id": "a8RHhDWsrO4Q",
        "outputId": "606678e1-0bb0-4241-ef84-41979bcadce2"
      },
      "execution_count": null,
      "outputs": [
        {
          "output_type": "stream",
          "name": "stdout",
          "text": [
            "\"listen\" and \"silent\" are anagrams.\n"
          ]
        }
      ]
    },
    {
      "cell_type": "code",
      "source": [],
      "metadata": {
        "id": "Vx42fYYhr47P"
      },
      "execution_count": null,
      "outputs": []
    },
    {
      "cell_type": "code",
      "source": [
        "# Original strings\n",
        "string1 = \"listen\"\n",
        "string2 = \"silent\"\n",
        "\n",
        "# Initialize dictionaries to count character frequency\n",
        "char_count1 = {}\n",
        "char_count2 = {}\n",
        "\n",
        "# Count characters in the first string\n",
        "for char in string1:\n",
        "    char_count1[char] = char_count1.get(char, 0) + 1\n",
        "\n",
        "# Count characters in the second string\n",
        "for char in string2:\n",
        "    char_count2[char] = char_count2.get(char, 0) + 1\n",
        "\n",
        "# Compare the two dictionaries\n",
        "is_anagram = char_count1 == char_count2\n",
        "\n",
        "# Print the result\n",
        "if is_anagram:\n",
        "    print(f'\"{string1}\" and \"{string2}\" are anagrams.')\n",
        "else:\n",
        "    print(f'\"{string1}\" and \"{string2}\" are not anagrams.')\n"
      ],
      "metadata": {
        "colab": {
          "base_uri": "https://localhost:8080/"
        },
        "id": "7nl4jqDSr6YW",
        "outputId": "9ecdb15b-8b9e-4750-e230-bfd50fa4d5f6"
      },
      "execution_count": null,
      "outputs": [
        {
          "output_type": "stream",
          "name": "stdout",
          "text": [
            "\"listen\" and \"silent\" are anagrams.\n"
          ]
        }
      ]
    },
    {
      "cell_type": "code",
      "source": [],
      "metadata": {
        "id": "JX1D-n18r-VB"
      },
      "execution_count": null,
      "outputs": []
    },
    {
      "cell_type": "code",
      "source": [],
      "metadata": {
        "id": "Vau68XI-sA1O"
      },
      "execution_count": null,
      "outputs": []
    },
    {
      "cell_type": "code",
      "source": [
        "# Ques 5  Write a code to find all occurrences of a given substring  within another string.\n",
        "\n",
        "# Original string and substring\n",
        "main_string = \"This is a test string. This test is only a test.\"\n",
        "substring = \"test\"\n",
        "\n",
        "# List comprehension to find all starting indices\n",
        "indices = [i for i in range(len(main_string)) if main_string.startswith(substring, i)]\n",
        "\n",
        "# Print the result\n",
        "print(f'All occurrences of \"{substring}\" found at indices: {indices}')\n",
        "\n"
      ],
      "metadata": {
        "colab": {
          "base_uri": "https://localhost:8080/"
        },
        "id": "calKJdZ7sBSP",
        "outputId": "402fdc69-b051-44d4-b6c3-3bf33d8e0c6d"
      },
      "execution_count": null,
      "outputs": [
        {
          "output_type": "stream",
          "name": "stdout",
          "text": [
            "All occurrences of \"test\" found at indices: [10, 28, 43]\n"
          ]
        }
      ]
    },
    {
      "cell_type": "code",
      "source": [
        "# Original string and substring\n",
        "main_string = \"This is a test string. This test is only a test.\"\n",
        "substring = \"test\"\n",
        "\n",
        "# Initialize a list to store the starting indices\n",
        "indices = []\n",
        "\n",
        "# Find all occurrences\n",
        "index = main_string.find(substring)\n",
        "\n",
        "while index != -1:\n",
        "    indices.append(index)\n",
        "    index = main_string.find(substring, index + 1)\n",
        "\n",
        "# Print the result\n",
        "print(f'All occurrences of \"{substring}\" found at indices: {indices}')\n"
      ],
      "metadata": {
        "colab": {
          "base_uri": "https://localhost:8080/"
        },
        "id": "gXZR-ZFsstGE",
        "outputId": "5dd5efb0-9500-4906-fb65-66dc19a0ad16"
      },
      "execution_count": null,
      "outputs": [
        {
          "output_type": "stream",
          "name": "stdout",
          "text": [
            "All occurrences of \"test\" found at indices: [10, 28, 43]\n"
          ]
        }
      ]
    },
    {
      "cell_type": "code",
      "source": [],
      "metadata": {
        "id": "dxFXjatps5Sw"
      },
      "execution_count": null,
      "outputs": []
    },
    {
      "cell_type": "code",
      "source": [],
      "metadata": {
        "id": "cIHqBN4Vs8zt"
      },
      "execution_count": null,
      "outputs": []
    },
    {
      "cell_type": "code",
      "source": [
        "# Ques 6 Write a code to perform basic string compression using the counts of repeated characters.\n",
        "\n",
        "# Original string\n",
        "input_string = \"aaabbcdee\"\n",
        "\n",
        "# List to store pairs of (character, count)\n",
        "compressed_parts = []\n",
        "\n",
        "# Initialize count\n",
        "count = 1\n",
        "\n",
        "# Loop through the string\n",
        "for i in range(1, len(input_string)):\n",
        "    # Check if the current character is the same as the previous one\n",
        "    if input_string[i] == input_string[i - 1]:\n",
        "        count += 1  # Increase count\n",
        "    else:\n",
        "        # Add the character and its count as a tuple to the list\n",
        "        compressed_parts.append((input_string[i - 1], count))\n",
        "        count = 1  # Reset count\n",
        "\n",
        "# Add the last character and its count\n",
        "compressed_parts.append((input_string[-1], count))\n",
        "\n",
        "# Create the final compressed string\n",
        "compressed_string = ''.join([f\"{char}{cnt}\" for char, cnt in compressed_parts])\n",
        "\n",
        "# Print the result\n",
        "print(\"Compressed string:\", compressed_string)\n"
      ],
      "metadata": {
        "colab": {
          "base_uri": "https://localhost:8080/"
        },
        "id": "fSBIB-YAs9AB",
        "outputId": "30a65f9d-3db4-4501-9953-30395a552f15"
      },
      "execution_count": null,
      "outputs": [
        {
          "output_type": "stream",
          "name": "stdout",
          "text": [
            "Compressed string: a3b2c1d1e2\n"
          ]
        }
      ]
    },
    {
      "cell_type": "code",
      "source": [],
      "metadata": {
        "id": "YeZ45AfOuF5E"
      },
      "execution_count": null,
      "outputs": []
    },
    {
      "cell_type": "code",
      "source": [],
      "metadata": {
        "id": "1Xd1gIzNuPmd"
      },
      "execution_count": null,
      "outputs": []
    },
    {
      "cell_type": "code",
      "source": [
        "# Ques 7 Write a code to determine if a string has all unique characters.\n",
        "\n",
        "# Original string\n",
        "input_string = \"abcdefg\"\n",
        "\n",
        "# Initialize a set to keep track of characters\n",
        "char_set = set()\n",
        "\n",
        "# Loop through each character in the string\n",
        "for char in input_string:\n",
        "    # Check if the character is already in the set\n",
        "    if char in char_set:\n",
        "        print(\"The string does not have all unique characters.\")\n",
        "        break\n",
        "    char_set.add(char)  # Add character to the set\n",
        "else:\n",
        "    print(\"The string has all unique characters.\")\n"
      ],
      "metadata": {
        "colab": {
          "base_uri": "https://localhost:8080/"
        },
        "id": "3Gs6t0iJuPyG",
        "outputId": "eb9df1c9-c151-418b-cbde-3c78a569c3b4"
      },
      "execution_count": null,
      "outputs": [
        {
          "output_type": "stream",
          "name": "stdout",
          "text": [
            "The string has all unique characters.\n"
          ]
        }
      ]
    },
    {
      "cell_type": "code",
      "source": [],
      "metadata": {
        "id": "sYZQQmBJudvY"
      },
      "execution_count": null,
      "outputs": []
    },
    {
      "cell_type": "code",
      "source": [
        "# Ques 8 Write a code to convert a given string to uppercase or lowercase.\n",
        "\n",
        "# Original string\n",
        "input_string = \"Hello, World!\"\n",
        "\n",
        "# Convert to uppercase\n",
        "uppercase_string = input_string.upper()\n",
        "\n",
        "# Print the result\n",
        "print(\"Uppercase:\", uppercase_string)\n"
      ],
      "metadata": {
        "colab": {
          "base_uri": "https://localhost:8080/"
        },
        "id": "NSjXjwm2ul_H",
        "outputId": "9194b603-42fa-4df8-e837-6d9159ed364e"
      },
      "execution_count": null,
      "outputs": [
        {
          "output_type": "stream",
          "name": "stdout",
          "text": [
            "Uppercase: HELLO, WORLD!\n"
          ]
        }
      ]
    },
    {
      "cell_type": "code",
      "source": [
        "# Original string\n",
        "input_string = \"Hello, World!\"\n",
        "\n",
        "# Convert to lowercase\n",
        "lowercase_string = input_string.lower()\n",
        "\n",
        "# Print the result\n",
        "print(\"Lowercase:\", lowercase_string)\n"
      ],
      "metadata": {
        "colab": {
          "base_uri": "https://localhost:8080/"
        },
        "id": "qOkejykOuxNi",
        "outputId": "2772ccba-a46a-400c-de65-b8b46b02f559"
      },
      "execution_count": null,
      "outputs": [
        {
          "output_type": "stream",
          "name": "stdout",
          "text": [
            "Lowercase: hello, world!\n"
          ]
        }
      ]
    },
    {
      "cell_type": "code",
      "source": [],
      "metadata": {
        "id": "7CoaEDSbu1Gb"
      },
      "execution_count": null,
      "outputs": []
    },
    {
      "cell_type": "code",
      "source": [],
      "metadata": {
        "id": "n-nLIK0iu3Ap"
      },
      "execution_count": null,
      "outputs": []
    },
    {
      "cell_type": "code",
      "source": [
        "# Ques 9 Write a code to count the number of words in a string.\n",
        "\n",
        "# Original string\n",
        "input_string = \"This is a sample sentence with several words.\"\n",
        "\n",
        "# Split the string into words\n",
        "words = input_string.split()\n",
        "\n",
        "# Count the number of words\n",
        "word_count = len(words)\n",
        "\n",
        "# Print the result\n",
        "print(\"Number of words:\", word_count)\n"
      ],
      "metadata": {
        "colab": {
          "base_uri": "https://localhost:8080/"
        },
        "id": "5oHZf1oZu3LY",
        "outputId": "f40103fe-b22f-4b34-8e73-73151f73fdd5"
      },
      "execution_count": null,
      "outputs": [
        {
          "output_type": "stream",
          "name": "stdout",
          "text": [
            "Number of words: 8\n"
          ]
        }
      ]
    },
    {
      "cell_type": "code",
      "source": [],
      "metadata": {
        "id": "jyUf8njOvAsw"
      },
      "execution_count": null,
      "outputs": []
    },
    {
      "cell_type": "code",
      "source": [],
      "metadata": {
        "id": "NIaAdpLcvHTS"
      },
      "execution_count": null,
      "outputs": []
    },
    {
      "cell_type": "code",
      "source": [
        "# Ques 10 Write a code to concatenate two strings without using the + operator.\n",
        "\n",
        "# Original strings\n",
        "string1 = \"Hello, \"\n",
        "string2 = \"World!\"\n",
        "\n",
        "# Concatenate using the + operator\n",
        "concatenated_string = string1 + string2\n",
        "\n",
        "# Print the result\n",
        "print(\"Concatenated string:\", concatenated_string)\n"
      ],
      "metadata": {
        "colab": {
          "base_uri": "https://localhost:8080/"
        },
        "id": "kK1pjILFvHf2",
        "outputId": "3cc2df97-bb3e-4630-cd8a-d8f68e9ff4f5"
      },
      "execution_count": null,
      "outputs": [
        {
          "output_type": "stream",
          "name": "stdout",
          "text": [
            "Concatenated string: Hello, World!\n"
          ]
        }
      ]
    },
    {
      "cell_type": "code",
      "source": [],
      "metadata": {
        "id": "vObPwDqnvd1u"
      },
      "execution_count": null,
      "outputs": []
    },
    {
      "cell_type": "code",
      "source": [],
      "metadata": {
        "id": "WSQ7IsUQvyLz"
      },
      "execution_count": null,
      "outputs": []
    },
    {
      "cell_type": "code",
      "source": [
        "# Ques 11 Write a code to remove all occurrences of a specific element from a list.\n",
        "\n",
        "# Original list\n",
        "original_list = [1, 2, 3, 4, 2, 5, 2, 6]\n",
        "element_to_remove = 2\n",
        "\n",
        "# Use a set for fast membership checking\n",
        "remove_set = {element_to_remove}\n",
        "\n",
        "# Create a new list by filtering out the unwanted element\n",
        "new_list = [item for item in original_list if item not in remove_set]\n",
        "\n",
        "# Print the result\n",
        "print(\"List after removing all occurrences of\", element_to_remove, \":\", new_list)\n"
      ],
      "metadata": {
        "colab": {
          "base_uri": "https://localhost:8080/"
        },
        "id": "z0qPtj0vvplR",
        "outputId": "a46a523f-c554-4b90-d444-4423c85c6380"
      },
      "execution_count": null,
      "outputs": [
        {
          "output_type": "stream",
          "name": "stdout",
          "text": [
            "List after removing all occurrences of 2 : [1, 3, 4, 5, 6]\n"
          ]
        }
      ]
    },
    {
      "cell_type": "code",
      "source": [],
      "metadata": {
        "id": "1IbiM8rYv_CV"
      },
      "execution_count": null,
      "outputs": []
    },
    {
      "cell_type": "code",
      "source": [],
      "metadata": {
        "id": "Wq4r1Lp6wGKa"
      },
      "execution_count": null,
      "outputs": []
    },
    {
      "cell_type": "code",
      "source": [
        "# Ques 12  Implement a code to find the second largest number in a given list of integers.\n",
        "\n",
        "\n",
        "# Original list of integers\n",
        "numbers = [10, 20, 4, 45, 99, 99]\n",
        "\n",
        "# Convert to a set to remove duplicates, then sort\n",
        "unique_numbers = sorted(set(numbers))\n",
        "\n",
        "# Check if there are at least two unique numbers\n",
        "if len(unique_numbers) < 2:\n",
        "    print(\"There is no second largest number.\")\n",
        "else:\n",
        "    second_largest = unique_numbers[-2]  # Get the second last item\n",
        "    print(\"The second largest number is:\", second_largest)\n"
      ],
      "metadata": {
        "colab": {
          "base_uri": "https://localhost:8080/"
        },
        "id": "BDxVlkn5wGul",
        "outputId": "91b6b8fb-ba96-4ae4-c415-c5673a124618"
      },
      "execution_count": null,
      "outputs": [
        {
          "output_type": "stream",
          "name": "stdout",
          "text": [
            "The second largest number is: 45\n"
          ]
        }
      ]
    },
    {
      "cell_type": "code",
      "source": [],
      "metadata": {
        "id": "l2e5IGdewVY6"
      },
      "execution_count": null,
      "outputs": []
    },
    {
      "cell_type": "code",
      "source": [],
      "metadata": {
        "id": "SjPheYcfwbFZ"
      },
      "execution_count": null,
      "outputs": []
    },
    {
      "cell_type": "code",
      "source": [
        "# Ques 13 Create a code to count the occurrences of each element in a list and return a dictionary with elements as keys and their counts as values"
      ],
      "metadata": {
        "id": "VgMXr1jqwbL8"
      },
      "execution_count": null,
      "outputs": []
    },
    {
      "cell_type": "code",
      "source": [
        "# Original list\n",
        "elements = [1, 2, 2, 3, 4, 1, 3, 2, 5]\n",
        "\n",
        "# Initialize an empty dictionary to store counts\n",
        "count_dict = {}\n",
        "\n",
        "# Loop through the list to count occurrences\n",
        "for element in elements:\n",
        "    if element in count_dict:\n",
        "        count_dict[element] += 1  # Increment count if element is already in the dictionary\n",
        "    else:\n",
        "        count_dict[element] = 1  # Initialize count for new element\n",
        "\n",
        "# Print the result\n",
        "print(\"Occurrences of each element:\", count_dict)\n"
      ],
      "metadata": {
        "colab": {
          "base_uri": "https://localhost:8080/"
        },
        "id": "HVe60Yuww4OF",
        "outputId": "fef621d5-fa72-433c-95e6-7fad40de8d1b"
      },
      "execution_count": null,
      "outputs": [
        {
          "output_type": "stream",
          "name": "stdout",
          "text": [
            "Occurrences of each element: {1: 2, 2: 3, 3: 2, 4: 1, 5: 1}\n"
          ]
        }
      ]
    },
    {
      "cell_type": "code",
      "source": [
        "# Original list\n",
        "elements = [1, 2, 2, 3, 4, 1, 3, 2, 5]\n",
        "\n",
        "# Use set to get unique elements, then create a dictionary\n",
        "count_dict = {element: elements.count(element) for element in set(elements)}\n",
        "\n",
        "# Print the result\n",
        "print(\"Occurrences of each element:\", count_dict)\n"
      ],
      "metadata": {
        "colab": {
          "base_uri": "https://localhost:8080/"
        },
        "id": "R7dpdRrzw4vn",
        "outputId": "3f5cba37-9dbb-4e4c-b5a1-ca1bde608248"
      },
      "execution_count": null,
      "outputs": [
        {
          "output_type": "stream",
          "name": "stdout",
          "text": [
            "Occurrences of each element: {1: 2, 2: 3, 3: 2, 4: 1, 5: 1}\n"
          ]
        }
      ]
    },
    {
      "cell_type": "code",
      "source": [],
      "metadata": {
        "id": "n6rffTVuxBjH"
      },
      "execution_count": null,
      "outputs": []
    },
    {
      "cell_type": "code",
      "source": [],
      "metadata": {
        "id": "WTcwOulQxssl"
      },
      "execution_count": null,
      "outputs": []
    },
    {
      "cell_type": "code",
      "source": [
        "# Ques 14 Write a code to reverse a list in-place without using any built-in reverse functions.\n",
        "\n",
        "# Original list\n",
        "original_list = [1, 2, 3, 4, 5]\n",
        "\n",
        "# Get the length of the list\n",
        "n = len(original_list)\n",
        "\n",
        "# Loop through the first half of the list\n",
        "for i in range(n // 2):\n",
        "    # Swap elements at the current index and its corresponding index from the end\n",
        "    original_list[i], original_list[n - 1 - i] = original_list[n - 1 - i], original_list[i]\n",
        "\n",
        "# Print the reversed list\n",
        "print(\"Reversed list:\", original_list)\n"
      ],
      "metadata": {
        "colab": {
          "base_uri": "https://localhost:8080/"
        },
        "id": "6X3ITtt_xs62",
        "outputId": "956967d5-f082-449f-cbf4-441656d3bb82"
      },
      "execution_count": null,
      "outputs": [
        {
          "output_type": "stream",
          "name": "stdout",
          "text": [
            "Reversed list: [5, 4, 3, 2, 1]\n"
          ]
        }
      ]
    },
    {
      "cell_type": "code",
      "source": [
        "# Original list\n",
        "original_list = [1, 2, 3, 4, 5]\n",
        "\n",
        "# Create a stack to hold elements\n",
        "stack = []\n",
        "\n",
        "# Push all elements of the list onto the stack\n",
        "for item in original_list:\n",
        "    stack.append(item)\n",
        "\n",
        "# Pop elements from the stack back into the original list\n",
        "for i in range(len(original_list)):\n",
        "    original_list[i] = stack.pop()\n",
        "\n",
        "# Print the reversed list\n",
        "print(\"Reversed list:\", original_list)\n"
      ],
      "metadata": {
        "id": "NT-S7kd0x_8L",
        "outputId": "f8149a77-f8c5-4298-eeee-0ac75c57398e",
        "colab": {
          "base_uri": "https://localhost:8080/"
        }
      },
      "execution_count": null,
      "outputs": [
        {
          "output_type": "stream",
          "name": "stdout",
          "text": [
            "Reversed list: [5, 4, 3, 2, 1]\n"
          ]
        }
      ]
    },
    {
      "cell_type": "code",
      "source": [
        "def reverse_list_in_place(lst):\n",
        "    left = 0\n",
        "    right = len(lst) - 1\n",
        "\n",
        "    while left < right:\n",
        "        # Swap the elements at the left and right indices\n",
        "        lst[left], lst[right] = lst[right], lst[left]\n",
        "        # Move the pointers towards the center\n",
        "        left += 1\n",
        "        right -= 1\n",
        "\n",
        "# Example usage:\n",
        "my_list = [1, 2, 3, 4, 5]\n",
        "reverse_list_in_place(my_list)\n",
        "print(my_list)\n"
      ],
      "metadata": {
        "id": "7Yl0MLulyDrI",
        "colab": {
          "base_uri": "https://localhost:8080/"
        },
        "outputId": "de6f83db-b096-46c9-8ab6-1252f039a641"
      },
      "execution_count": 1,
      "outputs": [
        {
          "output_type": "stream",
          "name": "stdout",
          "text": [
            "[5, 4, 3, 2, 1]\n"
          ]
        }
      ]
    },
    {
      "cell_type": "code",
      "source": [],
      "metadata": {
        "id": "s9Yt2-MiOr-U"
      },
      "execution_count": null,
      "outputs": []
    },
    {
      "cell_type": "code",
      "source": [],
      "metadata": {
        "id": "CpyyeaUbO2et"
      },
      "execution_count": null,
      "outputs": []
    },
    {
      "cell_type": "code",
      "source": [
        "# Ques 15 Implement a code to find and remove duplicates from a list while preserving the original order of elements\n",
        "\n",
        "# Original list\n",
        "my_list = [1, 2, 2, 3, 4, 4, 5]\n",
        "\n",
        "# Set to track seen elements\n",
        "seen = set()\n",
        "# List to store the result\n",
        "result = []\n",
        "\n",
        "# Iterate through the original list\n",
        "for item in my_list:\n",
        "    if item not in seen:\n",
        "        seen.add(item)  # Add to seen set\n",
        "        result.append(item)  # Append to result list\n",
        "\n",
        "# Output the result\n",
        "print(result)\n"
      ],
      "metadata": {
        "colab": {
          "base_uri": "https://localhost:8080/"
        },
        "id": "_kDIpy09O2op",
        "outputId": "987da747-1e9a-47b9-b547-ebd3e63dbd78"
      },
      "execution_count": 2,
      "outputs": [
        {
          "output_type": "stream",
          "name": "stdout",
          "text": [
            "[1, 2, 3, 4, 5]\n"
          ]
        }
      ]
    },
    {
      "cell_type": "code",
      "source": [],
      "metadata": {
        "id": "Mc1QoZKFPPwH"
      },
      "execution_count": null,
      "outputs": []
    },
    {
      "cell_type": "code",
      "source": [],
      "metadata": {
        "id": "2SB9E1-kPKUY"
      },
      "execution_count": null,
      "outputs": []
    },
    {
      "cell_type": "code",
      "source": [
        "# Ques 16 Create a code to check if a given list is sorted (either in ascending or descending order) or not.\n",
        "\n",
        "# Original list\n",
        "my_list = [1, 2, 3, 4, 5]  # Change this to test different lists\n",
        "\n",
        "# Initialize flags\n",
        "is_ascending = True\n",
        "is_descending = True\n",
        "\n",
        "# Check the list\n",
        "for i in range(len(my_list) - 1):\n",
        "    if my_list[i] < my_list[i + 1]:\n",
        "        is_descending = False\n",
        "    elif my_list[i] > my_list[i + 1]:\n",
        "        is_ascending = False\n",
        "\n",
        "# Determine the result\n",
        "if is_ascending:\n",
        "    print(\"The list is sorted in ascending order.\")\n",
        "elif is_descending:\n",
        "    print(\"The list is sorted in descending order.\")\n",
        "else:\n",
        "    print(\"The list is not sorted.\")\n"
      ],
      "metadata": {
        "colab": {
          "base_uri": "https://localhost:8080/"
        },
        "id": "FCIF6pRBPQcB",
        "outputId": "258e5aa7-aa7e-43ca-f659-2da406e678b5"
      },
      "execution_count": 4,
      "outputs": [
        {
          "output_type": "stream",
          "name": "stdout",
          "text": [
            "The list is sorted in ascending order.\n"
          ]
        }
      ]
    },
    {
      "cell_type": "code",
      "source": [],
      "metadata": {
        "id": "QxmiZAxWPOxs"
      },
      "execution_count": null,
      "outputs": []
    },
    {
      "cell_type": "code",
      "source": [],
      "metadata": {
        "id": "XpvF1K58PxZl"
      },
      "execution_count": null,
      "outputs": []
    },
    {
      "cell_type": "code",
      "source": [
        "# Ques 17 Write a code to merge two sorted lists into a single sorted list.\n",
        "\n",
        "# Two sorted lists\n",
        "list1 = [1, 3, 5, 7]\n",
        "list2 = [2, 4, 6, 8]\n",
        "\n",
        "# Merged list\n",
        "merged_list = []\n",
        "i, j = 0, 0\n",
        "\n",
        "# Merge the two lists\n",
        "while i < len(list1) and j < len(list2):\n",
        "    if list1[i] < list2[j]:\n",
        "        merged_list.append(list1[i])\n",
        "        i += 1\n",
        "    else:\n",
        "        merged_list.append(list2[j])\n",
        "        j += 1\n",
        "\n",
        "# Add remaining elements from list1, if any\n",
        "while i < len(list1):\n",
        "    merged_list.append(list1[i])\n",
        "    i += 1\n",
        "\n",
        "# Add remaining elements from list2, if any\n",
        "while j < len(list2):\n",
        "    merged_list.append(list2[j])\n",
        "    j += 1\n",
        "\n",
        "# Output the merged list\n",
        "print(merged_list)\n"
      ],
      "metadata": {
        "colab": {
          "base_uri": "https://localhost:8080/"
        },
        "id": "DEXmQVb9Pxl6",
        "outputId": "c7623ecd-4ebb-4bb0-fc3e-f905452278b5"
      },
      "execution_count": 5,
      "outputs": [
        {
          "output_type": "stream",
          "name": "stdout",
          "text": [
            "[1, 2, 3, 4, 5, 6, 7, 8]\n"
          ]
        }
      ]
    },
    {
      "cell_type": "code",
      "source": [
        "# Two sorted lists\n",
        "list1 = [1, 3, 5, 7]\n",
        "list2 = [2, 4, 6, 8]\n",
        "\n",
        "# Merged list\n",
        "merged_list = []\n",
        "\n",
        "# Merge the two lists\n",
        "i, j = 0, 0\n",
        "while i < len(list1) and j < len(list2):\n",
        "    if list1[i] < list2[j]:\n",
        "        merged_list.append(list1[i])\n",
        "        i += 1\n",
        "    else:\n",
        "        merged_list.append(list2[j])\n",
        "        j += 1\n",
        "\n",
        "# Add any remaining elements\n",
        "merged_list.extend(list1[i:])\n",
        "merged_list.extend(list2[j:])\n",
        "\n",
        "# Output the merged list\n",
        "print(merged_list)"
      ],
      "metadata": {
        "colab": {
          "base_uri": "https://localhost:8080/"
        },
        "id": "hnHs7f9MPyZx",
        "outputId": "ee1e619f-5b5d-468a-f018-76f9542499c4"
      },
      "execution_count": 6,
      "outputs": [
        {
          "output_type": "stream",
          "name": "stdout",
          "text": [
            "[1, 2, 3, 4, 5, 6, 7, 8]\n"
          ]
        }
      ]
    },
    {
      "cell_type": "code",
      "source": [],
      "metadata": {
        "id": "oZD4SOYFP4Nm"
      },
      "execution_count": null,
      "outputs": []
    },
    {
      "cell_type": "code",
      "source": [],
      "metadata": {
        "id": "NaTPMSNwQALc"
      },
      "execution_count": null,
      "outputs": []
    },
    {
      "cell_type": "code",
      "source": [
        "# Ques 18 Implement a code to find the intersection of two given lists.\n",
        "# Two lists\n",
        "list1 = [1, 2, 3, 4, 5]\n",
        "list2 = [4, 5, 6, 7, 8]\n",
        "\n",
        "# Find intersection\n",
        "intersection = []\n",
        "set_list1 = set(list1)  # Convert list1 to a set for faster lookups\n",
        "\n",
        "for item in list2:\n",
        "    if item in set_list1:\n",
        "        intersection.append(item)\n",
        "\n",
        "# Output the intersection\n",
        "print(intersection)\n",
        "\n",
        "\n"
      ],
      "metadata": {
        "colab": {
          "base_uri": "https://localhost:8080/"
        },
        "id": "JMJU2sTFQARr",
        "outputId": "804e465a-825a-4eaa-c515-29fd37999e8d"
      },
      "execution_count": 7,
      "outputs": [
        {
          "output_type": "stream",
          "name": "stdout",
          "text": [
            "[4, 5]\n"
          ]
        }
      ]
    },
    {
      "cell_type": "code",
      "source": [],
      "metadata": {
        "id": "c8Ls-D0qQLCx"
      },
      "execution_count": null,
      "outputs": []
    },
    {
      "cell_type": "code",
      "source": [],
      "metadata": {
        "id": "LbVMMbKUQRxF"
      },
      "execution_count": null,
      "outputs": []
    },
    {
      "cell_type": "code",
      "source": [
        "# Ques 19   Create a code to find the union of two lists without duplicates\n",
        "\n",
        "# Two lists\n",
        "list1 = [1, 2, 3, 4, 5]\n",
        "list2 = [4, 5, 6, 7, 8]\n",
        "\n",
        "# Find the union without duplicates\n",
        "union = list(set(list1) | set(list2))\n",
        "\n",
        "# Output the union\n",
        "print(union)\n",
        "\n"
      ],
      "metadata": {
        "colab": {
          "base_uri": "https://localhost:8080/"
        },
        "id": "w1iwjHZ2QMeP",
        "outputId": "7e8e29c1-d506-4215-b452-dab3f21f1672"
      },
      "execution_count": 8,
      "outputs": [
        {
          "output_type": "stream",
          "name": "stdout",
          "text": [
            "[1, 2, 3, 4, 5, 6, 7, 8]\n"
          ]
        }
      ]
    },
    {
      "cell_type": "code",
      "source": [],
      "metadata": {
        "id": "dTY8NXybQYvG"
      },
      "execution_count": null,
      "outputs": []
    },
    {
      "cell_type": "code",
      "source": [],
      "metadata": {
        "id": "FzONgjvyQeFT"
      },
      "execution_count": null,
      "outputs": []
    },
    {
      "cell_type": "code",
      "source": [
        "# Ques 20 Write a code to shuffle a given list randomly without using any built-in shuffle functions.\n",
        "\n",
        "import random\n",
        "\n",
        "# Original list\n",
        "my_list = [1, 2, 3, 4, 5]\n",
        "\n",
        "# Shuffle the list using Fisher-Yates algorithm\n",
        "for i in range(len(my_list) - 1, 0, -1):\n",
        "    j = random.randint(0, i)  # Get a random index from 0 to i\n",
        "    # Swap elements at indices i and j\n",
        "    my_list[i], my_list[j] = my_list[j], my_list[i]\n",
        "\n",
        "# Output the shuffled list\n",
        "print(my_list)\n",
        "\n",
        "\n"
      ],
      "metadata": {
        "colab": {
          "base_uri": "https://localhost:8080/"
        },
        "id": "Sn9C5MIHQeNt",
        "outputId": "77ef664d-95ac-476f-e51e-3dbaf652c17a"
      },
      "execution_count": 9,
      "outputs": [
        {
          "output_type": "stream",
          "name": "stdout",
          "text": [
            "[3, 5, 4, 2, 1]\n"
          ]
        }
      ]
    },
    {
      "cell_type": "code",
      "source": [],
      "metadata": {
        "id": "FgERzHX-QtX0"
      },
      "execution_count": null,
      "outputs": []
    },
    {
      "cell_type": "code",
      "source": [],
      "metadata": {
        "id": "fWB2-eLVRcix"
      },
      "execution_count": null,
      "outputs": []
    },
    {
      "cell_type": "code",
      "source": [
        "# Ques 21 Write a code that takes two tuples as input and returns a new tuple containing elements that are common to both input tuples\n",
        "\n",
        "# Input tuples\n",
        "tuple1 = (1, 2, 3, 4, 5)\n",
        "tuple2 = (4, 5, 6, 7, 8)\n",
        "\n",
        "# Find common elements\n",
        "common_elements = tuple(item for item in tuple1 if item in tuple2)\n",
        "\n",
        "# Output the result\n",
        "print(common_elements)  # Output: (4, 5)\n",
        "\n"
      ],
      "metadata": {
        "colab": {
          "base_uri": "https://localhost:8080/"
        },
        "id": "x1z1Yl0JRcxU",
        "outputId": "7463a426-b399-4339-954f-86c49787ff88"
      },
      "execution_count": 10,
      "outputs": [
        {
          "output_type": "stream",
          "name": "stdout",
          "text": [
            "(4, 5)\n"
          ]
        }
      ]
    },
    {
      "cell_type": "code",
      "source": [],
      "metadata": {
        "id": "kvhlOYvFRmCq"
      },
      "execution_count": null,
      "outputs": []
    },
    {
      "cell_type": "code",
      "source": [
        "# Ques 22 Create a code that prompts the user to enter two sets of integers separated by commas. Then, print the intersection of these two sets\n",
        "\n",
        "# Prompt the user for the first set of integers\n",
        "input1 = input(\"Enter the first set of integers separated by commas: \")\n",
        "# Convert the input string to a set of integers\n",
        "set1 = set(int(num.strip()) for num in input1.split(','))\n",
        "\n",
        "# Prompt the user for the second set of integers\n",
        "input2 = input(\"Enter the second set of integers separated by commas: \")\n",
        "# Convert the input string to a set of integers\n",
        "set2 = set(int(num.strip()) for num in input2.split(','))\n",
        "\n",
        "# Find the intersection of the two sets\n",
        "intersection = set1.intersection(set2)\n",
        "\n",
        "# Output the intersection\n",
        "print(\"The intersection of the two sets is:\", intersection)\n"
      ],
      "metadata": {
        "colab": {
          "base_uri": "https://localhost:8080/"
        },
        "id": "IQzaIksIRnD0",
        "outputId": "ce7425e4-40ca-4ab0-a7d8-672d60f2e56e"
      },
      "execution_count": 11,
      "outputs": [
        {
          "output_type": "stream",
          "name": "stdout",
          "text": [
            "Enter the first set of integers separated by commas: 1,2,3,4,5,6\n",
            "Enter the second set of integers separated by commas: 3,4,5,3,2,1\n",
            "The intersection of the two sets is: {1, 2, 3, 4, 5}\n"
          ]
        }
      ]
    },
    {
      "cell_type": "code",
      "source": [],
      "metadata": {
        "id": "-0KNZ0N6RyZZ"
      },
      "execution_count": null,
      "outputs": []
    },
    {
      "cell_type": "code",
      "source": [],
      "metadata": {
        "id": "9RoVhCZBR8CQ"
      },
      "execution_count": null,
      "outputs": []
    },
    {
      "cell_type": "code",
      "source": [
        "# Ques 23 Write a code to concatenate two tuples.\n",
        "#  The function should take two tuples as input and return a new tuple containing elements from both input tuples\n",
        "\n",
        "def concatenate_tuples(tuple1, tuple2):\n",
        "    # Concatenate the two tuples\n",
        "    result = tuple1 + tuple2\n",
        "    return result\n",
        "\n",
        "# Example usage\n",
        "tuple1 = (1, 2, 3)\n",
        "tuple2 = (4, 5, 6)\n",
        "\n",
        "# Call the function and print the result\n",
        "new_tuple = concatenate_tuples(tuple1, tuple2)\n",
        "print(new_tuple)"
      ],
      "metadata": {
        "colab": {
          "base_uri": "https://localhost:8080/"
        },
        "id": "iEgP6CuPR8Ls",
        "outputId": "49668077-519d-4216-9d38-6aaa66828974"
      },
      "execution_count": 12,
      "outputs": [
        {
          "output_type": "stream",
          "name": "stdout",
          "text": [
            "(1, 2, 3, 4, 5, 6)\n"
          ]
        }
      ]
    },
    {
      "cell_type": "code",
      "source": [
        "# Input tuples\n",
        "tuple1 = (1, 2, 3)\n",
        "tuple2 = (4, 5, 6)\n",
        "\n",
        "# Concatenate the two tuples\n",
        "new_tuple = tuple1 + tuple2\n",
        "\n",
        "# Output the result\n",
        "print(new_tuple)\n"
      ],
      "metadata": {
        "colab": {
          "base_uri": "https://localhost:8080/"
        },
        "id": "6nAWS2hcSKVA",
        "outputId": "a7caaed3-4f89-4b36-e669-1c8797b64f84"
      },
      "execution_count": 17,
      "outputs": [
        {
          "output_type": "stream",
          "name": "stdout",
          "text": [
            "(1, 2, 3, 4, 5, 6)\n"
          ]
        }
      ]
    },
    {
      "cell_type": "code",
      "source": [],
      "metadata": {
        "id": "umbXAyDXXbku"
      },
      "execution_count": null,
      "outputs": []
    },
    {
      "cell_type": "code",
      "source": [],
      "metadata": {
        "id": "j22IFSMxV76d"
      },
      "execution_count": null,
      "outputs": []
    },
    {
      "cell_type": "code",
      "source": [
        "# Ques 24  Develop a code that prompts the user to input two sets of strings.\n",
        "# Then, print the elements that are present in the first set but not in the second set.\n",
        "\n",
        "# Prompt the user for the first set of strings\n",
        "input1 = input(\"Enter the first set of strings separated by commas: \")\n",
        "# Convert the input string to a set of strings\n",
        "set1 = set(item.strip() for item in input1.split(','))\n",
        "\n",
        "# Prompt the user for the second set of strings\n",
        "input2 = input(\"Enter the second set of strings separated by commas: \")\n",
        "# Convert the input string to a set of strings\n",
        "set2 = set(item.strip() for item in input2.split(','))\n",
        "\n",
        "# Find elements present in set1 but not in set2\n",
        "difference = set1.difference(set2)\n",
        "\n",
        "# Output the result\n",
        "print(\"Elements present in the first set but not in the second set:\", difference)\n"
      ],
      "metadata": {
        "colab": {
          "base_uri": "https://localhost:8080/"
        },
        "id": "A38Vv2z1V8GK",
        "outputId": "8850d604-8779-4077-8e1b-0bcc96f6868d"
      },
      "execution_count": 14,
      "outputs": [
        {
          "output_type": "stream",
          "name": "stdout",
          "text": [
            "Enter the first set of strings separated by commas: apple, banana, cherry, date\n",
            "Enter the second set of strings separated by commas: cherry, date, fig\n",
            "Elements present in the first set but not in the second set: {'apple', 'banana'}\n"
          ]
        }
      ]
    },
    {
      "cell_type": "code",
      "source": [],
      "metadata": {
        "id": "snri-KD-WDbv"
      },
      "execution_count": 13,
      "outputs": []
    },
    {
      "cell_type": "code",
      "source": [],
      "metadata": {
        "id": "XQakbMvNWf2P"
      },
      "execution_count": null,
      "outputs": []
    },
    {
      "cell_type": "code",
      "source": [
        "# Ques 25 Create a code that takes a tuple and two integers as input.\n",
        "# The function should return a new tuple containing elements from the original tuple within the specified range of indices.\n",
        "\n",
        "def slice_tuple(original_tuple, start_index, end_index):\n",
        "    # Return a new tuple containing elements from the specified range\n",
        "    return original_tuple[start_index:end_index]\n",
        "\n",
        "# Example usage\n",
        "my_tuple = (10, 20, 30, 40, 50, 60)\n",
        "start = 1  # Starting index\n",
        "end = 4    # Ending index (exclusive)\n",
        "\n",
        "# Call the function and print the result\n",
        "sliced_tuple = slice_tuple(my_tuple, start, end)\n",
        "print(sliced_tuple)  # Output: (20, 30, 40)\n"
      ],
      "metadata": {
        "colab": {
          "base_uri": "https://localhost:8080/"
        },
        "id": "M7K8ouBsWgAo",
        "outputId": "99f25d23-c3cd-456e-f4cf-672acafc99c1"
      },
      "execution_count": 15,
      "outputs": [
        {
          "output_type": "stream",
          "name": "stdout",
          "text": [
            "(20, 30, 40)\n"
          ]
        }
      ]
    },
    {
      "cell_type": "code",
      "source": [
        "# Original tuple\n",
        "my_tuple = (10, 20, 30, 40, 50, 60)\n",
        "\n",
        "# Input for start and end indices\n",
        "start_index = int(input(\"Enter the starting index: \"))  # Example input: 1\n",
        "end_index = int(input(\"Enter the ending index (exclusive): \"))  # Example input: 4\n",
        "\n",
        "# Create a new tuple using slicing\n",
        "sliced_tuple = my_tuple[start_index:end_index]\n",
        "\n",
        "# Output the result\n",
        "print(\"The sliced tuple is:\", sliced_tuple)\n"
      ],
      "metadata": {
        "colab": {
          "base_uri": "https://localhost:8080/"
        },
        "id": "y9dMlFT6WxYJ",
        "outputId": "f2cecd6d-f6f4-4b0e-e491-e418eeb2bdfe"
      },
      "execution_count": 16,
      "outputs": [
        {
          "output_type": "stream",
          "name": "stdout",
          "text": [
            "Enter the starting index: 1\n",
            "Enter the ending index (exclusive): 4\n",
            "The sliced tuple is: (20, 30, 40)\n"
          ]
        }
      ]
    },
    {
      "cell_type": "code",
      "source": [],
      "metadata": {
        "id": "43ztNL6AW8cr"
      },
      "execution_count": 16,
      "outputs": []
    },
    {
      "cell_type": "code",
      "source": [],
      "metadata": {
        "id": "2_l8FmwHXg5v"
      },
      "execution_count": null,
      "outputs": []
    },
    {
      "cell_type": "code",
      "source": [
        "# Ques 26 Write a code that prompts the user to input two sets of characters. Then, print the union of these two sets.\n",
        "\n",
        "# Prompt the user for the first set of characters\n",
        "input1 = input(\"Enter the first set of characters separated by commas: \")\n",
        "# Convert the input string to a set of characters\n",
        "set1 = set(item.strip() for item in input1.split(','))\n",
        "\n",
        "# Prompt the user for the second set of characters\n",
        "input2 = input(\"Enter the second set of characters separated by commas: \")\n",
        "# Convert the input string to a set of characters\n",
        "set2 = set(item.strip() for item in input2.split(','))\n",
        "\n",
        "# Find the union of the two sets\n",
        "union = set1.union(set2)\n",
        "\n",
        "# Output the result\n",
        "print(\"The union of the two sets is:\", union)\n"
      ],
      "metadata": {
        "colab": {
          "base_uri": "https://localhost:8080/"
        },
        "id": "dSVS9ApxXhCa",
        "outputId": "0eaa70f2-d76b-43bf-c5b8-cee1443db3f6"
      },
      "execution_count": 18,
      "outputs": [
        {
          "output_type": "stream",
          "name": "stdout",
          "text": [
            "Enter the first set of characters separated by commas: a, b, c\n",
            "Enter the second set of characters separated by commas: c, d, e\n",
            "The union of the two sets is: {'c', 'a', 'e', 'b', 'd'}\n"
          ]
        }
      ]
    },
    {
      "cell_type": "code",
      "source": [],
      "metadata": {
        "id": "MiUb9PcuXvPk"
      },
      "execution_count": 18,
      "outputs": []
    },
    {
      "cell_type": "code",
      "source": [],
      "metadata": {
        "id": "twi8oN1yYFpU"
      },
      "execution_count": null,
      "outputs": []
    },
    {
      "cell_type": "code",
      "source": [
        "# Ques 27  Develop a code that takes a tuple of integers as input.\n",
        "#  The function should return the maximum and minimum values from the tuple using tuple unpacking\n",
        "\n",
        "# Input tuple of integers\n",
        "input_tuple = (10, 20, 5, 30, 15)\n",
        "\n",
        "# Find maximum and minimum values\n",
        "maximum = max(input_tuple)\n",
        "minimum = min(input_tuple)\n",
        "\n",
        "# Output the result\n",
        "print(\"Maximum value:\", maximum)\n",
        "print(\"Minimum value:\", minimum)\n"
      ],
      "metadata": {
        "colab": {
          "base_uri": "https://localhost:8080/"
        },
        "id": "jhG3jbNjYMk3",
        "outputId": "2ab29aca-7d9d-436e-f5ee-9d38d0fcad0c"
      },
      "execution_count": 20,
      "outputs": [
        {
          "output_type": "stream",
          "name": "stdout",
          "text": [
            "Maximum value: 30\n",
            "Minimum value: 5\n"
          ]
        }
      ]
    },
    {
      "cell_type": "code",
      "source": [
        "\n",
        "\n",
        "def find_max_min(numbers):\n",
        "    # Find maximum and minimum values using max() and min()\n",
        "    maximum = max(numbers)\n",
        "    minimum = min(numbers)\n",
        "    return maximum, minimum  # Return as a tuple\n",
        "\n",
        "# Example usage\n",
        "input_tuple = (10, 20, 5, 30, 15)\n",
        "\n",
        "# Call the function and unpack the result\n",
        "max_value, min_value = find_max_min(input_tuple)\n",
        "\n",
        "# Output the result\n",
        "print(\"Maximum value:\", max_value)\n",
        "print(\"Minimum value:\", min_value)\n"
      ],
      "metadata": {
        "colab": {
          "base_uri": "https://localhost:8080/"
        },
        "id": "xSg1G08uYFzJ",
        "outputId": "e4f6169e-2dba-4ff6-ca10-4187e61fde34"
      },
      "execution_count": 19,
      "outputs": [
        {
          "output_type": "stream",
          "name": "stdout",
          "text": [
            "Maximum value: 30\n",
            "Minimum value: 5\n"
          ]
        }
      ]
    },
    {
      "cell_type": "code",
      "source": [],
      "metadata": {
        "id": "zBN48FFnYVTt"
      },
      "execution_count": null,
      "outputs": []
    },
    {
      "cell_type": "code",
      "source": [],
      "metadata": {
        "id": "rUI2KYrsYf_4"
      },
      "execution_count": null,
      "outputs": []
    },
    {
      "cell_type": "code",
      "source": [
        "# Ques 28 Create a code that defines two sets of integers. Then, print the union, intersection, and difference of these two sets.\n",
        "\n",
        "# Define two sets of integers\n",
        "set1 = {1, 2, 3, 4, 5}\n",
        "set2 = {4, 5, 6, 7, 8}\n",
        "\n",
        "# Calculate union\n",
        "union = set1.union(set2)\n",
        "\n",
        "# Calculate intersection\n",
        "intersection = set1.intersection(set2)\n",
        "\n",
        "# Calculate difference (elements in set1 but not in set2)\n",
        "difference = set1.difference(set2)\n",
        "\n",
        "# Output the results\n",
        "print(\"Union of the two sets:\", union)\n",
        "print(\"Intersection of the two sets:\", intersection)\n",
        "print(\"Difference (set1 - set2):\", difference)\n",
        "\n"
      ],
      "metadata": {
        "colab": {
          "base_uri": "https://localhost:8080/"
        },
        "id": "mTNckvkkYgN_",
        "outputId": "f610973b-e9e1-4b1f-ace1-bcf085751bf9"
      },
      "execution_count": 21,
      "outputs": [
        {
          "output_type": "stream",
          "name": "stdout",
          "text": [
            "Union of the two sets: {1, 2, 3, 4, 5, 6, 7, 8}\n",
            "Intersection of the two sets: {4, 5}\n",
            "Difference (set1 - set2): {1, 2, 3}\n"
          ]
        }
      ]
    },
    {
      "cell_type": "code",
      "source": [],
      "metadata": {
        "id": "YCeNnIOOYry-"
      },
      "execution_count": null,
      "outputs": []
    },
    {
      "cell_type": "code",
      "source": [],
      "metadata": {
        "id": "AvAHZNmUYzZK"
      },
      "execution_count": null,
      "outputs": []
    },
    {
      "cell_type": "code",
      "source": [
        "# Ques 29 Write a code that takes a tuple and an element as input. The function should return the count of occurrences of the given element in the tuple.\n",
        "\n",
        "def count_occurrences(input_tuple, element):\n",
        "    # Return the count of occurrences of the element in the tuple\n",
        "    return input_tuple.count(element)\n",
        "\n",
        "# Example usage\n",
        "my_tuple = (1, 2, 3, 2, 4, 2, 5)\n",
        "element_to_count = 2\n",
        "\n",
        "# Call the function and print the result\n",
        "count = count_occurrences(my_tuple, element_to_count)\n",
        "print(\"Count of\", element_to_count, \"in the tuple:\", count)\n"
      ],
      "metadata": {
        "colab": {
          "base_uri": "https://localhost:8080/"
        },
        "id": "7n0VuF04Yzis",
        "outputId": "3366f120-9995-4b58-8be0-a673fcd2eb7b"
      },
      "execution_count": 22,
      "outputs": [
        {
          "output_type": "stream",
          "name": "stdout",
          "text": [
            "Count of 2 in the tuple: 3\n"
          ]
        }
      ]
    },
    {
      "cell_type": "code",
      "source": [
        "\n",
        "# Input tuple\n",
        "my_tuple = (1, 2, 3, 2, 4, 2, 5)\n",
        "\n",
        "# Element to count\n",
        "element_to_count = 2\n",
        "\n",
        "# Count occurrences of the element\n",
        "count = 0\n",
        "for item in my_tuple:\n",
        "    if item == element_to_count:\n",
        "        count += 1\n",
        "\n",
        "# Output the result\n",
        "print(\"Count of\", element_to_count, \"in the tuple:\", count)\n"
      ],
      "metadata": {
        "colab": {
          "base_uri": "https://localhost:8080/"
        },
        "id": "YZ9hBLQHZE0S",
        "outputId": "342fd73c-a1f4-44a1-d837-0252bd1561c9"
      },
      "execution_count": 23,
      "outputs": [
        {
          "output_type": "stream",
          "name": "stdout",
          "text": [
            "Count of 2 in the tuple: 3\n"
          ]
        }
      ]
    },
    {
      "cell_type": "code",
      "source": [],
      "metadata": {
        "id": "GIYaL4YrZKWR"
      },
      "execution_count": null,
      "outputs": []
    },
    {
      "cell_type": "code",
      "source": [],
      "metadata": {
        "id": "w9Cv9A8AZNAn"
      },
      "execution_count": null,
      "outputs": []
    },
    {
      "cell_type": "code",
      "source": [
        "# Ques 30 Develop a code that prompts the user to input wo sets of strings. Then, print the symmetric difference of these two sets\n",
        "\n",
        "# Prompt the user for the first set of strings\n",
        "input1 = input(\"Enter the first set of strings separated by commas: \")\n",
        "# Convert the input string to a set of strings\n",
        "set1 = set(item.strip() for item in input1.split(','))\n",
        "\n",
        "# Prompt the user for the second set of strings\n",
        "input2 = input(\"Enter the second set of strings separated by commas: \")\n",
        "# Convert the input string to a set of strings\n",
        "set2 = set(item.strip() for item in input2.split(','))\n",
        "\n",
        "# Calculate the symmetric difference\n",
        "symmetric_difference = set1.symmetric_difference(set2)\n",
        "\n",
        "# Output the result\n",
        "print(\"The symmetric difference of the two sets is:\", symmetric_difference)\n",
        "\n"
      ],
      "metadata": {
        "colab": {
          "base_uri": "https://localhost:8080/"
        },
        "id": "0KPkfQofZNJO",
        "outputId": "7497b6a2-34cc-46ba-f211-4b777a343d48"
      },
      "execution_count": 25,
      "outputs": [
        {
          "output_type": "stream",
          "name": "stdout",
          "text": [
            "Enter the first set of strings separated by commas: apple, banana, cherry\n",
            "Enter the second set of strings separated by commas: cherry, date, elderberry\n",
            "The symmetric difference of the two sets is: {'banana', 'date', 'apple', 'elderberry'}\n"
          ]
        }
      ]
    },
    {
      "cell_type": "code",
      "source": [],
      "metadata": {
        "id": "kO8c_KviZjx2"
      },
      "execution_count": 25,
      "outputs": []
    },
    {
      "cell_type": "code",
      "source": [],
      "metadata": {
        "id": "2siTr1sEZ4KA"
      },
      "execution_count": null,
      "outputs": []
    },
    {
      "cell_type": "code",
      "source": [
        "# 31  Write a code that takes a list of words as input and returns a dictionary\n",
        "# where the keys are unique words and the values are the frequencies of those words in the input list\n",
        "\n",
        "# Input list of words\n",
        "input_list = input(\"Enter a list of words separated by spaces: \").split()\n",
        "\n",
        "# Create a dictionary to store word frequencies\n",
        "word_count = {}\n",
        "\n",
        "# Count the frequencies of each word\n",
        "for word in input_list:\n",
        "    # Increment the count for each word\n",
        "    if word in word_count:\n",
        "        word_count[word] += 1\n",
        "    else:\n",
        "        word_count[word] = 1\n",
        "\n",
        "# Output the result\n",
        "print(\"Word frequencies:\", word_count)\n"
      ],
      "metadata": {
        "colab": {
          "base_uri": "https://localhost:8080/"
        },
        "id": "zTezUX_aZ4T7",
        "outputId": "21125408-a8bd-4c80-c845-2ae5344035d3"
      },
      "execution_count": 26,
      "outputs": [
        {
          "output_type": "stream",
          "name": "stdout",
          "text": [
            "Enter a list of words separated by spaces: apple banana apple cherry banana\n",
            "Word frequencies: {'apple': 2, 'banana': 2, 'cherry': 1}\n"
          ]
        }
      ]
    },
    {
      "cell_type": "code",
      "source": [],
      "metadata": {
        "id": "MZ_WPTBQcyhz"
      },
      "execution_count": 26,
      "outputs": []
    },
    {
      "cell_type": "code",
      "source": [],
      "metadata": {
        "id": "EnZcsdUEc4AA"
      },
      "execution_count": null,
      "outputs": []
    },
    {
      "cell_type": "code",
      "source": [
        "# 32 Write a code that takes two dictionaries as input and merges them into a single dictionary.\n",
        "#  If there are common keys, the values should be added together.\n",
        "\n",
        "# Input the first dictionary\n",
        "dict1_input = input(\"Enter the first dictionary (key:value pairs separated by commas): \")\n",
        "dict1 = {}\n",
        "for item in dict1_input.split(','):\n",
        "    key, value = item.split(':')\n",
        "    dict1[key.strip()] = int(value.strip())\n",
        "\n",
        "# Input the second dictionary\n",
        "dict2_input = input(\"Enter the second dictionary (key:value pairs separated by commas): \")\n",
        "dict2 = {}\n",
        "for item in dict2_input.split(','):\n",
        "    key, value = item.split(':')\n",
        "    dict2[key.strip()] = int(value.strip())\n",
        "\n",
        "# Merge the dictionaries\n",
        "merged_dict = dict1.copy()  # Start with the first dictionary\n",
        "for key, value in dict2.items():\n",
        "    if key in merged_dict:\n",
        "        merged_dict[key] += value  # Add values for common keys\n",
        "    else:\n",
        "        merged_dict[key] = value  # Add new key-value pairs\n",
        "\n",
        "# Output the result\n",
        "print(\"Merged dictionary:\", merged_dict)\n"
      ],
      "metadata": {
        "colab": {
          "base_uri": "https://localhost:8080/"
        },
        "id": "114WXRVBc4Jc",
        "outputId": "6125408f-23c0-4dc7-a089-5c456ed64271"
      },
      "execution_count": 27,
      "outputs": [
        {
          "output_type": "stream",
          "name": "stdout",
          "text": [
            "Enter the first dictionary (key:value pairs separated by commas): a:1, b:2, c:3\n",
            "Enter the second dictionary (key:value pairs separated by commas):  b:3, c:4, d:5\n",
            "Merged dictionary: {'a': 1, 'b': 5, 'c': 7, 'd': 5}\n"
          ]
        }
      ]
    },
    {
      "cell_type": "code",
      "source": [],
      "metadata": {
        "id": "mfkTLfoQdKHc"
      },
      "execution_count": null,
      "outputs": []
    },
    {
      "cell_type": "code",
      "source": [],
      "metadata": {
        "id": "3YyPMBMLdgXk"
      },
      "execution_count": null,
      "outputs": []
    },
    {
      "cell_type": "code",
      "source": [
        "# Ques 33 Write a code to access a value in a nested dictionary. The function should take the dictionary and a list of keys as input,\n",
        "# and return the corresponding value. If any of the keys do not exist in the dictionary, the function should return None.\n",
        "\n",
        "\n",
        "def access_nested_dict(nested_dict, keys):\n",
        "    # Start with the nested dictionary\n",
        "    current_value = nested_dict\n",
        "    # Iterate through the keys\n",
        "    for key in keys:\n",
        "        # Try to access the next level of the dictionary\n",
        "        if isinstance(current_value, dict) and key in current_value:\n",
        "            current_value = current_value[key]\n",
        "        else:\n",
        "            return None  # Return None if key is not found\n",
        "    return current_value  # Return the final value\n",
        "\n",
        "# Example usage\n",
        "nested_dictionary = {\n",
        "    'a': {\n",
        "        'b': {\n",
        "            'c': 10\n",
        "        }\n",
        "    },\n",
        "    'x': {\n",
        "        'y': 20\n",
        "    }\n",
        "}\n",
        "\n",
        "# Input keys to access\n",
        "keys_to_access = ['a', 'b', 'c']\n",
        "result = access_nested_dict(nested_dictionary, keys_to_access)\n",
        "print(\"Accessed value:\", result)\n",
        "\n",
        "# Example with a non-existing key\n",
        "keys_to_access_invalid = ['a', 'b', 'z']\n",
        "result_invalid = access_nested_dict(nested_dictionary, keys_to_access_invalid)\n",
        "print(\"Accessed value:\", result_invalid)\n"
      ],
      "metadata": {
        "colab": {
          "base_uri": "https://localhost:8080/"
        },
        "id": "8KdDNKG0dgep",
        "outputId": "b493df42-9307-4b31-eac8-e91292c86268"
      },
      "execution_count": 28,
      "outputs": [
        {
          "output_type": "stream",
          "name": "stdout",
          "text": [
            "Accessed value: 10\n",
            "Accessed value: None\n"
          ]
        }
      ]
    },
    {
      "cell_type": "code",
      "source": [],
      "metadata": {
        "id": "AaElcpf7eDwx"
      },
      "execution_count": null,
      "outputs": []
    },
    {
      "cell_type": "code",
      "source": [
        "# Define the nested dictionary\n",
        "nested_dictionary = {\n",
        "    'a': {\n",
        "        'b': {\n",
        "            'c': 10\n",
        "        }\n",
        "    },\n",
        "    'x': {\n",
        "        'y': 20\n",
        "    }\n",
        "}\n",
        "\n",
        "# Input keys to access\n",
        "keys_to_access = ['a', 'b', 'c']  # Example with valid keys\n",
        "# keys_to_access = ['a', 'b', 'z']  # Example with an invalid key\n",
        "\n",
        "# Start with the nested dictionary\n",
        "current_value = nested_dictionary\n",
        "\n",
        "# Iterate through the keys\n",
        "for key in keys_to_access:\n",
        "    # Check if current_value is a dictionary and the key exists\n",
        "    if isinstance(current_value, dict) and key in current_value:\n",
        "        current_value = current_value[key]  # Move to the next level\n",
        "    else:\n",
        "        current_value = None  # Set to None if key not found\n",
        "        break  # Exit the loop\n",
        "\n",
        "# Output the result\n",
        "print(\"Accessed value:\", current_value)\n"
      ],
      "metadata": {
        "colab": {
          "base_uri": "https://localhost:8080/"
        },
        "id": "goZu4-1deIAl",
        "outputId": "d3b3ca0f-0a52-4588-f473-806f812dcb5b"
      },
      "execution_count": 29,
      "outputs": [
        {
          "output_type": "stream",
          "name": "stdout",
          "text": [
            "Accessed value: 10\n"
          ]
        }
      ]
    },
    {
      "cell_type": "code",
      "source": [],
      "metadata": {
        "id": "e0JC4sUyeJzV"
      },
      "execution_count": null,
      "outputs": []
    },
    {
      "cell_type": "code",
      "source": [],
      "metadata": {
        "id": "qwY7bQz4eNog"
      },
      "execution_count": null,
      "outputs": []
    },
    {
      "cell_type": "code",
      "source": [
        "# 34 Write a code that takes a dictionary as input and returns a sorted version of it based on the values.\n",
        "#You can choose whether to sort in ascending or descending order.\n",
        "\n",
        "# Input the dictionary\n",
        "input_dict = {\n",
        "    'apple': 5,\n",
        "    'banana': 2,\n",
        "    'cherry': 10,\n",
        "    'date': 7\n",
        "}\n",
        "\n",
        "# Ask the user for the sort order\n",
        "sort_order = input(\"Enter 'asc' for ascending or 'desc' for descending order: \").strip().lower()\n",
        "\n",
        "# Sort the dictionary based on values\n",
        "if sort_order == 'asc':\n",
        "    sorted_dict = dict(sorted(input_dict.items(), key=lambda item: item[1]))\n",
        "elif sort_order == 'desc':\n",
        "    sorted_dict = dict(sorted(input_dict.items(), key=lambda item: item[1], reverse=True))\n",
        "else:\n",
        "    sorted_dict = {}\n",
        "    print(\"Invalid input. Please enter 'asc' or 'desc'.\")\n",
        "\n",
        "# Output the sorted dictionary\n",
        "print(\"Sorted dictionary:\", sorted_dict)\n"
      ],
      "metadata": {
        "colab": {
          "base_uri": "https://localhost:8080/"
        },
        "id": "8snozcdieNxB",
        "outputId": "f3e4f50b-5c88-4a63-a389-b8251fe33d88"
      },
      "execution_count": 30,
      "outputs": [
        {
          "output_type": "stream",
          "name": "stdout",
          "text": [
            "Enter 'asc' for ascending or 'desc' for descending order: asc\n",
            "Sorted dictionary: {'banana': 2, 'apple': 5, 'date': 7, 'cherry': 10}\n"
          ]
        }
      ]
    },
    {
      "cell_type": "code",
      "source": [],
      "metadata": {
        "id": "9Km1mHNsebTI"
      },
      "execution_count": null,
      "outputs": []
    },
    {
      "cell_type": "code",
      "source": [],
      "metadata": {
        "id": "aaEMqAu9emG4"
      },
      "execution_count": null,
      "outputs": []
    },
    {
      "cell_type": "code",
      "source": [
        "# Ques 35 Write a code that inverts a dictionary, swapping keys and values. Ensure that the inverted dictionary correctly handles cases\n",
        "# where multiple keys have the same value by storing the keys as a list in the inverted dictionary.\n",
        "\n",
        "# Input dictionary\n",
        "input_dict = {\n",
        "    'apple': 5,\n",
        "    'banana': 2,\n",
        "    'cherry': 5,\n",
        "    'date': 7\n",
        "}\n",
        "\n",
        "# Invert the dictionary\n",
        "inverted_dict = {}\n",
        "\n",
        "for key, value in input_dict.items():\n",
        "    # If the value is already a key in the inverted dictionary\n",
        "    if value in inverted_dict:\n",
        "        # Check if the existing value is a list; if not, convert it to a list\n",
        "        if isinstance(inverted_dict[value], list):\n",
        "            inverted_dict[value].append(key)\n",
        "        else:\n",
        "            inverted_dict[value] = [inverted_dict[value], key]\n",
        "    else:\n",
        "        inverted_dict[value] = key  # Directly assign the key\n",
        "\n",
        "# Output the inverted dictionary\n",
        "print(\"Inverted dictionary:\", inverted_dict)\n"
      ],
      "metadata": {
        "colab": {
          "base_uri": "https://localhost:8080/"
        },
        "id": "AgL9vxibemP_",
        "outputId": "51332143-be5d-41e4-f029-8942a4926971"
      },
      "execution_count": 31,
      "outputs": [
        {
          "output_type": "stream",
          "name": "stdout",
          "text": [
            "Inverted dictionary: {5: ['apple', 'cherry'], 2: 'banana', 7: 'date'}\n"
          ]
        }
      ]
    },
    {
      "cell_type": "code",
      "source": [
        "from collections import defaultdict\n",
        "\n",
        "# Input dictionary\n",
        "input_dict = {\n",
        "    'apple': 5,\n",
        "    'banana': 2,\n",
        "    'cherry': 5,\n",
        "    'date': 7\n",
        "}\n",
        "\n",
        "# Invert the dictionary using defaultdict\n",
        "inverted_dict = defaultdict(list)\n",
        "\n",
        "for key, value in input_dict.items():\n",
        "    inverted_dict[value].append(key)\n",
        "\n",
        "# Convert defaultdict back to a regular dictionary\n",
        "inverted_dict = dict(inverted_dict)\n",
        "\n",
        "# Output the inverted dictionary\n",
        "print(\"Inverted dictionary:\", inverted_dict)\n"
      ],
      "metadata": {
        "colab": {
          "base_uri": "https://localhost:8080/"
        },
        "id": "so6KnwL7e5Xm",
        "outputId": "e2852f18-2b84-4ff9-84b0-6fb61ba35472"
      },
      "execution_count": 32,
      "outputs": [
        {
          "output_type": "stream",
          "name": "stdout",
          "text": [
            "Inverted dictionary: {5: ['apple', 'cherry'], 2: ['banana'], 7: ['date']}\n"
          ]
        }
      ]
    },
    {
      "cell_type": "code",
      "source": [],
      "metadata": {
        "id": "xeH0UyuifD-V"
      },
      "execution_count": null,
      "outputs": []
    }
  ]
}