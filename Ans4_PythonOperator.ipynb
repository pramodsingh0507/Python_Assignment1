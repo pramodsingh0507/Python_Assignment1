{
 "cells": [
  {
   "cell_type": "code",
   "execution_count": 1,
   "id": "d5451bff-98c7-474e-87b8-fb3d9c9540ae",
   "metadata": {},
   "outputs": [],
   "source": [
    "# Arithmetic Operators"
   ]
  },
  {
   "cell_type": "code",
   "execution_count": 2,
   "id": "b52b962d-3e1c-447e-b77f-690a47e9dd4c",
   "metadata": {},
   "outputs": [
    {
     "name": "stdout",
     "output_type": "stream",
     "text": [
      "Addition 14\n",
      "Subtraction 6\n",
      "Multiplication 40\n",
      "Division 2.5\n",
      "Floor Division 2\n",
      "Modulus 2\n",
      "Exponential 10000\n"
     ]
    }
   ],
   "source": [
    "a=10\n",
    "b=4\n",
    "print(\"Addition\",a+b)\n",
    "print(\"Subtraction\", a-b)\n",
    "print(\"Multiplication\",a*b)\n",
    "print(\"Division\",a/b)\n",
    "print(\"Floor Division\",a//b)\n",
    "print(\"Modulus\",a%b)\n",
    "print(\"Exponential\",a**b)"
   ]
  },
  {
   "cell_type": "code",
   "execution_count": 3,
   "id": "37c96802-e3e3-4722-8085-30b44a8db978",
   "metadata": {},
   "outputs": [
    {
     "name": "stdout",
     "output_type": "stream",
     "text": [
      "Addition 14 \n",
      "Subtraction 6 \n",
      "Division 2.5 \n",
      "Multiplication 40 \n",
      "Exponential 10000 \n",
      "Modulus 2\n"
     ]
    }
   ],
   "source": [
    "a=10\n",
    "b=4\n",
    "print(\"Addition\",a+b,\"\\nSubtraction\",a-b,\"\\nDivision\",a/b,\"\\nMultiplication\",a*b,\"\\nExponential\",a**b,\"\\nModulus\",a%b)"
   ]
  },
  {
   "cell_type": "code",
   "execution_count": 5,
   "id": "b0cc852f-4952-414b-bae5-b3b68fc4d1b2",
   "metadata": {},
   "outputs": [],
   "source": [
    "# Comparison Operators\n",
    "\n",
    "\n"
   ]
  },
  {
   "cell_type": "code",
   "execution_count": 6,
   "id": "4be78829-d20f-4b6f-af48-05f74294c1c4",
   "metadata": {},
   "outputs": [
    {
     "data": {
      "text/plain": [
       "False"
      ]
     },
     "execution_count": 6,
     "metadata": {},
     "output_type": "execute_result"
    }
   ],
   "source": [
    "a= 14\n",
    "b=5\n",
    "a==b # a is not eqal to b"
   ]
  },
  {
   "cell_type": "code",
   "execution_count": 7,
   "id": "0406c10a-1f8f-427a-9d97-b2048a6faf2b",
   "metadata": {},
   "outputs": [
    {
     "data": {
      "text/plain": [
       "True"
      ]
     },
     "execution_count": 7,
     "metadata": {},
     "output_type": "execute_result"
    }
   ],
   "source": [
    "a>b\n"
   ]
  },
  {
   "cell_type": "code",
   "execution_count": 8,
   "id": "025d4ec0-7ee1-499e-91d3-4e8efd6f9e4f",
   "metadata": {},
   "outputs": [
    {
     "data": {
      "text/plain": [
       "False"
      ]
     },
     "execution_count": 8,
     "metadata": {},
     "output_type": "execute_result"
    }
   ],
   "source": [
    "a<b"
   ]
  },
  {
   "cell_type": "code",
   "execution_count": 9,
   "id": "cbb07b43-e650-4155-a34d-9dfdc3eb577c",
   "metadata": {},
   "outputs": [
    {
     "data": {
      "text/plain": [
       "False"
      ]
     },
     "execution_count": 9,
     "metadata": {},
     "output_type": "execute_result"
    }
   ],
   "source": [
    "c=10\n",
    "d=10\n",
    "c!=d"
   ]
  },
  {
   "cell_type": "code",
   "execution_count": 10,
   "id": "90ee6078-3412-4772-8d01-f02a836dbb03",
   "metadata": {},
   "outputs": [
    {
     "data": {
      "text/plain": [
       "True"
      ]
     },
     "execution_count": 10,
     "metadata": {},
     "output_type": "execute_result"
    }
   ],
   "source": [
    "c==d"
   ]
  },
  {
   "cell_type": "code",
   "execution_count": 11,
   "id": "f4fc3b9e-7d23-46dc-bac1-e17569a3f42f",
   "metadata": {},
   "outputs": [],
   "source": [
    "# Logical oprators AND, OR, NOT\n",
    "\n"
   ]
  },
  {
   "cell_type": "code",
   "execution_count": 12,
   "id": "fde48d49-046a-45e4-9ded-4e9cdec81dc3",
   "metadata": {},
   "outputs": [
    {
     "name": "stdout",
     "output_type": "stream",
     "text": [
      "a is not biggest no\n"
     ]
    }
   ],
   "source": [
    "a=7\n",
    "b=5\n",
    "c=9\n",
    "if (a>b) and (a>c):\n",
    "    print(\"a is biggest No\")\n",
    "else:\n",
    "    print(\"a is not biggest no\")"
   ]
  },
  {
   "cell_type": "code",
   "execution_count": 13,
   "id": "28173895-4fba-4f91-a52b-c7a78615bc24",
   "metadata": {},
   "outputs": [
    {
     "name": "stdout",
     "output_type": "stream",
     "text": [
      "a is biggest No\n"
     ]
    }
   ],
   "source": [
    "a=7\n",
    "b=5\n",
    "c=9\n",
    "if (a>b) or (a>c):\n",
    "    print(\"a is biggest No\")\n",
    "else:\n",
    "    print(\"a is not biggest no\")"
   ]
  },
  {
   "cell_type": "code",
   "execution_count": 14,
   "id": "c4336057-3264-4787-bc4f-8d6ce10d2d1c",
   "metadata": {},
   "outputs": [
    {
     "name": "stdout",
     "output_type": "stream",
     "text": [
      "True\n"
     ]
    }
   ],
   "source": [
    "a=10\n",
    "b=12\n",
    "result= not(a==b)\n",
    "print(result)"
   ]
  },
  {
   "cell_type": "code",
   "execution_count": 15,
   "id": "04735dc2-82be-4a3e-9b54-4dd22fcb3d51",
   "metadata": {},
   "outputs": [
    {
     "data": {
      "text/plain": [
       "5"
      ]
     },
     "execution_count": 15,
     "metadata": {},
     "output_type": "execute_result"
    }
   ],
   "source": [
    "# Assignmnt Operator \n",
    "a=5\n",
    "a"
   ]
  },
  {
   "cell_type": "code",
   "execution_count": 16,
   "id": "1479d632-89d1-4749-8149-5f439580da26",
   "metadata": {},
   "outputs": [
    {
     "data": {
      "text/plain": [
       "8"
      ]
     },
     "execution_count": 16,
     "metadata": {},
     "output_type": "execute_result"
    }
   ],
   "source": [
    "a+=3\n",
    "a"
   ]
  },
  {
   "cell_type": "code",
   "execution_count": 17,
   "id": "8d823bdd-2886-4122-88b0-3ea4db64fbdc",
   "metadata": {},
   "outputs": [
    {
     "data": {
      "text/plain": [
       "40"
      ]
     },
     "execution_count": 17,
     "metadata": {},
     "output_type": "execute_result"
    }
   ],
   "source": [
    "a*=5\n",
    "a"
   ]
  },
  {
   "cell_type": "code",
   "execution_count": 18,
   "id": "74e4c620-bc41-4cc0-bfd4-f7affd66af1d",
   "metadata": {},
   "outputs": [],
   "source": [
    "# Identity oprators is and is not\n",
    "\n"
   ]
  },
  {
   "cell_type": "code",
   "execution_count": 19,
   "id": "fb4f1949-d036-4f41-b0a9-a08ca49d089b",
   "metadata": {},
   "outputs": [
    {
     "data": {
      "text/plain": [
       "False"
      ]
     },
     "execution_count": 19,
     "metadata": {},
     "output_type": "execute_result"
    }
   ],
   "source": [
    "a= 7\n",
    "b=9\n",
    "a is b"
   ]
  },
  {
   "cell_type": "code",
   "execution_count": 20,
   "id": "1a114fac-a22d-49b0-8cec-021029566a45",
   "metadata": {},
   "outputs": [
    {
     "data": {
      "text/plain": [
       "True"
      ]
     },
     "execution_count": 20,
     "metadata": {},
     "output_type": "execute_result"
    }
   ],
   "source": [
    "a is not b"
   ]
  },
  {
   "cell_type": "code",
   "execution_count": 21,
   "id": "0639e339-9c5f-4609-9eb7-c0540baa5dd3",
   "metadata": {},
   "outputs": [],
   "source": [
    "# Membership Operator \n",
    "\n"
   ]
  },
  {
   "cell_type": "code",
   "execution_count": 22,
   "id": "a1030b82-1f41-48d9-95d7-a05e295cf063",
   "metadata": {},
   "outputs": [
    {
     "data": {
      "text/plain": [
       "True"
      ]
     },
     "execution_count": 22,
     "metadata": {},
     "output_type": "execute_result"
    }
   ],
   "source": [
    "l1= [1,2,3,4,\"Pramod\", \"Ram\"]\n",
    "2 in l1"
   ]
  },
  {
   "cell_type": "code",
   "execution_count": 23,
   "id": "8f83be47-8472-4c2a-8584-a7eb969831bb",
   "metadata": {},
   "outputs": [
    {
     "name": "stdout",
     "output_type": "stream",
     "text": [
      "True\n"
     ]
    }
   ],
   "source": [
    "my_string= \"Hello World\"\n",
    "output= 'o' in my_string\n",
    "print(output)"
   ]
  },
  {
   "cell_type": "code",
   "execution_count": 24,
   "id": "2d199447-8cf9-437f-a1e4-6813a3e13859",
   "metadata": {},
   "outputs": [],
   "source": [
    "# Bitwise Opeartot\n",
    "# Left Shifta and Right Shift\n",
    "\n"
   ]
  },
  {
   "cell_type": "code",
   "execution_count": 25,
   "id": "22219f9d-1daf-49b7-95c3-7e090895807c",
   "metadata": {},
   "outputs": [
    {
     "name": "stdout",
     "output_type": "stream",
     "text": [
      "3072\n"
     ]
    }
   ],
   "source": [
    "a=6\n",
    "result= a<<b\n",
    "print(result)"
   ]
  },
  {
   "cell_type": "code",
   "execution_count": 26,
   "id": "25c19431-7573-4acc-aeda-943b0b2593a6",
   "metadata": {},
   "outputs": [
    {
     "name": "stdout",
     "output_type": "stream",
     "text": [
      "13\n"
     ]
    }
   ],
   "source": [
    "a=6754\n",
    "result= a>>b\n",
    "print(result)\n"
   ]
  },
  {
   "cell_type": "code",
   "execution_count": null,
   "id": "35c0a674-29c8-48e3-ad80-1424f591ae8c",
   "metadata": {},
   "outputs": [],
   "source": []
  }
 ],
 "metadata": {
  "kernelspec": {
   "display_name": "Python 3 (ipykernel)",
   "language": "python",
   "name": "python3"
  },
  "language_info": {
   "codemirror_mode": {
    "name": "ipython",
    "version": 3
   },
   "file_extension": ".py",
   "mimetype": "text/x-python",
   "name": "python",
   "nbconvert_exporter": "python",
   "pygments_lexer": "ipython3",
   "version": "3.10.8"
  }
 },
 "nbformat": 4,
 "nbformat_minor": 5
}
