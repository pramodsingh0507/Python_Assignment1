{
 "cells": [
  {
   "cell_type": "code",
   "execution_count": 1,
   "id": "ddb78795-c5f8-447a-82af-48bb401ac4a3",
   "metadata": {},
   "outputs": [],
   "source": [
    "#Ques 2 -  Describe the role of predefined keywords in Python and provide examples of how they are used in a program\n",
    "#Examples "
   ]
  },
  {
   "cell_type": "code",
   "execution_count": 2,
   "id": "45282d54-0276-4d92-b330-db835dcf8ffc",
   "metadata": {},
   "outputs": [
    {
     "name": "stdout",
     "output_type": "stream",
     "text": [
      "P\n",
      "r\n",
      "a\n",
      "m\n",
      "o\n",
      "d\n",
      "S\n",
      "i\n",
      "n\n",
      "g\n",
      "h\n"
     ]
    }
   ],
   "source": [
    "#  Example of For Loop\n",
    "\n",
    "for i in \"PramodSingh\":\n",
    "    print (i)\n",
    "    "
   ]
  },
  {
   "cell_type": "code",
   "execution_count": 3,
   "id": "1c4584b3-48ae-4a41-80c5-7a2d1520885e",
   "metadata": {},
   "outputs": [
    {
     "name": "stdout",
     "output_type": "stream",
     "text": [
      "DS_Course\n",
      "Python\n",
      "Data Structure\n"
     ]
    }
   ],
   "source": [
    "Books=[\"DS_Course\", \"Python\",\"Data Structure\"]\n",
    "for Book in Books:\n",
    "    print(Book)"
   ]
  },
  {
   "cell_type": "code",
   "execution_count": 4,
   "id": "9c6d11cd-1fa9-4cca-b893-93e0d84e9090",
   "metadata": {},
   "outputs": [
    {
     "name": "stdout",
     "output_type": "stream",
     "text": [
      "2\n",
      "4\n",
      "5\n",
      "6\n",
      "7\n",
      "if while run successfully\n"
     ]
    }
   ],
   "source": [
    "n=7\n",
    "i=1\n",
    "while i<7:\n",
    "    i=i+1\n",
    "    if i==3:\n",
    "        continue\n",
    "    print(i)\n",
    "else:\n",
    "    print(\"if while run successfully\")"
   ]
  },
  {
   "cell_type": "code",
   "execution_count": 5,
   "id": "a443fbf2-39a3-49a3-9cda-148398d24bdf",
   "metadata": {},
   "outputs": [
    {
     "name": "stdout",
     "output_type": "stream",
     "text": [
      "1\n",
      "23\n"
     ]
    }
   ],
   "source": [
    "l=[1,23,56,\"ajay\", \"pramod\"]\n",
    "for i in l:\n",
    "    if i==56:\n",
    "        break\n",
    "    print(i)\n",
    "else:\n",
    "    print(\"this block will be executed\")"
   ]
  },
  {
   "cell_type": "code",
   "execution_count": null,
   "id": "9c397072-211f-4c3f-b822-04c487f2cf77",
   "metadata": {},
   "outputs": [],
   "source": []
  },
  {
   "cell_type": "code",
   "execution_count": null,
   "id": "3f7ba89c-a479-400b-9376-af12648e0dda",
   "metadata": {},
   "outputs": [],
   "source": []
  },
  {
   "cell_type": "code",
   "execution_count": null,
   "id": "814c105e-5681-4929-a761-a23c32da39d0",
   "metadata": {},
   "outputs": [],
   "source": []
  },
  {
   "cell_type": "code",
   "execution_count": 6,
   "id": "8baf6130-b113-4803-b8c5-dca750e9b046",
   "metadata": {},
   "outputs": [],
   "source": [
    "# Ques 3 Ques 3- Compare and contrast mutable and immutable objects in Python with examples\n",
    "\n",
    "# Example Of Mutable Object "
   ]
  },
  {
   "cell_type": "code",
   "execution_count": 7,
   "id": "59965177-0b88-4709-a63d-f03d77f0d3c2",
   "metadata": {},
   "outputs": [],
   "source": [
    "l1= [\"Pramod\", \"Sunit\", 12,23.76, True, (6+8j)]\n"
   ]
  },
  {
   "cell_type": "code",
   "execution_count": 8,
   "id": "a336031e-1afa-4c4c-8417-5d76a5fbb0fc",
   "metadata": {},
   "outputs": [
    {
     "data": {
      "text/plain": [
       "['Pramod', 'Sunit', 12, 23.76, True, (6+8j)]"
      ]
     },
     "execution_count": 8,
     "metadata": {},
     "output_type": "execute_result"
    }
   ],
   "source": [
    "l1\n"
   ]
  },
  {
   "cell_type": "code",
   "execution_count": 9,
   "id": "09113ef5-3c75-401f-8c39-b5a6fa56dd86",
   "metadata": {},
   "outputs": [
    {
     "data": {
      "text/plain": [
       "['Pramod', 'Sunit', 12, 23.76, True, (6+8j), 'ajay']"
      ]
     },
     "execution_count": 9,
     "metadata": {},
     "output_type": "execute_result"
    }
   ],
   "source": [
    "l1.append(\"ajay\") # mutable object\n",
    "l1"
   ]
  },
  {
   "cell_type": "code",
   "execution_count": 10,
   "id": "130710ca-7a4f-48bb-8344-4a5e7b56e7bd",
   "metadata": {},
   "outputs": [
    {
     "data": {
      "text/plain": [
       "['Pramod', 'Potato', 'Sunit', 12, 23.76, True, (6+8j), 'ajay']"
      ]
     },
     "execution_count": 10,
     "metadata": {},
     "output_type": "execute_result"
    }
   ],
   "source": [
    "l1.insert(1,\"Potato\") # mutable object \n",
    "l1"
   ]
  },
  {
   "cell_type": "code",
   "execution_count": 13,
   "id": "7b8cf461-be89-4bff-9078-ccaed1d416b4",
   "metadata": {},
   "outputs": [],
   "source": [
    "#  Example of sets ( Mutable Object)\n",
    "\n",
    "s= {12,34,\"ajay\",False}\n",
    "s.remove(12)                     # 12 remove from the sets\n"
   ]
  },
  {
   "cell_type": "code",
   "execution_count": 14,
   "id": "21885708-6ca3-49b6-aa93-934627c17453",
   "metadata": {},
   "outputs": [
    {
     "data": {
      "text/plain": [
       "{34, False, 'ajay'}"
      ]
     },
     "execution_count": 14,
     "metadata": {},
     "output_type": "execute_result"
    }
   ],
   "source": [
    "s"
   ]
  },
  {
   "cell_type": "code",
   "execution_count": 15,
   "id": "97b9ac92-fda8-4b92-9a95-0e73d51e52e6",
   "metadata": {},
   "outputs": [],
   "source": [
    "#Example of Immutable objects \n",
    "\n"
   ]
  },
  {
   "cell_type": "code",
   "execution_count": 16,
   "id": "e39b1a4d-279f-4188-b058-0b76a4de9ceb",
   "metadata": {},
   "outputs": [
    {
     "data": {
      "text/plain": [
       "12"
      ]
     },
     "execution_count": 16,
     "metadata": {},
     "output_type": "execute_result"
    }
   ],
   "source": [
    "tuple1= (12,3.67, \"Pramod\", \"Mango\", True, 8+9j)\n",
    "tuple1[0]"
   ]
  },
  {
   "cell_type": "code",
   "execution_count": 17,
   "id": "7a5aa441-9c5c-432a-8323-4d977dad939a",
   "metadata": {},
   "outputs": [
    {
     "ename": "TypeError",
     "evalue": "'tuple' object does not support item assignment",
     "output_type": "error",
     "traceback": [
      "\u001b[0;31m---------------------------------------------------------------------------\u001b[0m",
      "\u001b[0;31mTypeError\u001b[0m                                 Traceback (most recent call last)",
      "Cell \u001b[0;32mIn[17], line 2\u001b[0m\n\u001b[1;32m      1\u001b[0m tuple1\u001b[38;5;241m=\u001b[39m (\u001b[38;5;241m12\u001b[39m,\u001b[38;5;241m3.67\u001b[39m, \u001b[38;5;124m\"\u001b[39m\u001b[38;5;124mPramod\u001b[39m\u001b[38;5;124m\"\u001b[39m, \u001b[38;5;124m\"\u001b[39m\u001b[38;5;124mMango\u001b[39m\u001b[38;5;124m\"\u001b[39m, \u001b[38;5;28;01mTrue\u001b[39;00m, \u001b[38;5;241m8\u001b[39m\u001b[38;5;241m+\u001b[39m\u001b[38;5;241m9\u001b[39mj)\n\u001b[0;32m----> 2\u001b[0m \u001b[43mtuple1\u001b[49m\u001b[43m[\u001b[49m\u001b[38;5;241;43m1\u001b[39;49m\u001b[43m]\u001b[49m\u001b[38;5;241m=\u001b[39m \u001b[38;5;124m\"\u001b[39m\u001b[38;5;124majay\u001b[39m\u001b[38;5;124m\"\u001b[39m  \u001b[38;5;66;03m# here we clearly see that tuple does not support assignmet operator\u001b[39;00m\n\u001b[1;32m      3\u001b[0m                    \u001b[38;5;66;03m## Tuples does not support add, remove and replace functions\u001b[39;00m\n",
      "\u001b[0;31mTypeError\u001b[0m: 'tuple' object does not support item assignment"
     ]
    }
   ],
   "source": [
    "tuple1= (12,3.67, \"Pramod\", \"Mango\", True, 8+9j)\n",
    "tuple1[1]= \"ajay\"  # here we clearly see that tuple does not support assignmet operator\n",
    "                   ## Tuples does not support add, remove and replace functions"
   ]
  },
  {
   "cell_type": "code",
   "execution_count": 18,
   "id": "cc3667c1-e7e4-427f-981e-326876e0781f",
   "metadata": {},
   "outputs": [
    {
     "data": {
      "text/plain": [
       "1"
      ]
     },
     "execution_count": 18,
     "metadata": {},
     "output_type": "execute_result"
    }
   ],
   "source": [
    "tuple1.count(\"Pramod\")"
   ]
  },
  {
   "cell_type": "code",
   "execution_count": 19,
   "id": "cff027ac-5fd3-4fc3-b250-a9b5116dd1d4",
   "metadata": {},
   "outputs": [
    {
     "data": {
      "text/plain": [
       "(12, 3.67, 'Pramod', 'Mango')"
      ]
     },
     "execution_count": 19,
     "metadata": {},
     "output_type": "execute_result"
    }
   ],
   "source": [
    "tuple1[0:4]"
   ]
  },
  {
   "cell_type": "code",
   "execution_count": null,
   "id": "d14bed1b-efca-42cb-90e1-91f76308a035",
   "metadata": {},
   "outputs": [],
   "source": []
  }
 ],
 "metadata": {
  "kernelspec": {
   "display_name": "Python 3 (ipykernel)",
   "language": "python",
   "name": "python3"
  },
  "language_info": {
   "codemirror_mode": {
    "name": "ipython",
    "version": 3
   },
   "file_extension": ".py",
   "mimetype": "text/x-python",
   "name": "python",
   "nbconvert_exporter": "python",
   "pygments_lexer": "ipython3",
   "version": "3.10.8"
  }
 },
 "nbformat": 4,
 "nbformat_minor": 5
}
