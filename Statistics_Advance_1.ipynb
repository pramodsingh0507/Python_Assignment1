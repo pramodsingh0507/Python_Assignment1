{
  "nbformat": 4,
  "nbformat_minor": 0,
  "metadata": {
    "colab": {
      "provenance": [],
      "authorship_tag": "ABX9TyM8+Y6CCePr9OybSeFmHgrm",
      "include_colab_link": true
    },
    "kernelspec": {
      "name": "python3",
      "display_name": "Python 3"
    },
    "language_info": {
      "name": "python"
    }
  },
  "cells": [
    {
      "cell_type": "markdown",
      "metadata": {
        "id": "view-in-github",
        "colab_type": "text"
      },
      "source": [
        "<a href=\"https://colab.research.google.com/github/pramodsingh0507/Python_Assignment1/blob/main/Statistics_Advance_1.ipynb\" target=\"_parent\"><img src=\"https://colab.research.google.com/assets/colab-badge.svg\" alt=\"Open In Colab\"/></a>"
      ]
    },
    {
      "cell_type": "code",
      "execution_count": null,
      "metadata": {
        "colab": {
          "base_uri": "https://localhost:8080/"
        },
        "id": "YvaZuyWjXgFn",
        "outputId": "53eea9df-8515-43a7-952b-f60646062f14"
      },
      "outputs": [
        {
          "output_type": "stream",
          "name": "stdout",
          "text": [
            "Variance of Profession A: 32.8\n",
            "Variance of Profession B: 15.7\n",
            "F-statistic: 2.089171974522293\n",
            "p-value: 0.49304859900533904\n",
            "Fail to reject the null hypothesis: The variances are not significantly different.\n"
          ]
        }
      ],
      "source": [
        "# Ques 8\n",
        "\n",
        "\n",
        "import numpy as np\n",
        "import scipy.stats as stats\n",
        "\n",
        "# Data for Profession A and Profession B\n",
        "profession_A = np.array([48, 52, 55, 60, 62])\n",
        "profession_B = np.array([45, 50, 55, 52, 47])\n",
        "\n",
        "# Calculate the sample variances for both professions\n",
        "var_A = np.var(profession_A, ddof=1)  # sample variance of Profession A\n",
        "var_B = np.var(profession_B, ddof=1)  # sample variance of Profession B\n",
        "\n",
        "# Calculate the F-statistic (larger variance in the numerator)\n",
        "F_statistic = var_A / var_B if var_A > var_B else var_B / var_A\n",
        "\n",
        "# Degrees of freedom for each group\n",
        "df_A = len(profession_A) - 1  # degrees of freedom for Profession A\n",
        "df_B = len(profession_B) - 1  # degrees of freedom for Profession B\n",
        "\n",
        "# Perform the F-test to get the p-value\n",
        "p_value = 2 * min(stats.f.cdf(F_statistic, df_A, df_B), 1 - stats.f.cdf(F_statistic, df_A, df_B))\n",
        "\n",
        "# Output the results\n",
        "print(f\"Variance of Profession A: {var_A}\")\n",
        "print(f\"Variance of Profession B: {var_B}\")\n",
        "print(f\"F-statistic: {F_statistic}\")\n",
        "print(f\"p-value: {p_value}\")\n",
        "\n",
        "# Conclusion based on p-value\n",
        "if p_value < 0.05:\n",
        "    print(\"Reject the null hypothesis: The variances are significantly different.\")\n",
        "else:\n",
        "    print(\"Fail to reject the null hypothesis: The variances are not significantly different.\")\n"
      ]
    },
    {
      "cell_type": "code",
      "source": [],
      "metadata": {
        "id": "QQXZuU9blOlh"
      },
      "execution_count": null,
      "outputs": []
    },
    {
      "cell_type": "code",
      "source": [],
      "metadata": {
        "id": "U09p9JMtlOZq"
      },
      "execution_count": null,
      "outputs": []
    },
    {
      "cell_type": "code",
      "source": [
        "# Ques 9\n",
        "\n",
        "\n",
        "import numpy as np\n",
        "import scipy.stats as stats\n",
        "\n",
        "# Data for the three regions\n",
        "region_A = np.array([160, 162, 165, 158, 164])\n",
        "region_B = np.array([172, 175, 170, 168, 174])\n",
        "region_C = np.array([180, 182, 179, 185, 183])\n",
        "\n",
        "# Perform one-way ANOVA\n",
        "F_statistic, p_value = stats.f_oneway(region_A, region_B, region_C)\n",
        "\n",
        "# Output the results\n",
        "print(f\"F-statistic: {F_statistic}\")\n",
        "print(f\"p-value: {p_value}\")\n",
        "\n",
        "# Conclusion based on p-value\n",
        "if p_value < 0.05:\n",
        "    print(\"Reject the null hypothesis: There are significant differences in the average heights between the regions.\")\n",
        "else:\n",
        "    print(\"Fail to reject the null hypothesis: There are no significant differences in the average heights between the regions.\")\n",
        "\n"
      ],
      "metadata": {
        "colab": {
          "base_uri": "https://localhost:8080/"
        },
        "id": "wFhOCH6rlOJs",
        "outputId": "ac41c0ed-b49d-4f24-ad70-be7d27399e58"
      },
      "execution_count": null,
      "outputs": [
        {
          "output_type": "stream",
          "name": "stdout",
          "text": [
            "F-statistic: 67.87330316742101\n",
            "p-value: 2.870664187937026e-07\n",
            "Reject the null hypothesis: There are significant differences in the average heights between the regions.\n"
          ]
        }
      ]
    },
    {
      "cell_type": "code",
      "source": [],
      "metadata": {
        "id": "4OLp-YUZmgtq"
      },
      "execution_count": null,
      "outputs": []
    },
    {
      "cell_type": "code",
      "source": [],
      "metadata": {
        "id": "S55z_9T7m4yZ"
      },
      "execution_count": null,
      "outputs": []
    }
  ]
}